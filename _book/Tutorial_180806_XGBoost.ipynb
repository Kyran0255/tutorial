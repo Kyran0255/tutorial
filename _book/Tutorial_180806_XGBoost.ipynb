{
  "nbformat": 4,
  "nbformat_minor": 0,
  "metadata": {
    "colab": {
      "name": "Tutorial_180807_XGBoost",
      "version": "0.3.2",
      "provenance": [],
      "collapsed_sections": [],
      "include_colab_link": true
    },
    "kernelspec": {
      "display_name": "Python 3",
      "language": "python",
      "name": "python3"
    }
  },
  "cells": [
    {
      "cell_type": "markdown",
      "metadata": {
        "id": "view-in-github",
        "colab_type": "text"
      },
      "source": [
        "[View in Colaboratory](https://colab.research.google.com/github/HeeYoungK/tutorial/blob/master/Tutorial_180807_XGBoost.ipynb)"
      ]
    },
    {
      "metadata": {
        "id": "kx5OpmeLhebj",
        "colab_type": "text"
      },
      "cell_type": "markdown",
      "source": [
        "# XGBoost 분산형 그래디언트 부스팅 알고리즘\n",
        "\n",
        "## 부스팅 알고리즘\n",
        "\n",
        "**: 약한 예측모형들을 결합하여 강한 예측모형을 만드는 알고리즘**\n",
        "\n",
        "- 배깅*(학습데이터를 랜덤으로 샘플링하여 여러개의 bag으로 분할하고, 각 bag별로 모델을 학습한 후, 각 결과를 합하여 최종 결과를 추출)*과 유사하게 초기 샘플데이터로 다수의 분류기를 만들지만 배깅과 다르게 순차적\n",
        "\n",
        "- 랜덤포레스트의 배깅과는 다르게 이전 트리의 오차를 보완하는 방식으로 순차적으로 트리를 만듦\n",
        "\n",
        " (Bagging에서 데이터를 단순히 샘플링해서 각 모델에 적용한다면, Boosting은 이전 모델들이 예측하지 못한 Error 데이터에 가중치를 부여하여, 다음 모델이 더 잘 예측하도록 함)\n",
        "\n",
        "- 결정트리(Decision Tree) 알고리즘의 연장선에 있음\n",
        "\n",
        "- 분류와 회귀에 사용할 수 있음\n",
        "\n",
        "- 무작위성이 없으며 강력한 사전 가지치기를 사용\n",
        "\n",
        "- 참고 : [앙상블(Ensemble)-부스팅(Boosting)][https://www.slideshare.net/freepsw/boosting-bagging-vs-boosting]\n",
        "\n",
        "- [boosting 기법 이해 (bagging vs boosting)][http://www.birc.co.kr/2017/02/06/%EC%95%99%EC%83%81%EB%B8%94ensemble-%EB%B6%80%EC%8A%A4%ED%8C%85boosting/]"
      ]
    },
    {
      "metadata": {
        "id": "8Y_yKb8PpmVC",
        "colab_type": "text"
      },
      "cell_type": "markdown",
      "source": [
        "# 국민청원 데이터로 청원 카테고리 분류하기\n",
        "### 기존 분류에 기타 카테고리를 다른 카테고리로 예측하는 코드 추가\n",
        "### XGBoost로 예측 추가\n",
        "* 청와대 국민청원 : https://www1.president.go.kr/petitions\n",
        "* 학습세트의 카테고리를 바탕으로 테스트 세트의 청원 카테고리를 분류해 봅니다.\n",
        "* `기타`로 설정된 카테고리를 텍스트 데이터로 예측해서 보정해 주고 다시 카테고리를 예측해 봅니다."
      ]
    },
    {
      "metadata": {
        "id": "4h5Q2r35pmVE",
        "colab_type": "text"
      },
      "cell_type": "markdown",
      "source": [
        "1. 학습세트와 테스트세트를 7:3으로 임의로 나누기\n",
        "1. 데이터 전처리\n",
        "1. 단어 벡터화(BOW, TF-IDF)\n",
        " *  기타 청원과 아닌 것 나누기\n",
        " *  기타 청원 분류하기\n",
        " * 예측값을 category_pred 컬럼에 넣어주기\n",
        "1. 분류기 설정하기(RF, XGB)\n",
        "1. 분류기로 학습시키기(RF, XGB)\n",
        "1. 학습의 정확도 보기(RF, XGB)\n",
        "1. 테스트 데이터 예측하기(RF, XGB)\n",
        "1. 실제 데이터와 예측결과의 차이를 보기(RF, XGB)"
      ]
    },
    {
      "metadata": {
        "id": "eXvFty89pmVN",
        "colab_type": "code",
        "colab": {
          "base_uri": "https://localhost:8080/",
          "height": 51
        },
        "outputId": "d9e9ce85-0e3e-4eca-966b-74bf1963a773"
      },
      "cell_type": "code",
      "source": [
        "import pandas as pd\n",
        "import numpy as np\n",
        "import re\n",
        "print(pd.__version__)\n",
        "print(np.__version__)"
      ],
      "execution_count": 0,
      "outputs": [
        {
          "output_type": "stream",
          "text": [
            "0.22.0\n",
            "1.14.5\n"
          ],
          "name": "stdout"
        }
      ]
    },
    {
      "metadata": {
        "id": "7UyXVdJWpJUZ",
        "colab_type": "code",
        "colab": {
          "base_uri": "https://localhost:8080/",
          "height": 513
        },
        "outputId": "97956d13-6ea1-4d96-b7b5-3d95f8f13fdc"
      },
      "cell_type": "code",
      "source": [
        "# 나눔글꼴 설치\n",
        "!apt install fonts-nanum\n",
        "\n",
        "# Plotnine 패키지 설치\n",
        "!pip install plotnine\n",
        "\n",
        "# 기본 글꼴 변경\n",
        "import matplotlib as mpl\n",
        "mpl.font_manager._rebuild()\n",
        "mpl.pyplot.rc('font', family='NanumBarunGothic')\n",
        "\n",
        "# 레티나 디스플레이 지원\n",
        "%config InlineBackend.figure_format = 'retina'"
      ],
      "execution_count": 0,
      "outputs": [
        {
          "output_type": "stream",
          "text": [
            "Reading package lists... Done\n",
            "Building dependency tree       \n",
            "Reading state information... Done\n",
            "fonts-nanum is already the newest version (20161025-1).\n",
            "0 upgraded, 0 newly installed, 0 to remove and 0 not upgraded.\n",
            "Requirement already satisfied: plotnine in /usr/local/lib/python3.6/dist-packages (0.4.0)\n",
            "Requirement already satisfied: patsy>=0.4.1 in /usr/local/lib/python3.6/dist-packages (from plotnine) (0.5.0)\n",
            "Requirement already satisfied: mizani>=0.4.5 in /usr/local/lib/python3.6/dist-packages (from plotnine) (0.4.6)\n",
            "Requirement already satisfied: statsmodels>=0.8.0 in /usr/local/lib/python3.6/dist-packages (from plotnine) (0.8.0)\n",
            "Requirement already satisfied: scipy>=1.0.0 in /usr/local/lib/python3.6/dist-packages (from plotnine) (1.1.0)\n",
            "Requirement already satisfied: pandas>=0.21.0 in /usr/local/lib/python3.6/dist-packages (from plotnine) (0.22.0)\n",
            "Requirement already satisfied: geopandas>=0.3.0 in /usr/local/lib/python3.6/dist-packages (from plotnine) (0.4.0)\n",
            "Requirement already satisfied: matplotlib>=2.1.0 in /usr/local/lib/python3.6/dist-packages (from plotnine) (2.1.2)\n",
            "Requirement already satisfied: six in /usr/local/lib/python3.6/dist-packages (from plotnine) (1.11.0)\n",
            "Requirement already satisfied: descartes>=1.1.0 in /usr/local/lib/python3.6/dist-packages (from plotnine) (1.1.0)\n",
            "Requirement already satisfied: numpy in /usr/local/lib/python3.6/dist-packages (from plotnine) (1.14.5)\n",
            "Requirement already satisfied: palettable in /usr/local/lib/python3.6/dist-packages (from mizani>=0.4.5->plotnine) (3.1.1)\n",
            "Requirement already satisfied: pytz>=2011k in /usr/local/lib/python3.6/dist-packages (from pandas>=0.21.0->plotnine) (2018.5)\n",
            "Requirement already satisfied: python-dateutil>=2 in /usr/local/lib/python3.6/dist-packages (from pandas>=0.21.0->plotnine) (2.5.3)\n",
            "Requirement already satisfied: pyproj in /usr/local/lib/python3.6/dist-packages (from geopandas>=0.3.0->plotnine) (1.9.5.1)\n",
            "Requirement already satisfied: fiona in /usr/local/lib/python3.6/dist-packages (from geopandas>=0.3.0->plotnine) (1.7.13)\n",
            "Requirement already satisfied: shapely in /usr/local/lib/python3.6/dist-packages (from geopandas>=0.3.0->plotnine) (1.6.4.post2)\n",
            "Requirement already satisfied: pyparsing!=2.0.4,!=2.1.2,!=2.1.6,>=2.0.1 in /usr/local/lib/python3.6/dist-packages (from matplotlib>=2.1.0->plotnine) (2.2.0)\n",
            "Requirement already satisfied: cycler>=0.10 in /usr/local/lib/python3.6/dist-packages (from matplotlib>=2.1.0->plotnine) (0.10.0)\n",
            "Requirement already satisfied: cligj>=0.4 in /usr/local/lib/python3.6/dist-packages (from fiona->geopandas>=0.3.0->plotnine) (0.4.0)\n",
            "Requirement already satisfied: click-plugins in /usr/local/lib/python3.6/dist-packages (from fiona->geopandas>=0.3.0->plotnine) (1.0.3)\n",
            "Requirement already satisfied: munch in /usr/local/lib/python3.6/dist-packages (from fiona->geopandas>=0.3.0->plotnine) (2.3.2)\n",
            "Requirement already satisfied: click>=4.0 in /usr/local/lib/python3.6/dist-packages (from cligj>=0.4->fiona->geopandas>=0.3.0->plotnine) (6.7)\n"
          ],
          "name": "stdout"
        }
      ]
    },
    {
      "metadata": {
        "id": "YpZmT6fFpmVS",
        "colab_type": "text"
      },
      "cell_type": "markdown",
      "source": [
        "# 데이터 로드하기"
      ]
    },
    {
      "metadata": {
        "id": "4dxVBGTYpmVU",
        "colab_type": "code",
        "colab": {
          "base_uri": "https://localhost:8080/",
          "height": 34
        },
        "outputId": "6f11d3f8-f971-4e16-a45e-1844ed32da3f"
      },
      "cell_type": "code",
      "source": [
        "# 크롤링해 온 국민청원 데이터를 판다스를 통해 읽어옵니다.\n",
        "petitions = pd.read_csv('https://s3.ap-northeast-2.amazonaws.com/data10902/petition/petition.csv',\n",
        "                        parse_dates=['start', 'end'])\n",
        "# 데이터의 크기가 어느정도인지 봅니다.\n",
        "petitions.shape"
      ],
      "execution_count": 0,
      "outputs": [
        {
          "output_type": "execute_result",
          "data": {
            "text/plain": [
              "(227695, 8)"
            ]
          },
          "metadata": {
            "tags": []
          },
          "execution_count": 17
        }
      ]
    },
    {
      "metadata": {
        "id": "aAaqek9FpmVa",
        "colab_type": "code",
        "colab": {
          "base_uri": "https://localhost:8080/",
          "height": 297
        },
        "outputId": "be11ad1c-8ac9-47c2-db20-2af03fe2fa89"
      },
      "cell_type": "code",
      "source": [
        "petitions.describe()"
      ],
      "execution_count": 0,
      "outputs": [
        {
          "output_type": "execute_result",
          "data": {
            "text/html": [
              "<div>\n",
              "<style scoped>\n",
              "    .dataframe tbody tr th:only-of-type {\n",
              "        vertical-align: middle;\n",
              "    }\n",
              "\n",
              "    .dataframe tbody tr th {\n",
              "        vertical-align: top;\n",
              "    }\n",
              "\n",
              "    .dataframe thead th {\n",
              "        text-align: right;\n",
              "    }\n",
              "</style>\n",
              "<table border=\"1\" class=\"dataframe\">\n",
              "  <thead>\n",
              "    <tr style=\"text-align: right;\">\n",
              "      <th></th>\n",
              "      <th>article_id</th>\n",
              "      <th>answered</th>\n",
              "      <th>votes</th>\n",
              "    </tr>\n",
              "  </thead>\n",
              "  <tbody>\n",
              "    <tr>\n",
              "      <th>count</th>\n",
              "      <td>227695.000000</td>\n",
              "      <td>227695.000000</td>\n",
              "      <td>227695.000000</td>\n",
              "    </tr>\n",
              "    <tr>\n",
              "      <th>mean</th>\n",
              "      <td>138271.072742</td>\n",
              "      <td>0.000119</td>\n",
              "      <td>150.342805</td>\n",
              "    </tr>\n",
              "    <tr>\n",
              "      <th>std</th>\n",
              "      <td>86707.420518</td>\n",
              "      <td>0.010889</td>\n",
              "      <td>4623.328120</td>\n",
              "    </tr>\n",
              "    <tr>\n",
              "      <th>min</th>\n",
              "      <td>21.000000</td>\n",
              "      <td>0.000000</td>\n",
              "      <td>0.000000</td>\n",
              "    </tr>\n",
              "    <tr>\n",
              "      <th>25%</th>\n",
              "      <td>59499.500000</td>\n",
              "      <td>0.000000</td>\n",
              "      <td>1.000000</td>\n",
              "    </tr>\n",
              "    <tr>\n",
              "      <th>50%</th>\n",
              "      <td>136585.000000</td>\n",
              "      <td>0.000000</td>\n",
              "      <td>3.000000</td>\n",
              "    </tr>\n",
              "    <tr>\n",
              "      <th>75%</th>\n",
              "      <td>211732.500000</td>\n",
              "      <td>0.000000</td>\n",
              "      <td>11.000000</td>\n",
              "    </tr>\n",
              "    <tr>\n",
              "      <th>max</th>\n",
              "      <td>294835.000000</td>\n",
              "      <td>1.000000</td>\n",
              "      <td>714875.000000</td>\n",
              "    </tr>\n",
              "  </tbody>\n",
              "</table>\n",
              "</div>"
            ],
            "text/plain": [
              "          article_id       answered          votes\n",
              "count  227695.000000  227695.000000  227695.000000\n",
              "mean   138271.072742       0.000119     150.342805\n",
              "std     86707.420518       0.010889    4623.328120\n",
              "min        21.000000       0.000000       0.000000\n",
              "25%     59499.500000       0.000000       1.000000\n",
              "50%    136585.000000       0.000000       3.000000\n",
              "75%    211732.500000       0.000000      11.000000\n",
              "max    294835.000000       1.000000  714875.000000"
            ]
          },
          "metadata": {
            "tags": []
          },
          "execution_count": 18
        }
      ]
    },
    {
      "metadata": {
        "id": "omKyvuTDpmVd",
        "colab_type": "code",
        "colab": {
          "base_uri": "https://localhost:8080/",
          "height": 34
        },
        "outputId": "d619dc8c-d941-4fce-a90b-a15ebbc0baf9"
      },
      "cell_type": "code",
      "source": [
        "# 전체 데이터 중 투표가 1000건 이상인 데이터를 기준으로 가져옵니다. \n",
        "df = petitions.loc[(petitions['votes'] > 1000)].copy()\n",
        "df.shape"
      ],
      "execution_count": 0,
      "outputs": [
        {
          "output_type": "execute_result",
          "data": {
            "text/plain": [
              "(2010, 8)"
            ]
          },
          "metadata": {
            "tags": []
          },
          "execution_count": 20
        }
      ]
    },
    {
      "metadata": {
        "id": "oq3asay70eOG",
        "colab_type": "text"
      },
      "cell_type": "markdown",
      "source": [
        ""
      ]
    },
    {
      "metadata": {
        "id": "VKgZY3l2pmVg",
        "colab_type": "code",
        "colab": {
          "base_uri": "https://localhost:8080/",
          "height": 297
        },
        "outputId": "f0681082-b1f9-47ae-b222-d7f2d0cdad30"
      },
      "cell_type": "code",
      "source": [
        "df.describe()"
      ],
      "execution_count": 0,
      "outputs": [
        {
          "output_type": "execute_result",
          "data": {
            "text/html": [
              "<div>\n",
              "<style scoped>\n",
              "    .dataframe tbody tr th:only-of-type {\n",
              "        vertical-align: middle;\n",
              "    }\n",
              "\n",
              "    .dataframe tbody tr th {\n",
              "        vertical-align: top;\n",
              "    }\n",
              "\n",
              "    .dataframe thead th {\n",
              "        text-align: right;\n",
              "    }\n",
              "</style>\n",
              "<table border=\"1\" class=\"dataframe\">\n",
              "  <thead>\n",
              "    <tr style=\"text-align: right;\">\n",
              "      <th></th>\n",
              "      <th>article_id</th>\n",
              "      <th>answered</th>\n",
              "      <th>votes</th>\n",
              "    </tr>\n",
              "  </thead>\n",
              "  <tbody>\n",
              "    <tr>\n",
              "      <th>count</th>\n",
              "      <td>2010.000000</td>\n",
              "      <td>2010.000000</td>\n",
              "      <td>2010.000000</td>\n",
              "    </tr>\n",
              "    <tr>\n",
              "      <th>mean</th>\n",
              "      <td>152622.447761</td>\n",
              "      <td>0.013433</td>\n",
              "      <td>14958.180597</td>\n",
              "    </tr>\n",
              "    <tr>\n",
              "      <th>std</th>\n",
              "      <td>83644.787773</td>\n",
              "      <td>0.115148</td>\n",
              "      <td>46912.679522</td>\n",
              "    </tr>\n",
              "    <tr>\n",
              "      <th>min</th>\n",
              "      <td>28.000000</td>\n",
              "      <td>0.000000</td>\n",
              "      <td>1002.000000</td>\n",
              "    </tr>\n",
              "    <tr>\n",
              "      <th>25%</th>\n",
              "      <td>77220.000000</td>\n",
              "      <td>0.000000</td>\n",
              "      <td>1595.250000</td>\n",
              "    </tr>\n",
              "    <tr>\n",
              "      <th>50%</th>\n",
              "      <td>159952.000000</td>\n",
              "      <td>0.000000</td>\n",
              "      <td>2899.000000</td>\n",
              "    </tr>\n",
              "    <tr>\n",
              "      <th>75%</th>\n",
              "      <td>221442.000000</td>\n",
              "      <td>0.000000</td>\n",
              "      <td>7634.750000</td>\n",
              "    </tr>\n",
              "    <tr>\n",
              "      <th>max</th>\n",
              "      <td>294761.000000</td>\n",
              "      <td>1.000000</td>\n",
              "      <td>714875.000000</td>\n",
              "    </tr>\n",
              "  </tbody>\n",
              "</table>\n",
              "</div>"
            ],
            "text/plain": [
              "          article_id     answered          votes\n",
              "count    2010.000000  2010.000000    2010.000000\n",
              "mean   152622.447761     0.013433   14958.180597\n",
              "std     83644.787773     0.115148   46912.679522\n",
              "min        28.000000     0.000000    1002.000000\n",
              "25%     77220.000000     0.000000    1595.250000\n",
              "50%    159952.000000     0.000000    2899.000000\n",
              "75%    221442.000000     0.000000    7634.750000\n",
              "max    294761.000000     1.000000  714875.000000"
            ]
          },
          "metadata": {
            "tags": []
          },
          "execution_count": 21
        }
      ]
    },
    {
      "metadata": {
        "id": "HFNWDHuLpmVl",
        "colab_type": "code",
        "colab": {
          "base_uri": "https://localhost:8080/",
          "height": 323
        },
        "outputId": "67778c19-073c-4baf-f7e1-85c2a937374d"
      },
      "cell_type": "code",
      "source": [
        "category_count = df['category'].value_counts()\n",
        "category_count"
      ],
      "execution_count": 0,
      "outputs": [
        {
          "output_type": "execute_result",
          "data": {
            "text/plain": [
              "인권/성평등         267\n",
              "육아/교육          213\n",
              "보건복지           200\n",
              "안전/환경          193\n",
              "정치개혁           183\n",
              "기타             157\n",
              "문화/예술/체육/언론    142\n",
              "교통/건축/국토       141\n",
              "행정              99\n",
              "외교/통일/국방        91\n",
              "일자리             89\n",
              "반려동물            79\n",
              "경제민주화           72\n",
              "미래              36\n",
              "성장동력            21\n",
              "저출산/고령화대책       16\n",
              "농산어촌            11\n",
              "Name: category, dtype: int64"
            ]
          },
          "metadata": {
            "tags": []
          },
          "execution_count": 22
        }
      ]
    },
    {
      "metadata": {
        "id": "vUz7YwH0pmVr",
        "colab_type": "code",
        "colab": {
          "base_uri": "https://localhost:8080/",
          "height": 357
        },
        "outputId": "431ca434-6c96-4620-fb93-a58254e468c5"
      },
      "cell_type": "code",
      "source": [
        "%matplotlib inline \n",
        "import matplotlib.pyplot as plt\n",
        "\n",
        "plt.rcParams[\"font.family\"] = 'NanumBarunGothic'\n",
        "category_count.plot(kind='bar')"
      ],
      "execution_count": 0,
      "outputs": [
        {
          "output_type": "execute_result",
          "data": {
            "text/plain": [
              "<matplotlib.axes._subplots.AxesSubplot at 0x7f91b745bb70>"
            ]
          },
          "metadata": {
            "tags": []
          },
          "execution_count": 23
        },
        {
          "output_type": "display_data",
          "data": {
            "image/png": "[encoded data removed]",
            "text/plain": [
              "<matplotlib.figure.Figure at 0x7f91b745b908>"
            ]
          },
          "metadata": {
            "tags": [],
            "image/png": {
              "width": 373,
              "height": 323
            }
          }
        }
      ]
    },
    {
      "metadata": {
        "id": "iOzEUbDmpmVu",
        "colab_type": "code",
        "colab": {}
      },
      "cell_type": "code",
      "source": [
        "# 예측값과 실제값 비교를 위해 컬럼을 하나 더 생성합니다.\n",
        "df['category_pred'] = df['category'].copy()"
      ],
      "execution_count": 0,
      "outputs": []
    },
    {
      "metadata": {
        "id": "TmbI_mJLpmVy",
        "colab_type": "code",
        "colab": {
          "base_uri": "https://localhost:8080/",
          "height": 374
        },
        "outputId": "374c0f05-b8f6-496c-c4f2-d107d0401ad5"
      },
      "cell_type": "code",
      "source": [
        "df.head()"
      ],
      "execution_count": 0,
      "outputs": [
        {
          "output_type": "execute_result",
          "data": {
            "text/html": [
              "<div>\n",
              "<style scoped>\n",
              "    .dataframe tbody tr th:only-of-type {\n",
              "        vertical-align: middle;\n",
              "    }\n",
              "\n",
              "    .dataframe tbody tr th {\n",
              "        vertical-align: top;\n",
              "    }\n",
              "\n",
              "    .dataframe thead th {\n",
              "        text-align: right;\n",
              "    }\n",
              "</style>\n",
              "<table border=\"1\" class=\"dataframe\">\n",
              "  <thead>\n",
              "    <tr style=\"text-align: right;\">\n",
              "      <th></th>\n",
              "      <th>article_id</th>\n",
              "      <th>start</th>\n",
              "      <th>end</th>\n",
              "      <th>answered</th>\n",
              "      <th>votes</th>\n",
              "      <th>category</th>\n",
              "      <th>title</th>\n",
              "      <th>content</th>\n",
              "      <th>category_pred</th>\n",
              "    </tr>\n",
              "  </thead>\n",
              "  <tbody>\n",
              "    <tr>\n",
              "      <th>7</th>\n",
              "      <td>28</td>\n",
              "      <td>2017-08-19</td>\n",
              "      <td>2017-08-26</td>\n",
              "      <td>0</td>\n",
              "      <td>2137</td>\n",
              "      <td>경제민주화</td>\n",
              "      <td>소액주주를 보호해주십시오</td>\n",
              "      <td>**  존경하옵는 문재인대통령님께\\n저는 중국원양자원이라는 KOSPI상장사의 소액 ...</td>\n",
              "      <td>경제민주화</td>\n",
              "    </tr>\n",
              "    <tr>\n",
              "      <th>21</th>\n",
              "      <td>43</td>\n",
              "      <td>2017-08-19</td>\n",
              "      <td>2017-09-18</td>\n",
              "      <td>0</td>\n",
              "      <td>11293</td>\n",
              "      <td>육아/교육</td>\n",
              "      <td>기간제 교사의 정규직화를 반대합니다.</td>\n",
              "      <td>대통령님, 안녕하세요. 저는 임용을 준비하고 수험생입니다. 처음 기간제 정규직화 된...</td>\n",
              "      <td>육아/교육</td>\n",
              "    </tr>\n",
              "    <tr>\n",
              "      <th>24</th>\n",
              "      <td>46</td>\n",
              "      <td>2017-08-19</td>\n",
              "      <td>2017-09-18</td>\n",
              "      <td>0</td>\n",
              "      <td>1933</td>\n",
              "      <td>육아/교육</td>\n",
              "      <td>기간제교사의 정규직화를 반대합니다.</td>\n",
              "      <td>대통령님, 안녕하세요. 저는 임용을 준비하고 수험생입니다. 처음 기간제 정규직화 된...</td>\n",
              "      <td>육아/교육</td>\n",
              "    </tr>\n",
              "    <tr>\n",
              "      <th>28</th>\n",
              "      <td>50</td>\n",
              "      <td>2017-08-19</td>\n",
              "      <td>2017-10-18</td>\n",
              "      <td>0</td>\n",
              "      <td>1251</td>\n",
              "      <td>일자리</td>\n",
              "      <td>치과위생사 국가고시 날짜 변경 억울합니다</td>\n",
              "      <td>안녕하십니까? 대통령님 간단하게 제소개 부터 하겠습니다. 저는 치위생과 3학년 학생...</td>\n",
              "      <td>일자리</td>\n",
              "    </tr>\n",
              "    <tr>\n",
              "      <th>38</th>\n",
              "      <td>61</td>\n",
              "      <td>2017-08-19</td>\n",
              "      <td>2017-08-26</td>\n",
              "      <td>0</td>\n",
              "      <td>1185</td>\n",
              "      <td>일자리</td>\n",
              "      <td>영어회화전문강사제도는 유지되어야합니다.</td>\n",
              "      <td>1. 영전강의고용안정을 원합니다\\n2.1년단위계약직으로 임신 출산육아 매우 곤란합니...</td>\n",
              "      <td>일자리</td>\n",
              "    </tr>\n",
              "  </tbody>\n",
              "</table>\n",
              "</div>"
            ],
            "text/plain": [
              "    article_id      start        end  answered  votes category  \\\n",
              "7           28 2017-08-19 2017-08-26         0   2137    경제민주화   \n",
              "21          43 2017-08-19 2017-09-18         0  11293    육아/교육   \n",
              "24          46 2017-08-19 2017-09-18         0   1933    육아/교육   \n",
              "28          50 2017-08-19 2017-10-18         0   1251      일자리   \n",
              "38          61 2017-08-19 2017-08-26         0   1185      일자리   \n",
              "\n",
              "                     title                                            content  \\\n",
              "7            소액주주를 보호해주십시오  **  존경하옵는 문재인대통령님께\\n저는 중국원양자원이라는 KOSPI상장사의 소액 ...   \n",
              "21    기간제 교사의 정규직화를 반대합니다.  대통령님, 안녕하세요. 저는 임용을 준비하고 수험생입니다. 처음 기간제 정규직화 된...   \n",
              "24     기간제교사의 정규직화를 반대합니다.  대통령님, 안녕하세요. 저는 임용을 준비하고 수험생입니다. 처음 기간제 정규직화 된...   \n",
              "28  치과위생사 국가고시 날짜 변경 억울합니다  안녕하십니까? 대통령님 간단하게 제소개 부터 하겠습니다. 저는 치위생과 3학년 학생...   \n",
              "38   영어회화전문강사제도는 유지되어야합니다.  1. 영전강의고용안정을 원합니다\\n2.1년단위계약직으로 임신 출산육아 매우 곤란합니...   \n",
              "\n",
              "   category_pred  \n",
              "7          경제민주화  \n",
              "21         육아/교육  \n",
              "24         육아/교육  \n",
              "28           일자리  \n",
              "38           일자리  "
            ]
          },
          "metadata": {
            "tags": []
          },
          "execution_count": 25
        }
      ]
    },
    {
      "metadata": {
        "id": "gq-r-pz7pmV2",
        "colab_type": "code",
        "colab": {
          "base_uri": "https://localhost:8080/",
          "height": 34
        },
        "outputId": "71cb5167-1f08-40d7-e6dc-1dc8fbdaccb6"
      },
      "cell_type": "code",
      "source": [
        "# 첫 번째 인덱스를 가져와 봅니다.\n",
        "sample_index = 7\n",
        "sample_index"
      ],
      "execution_count": 0,
      "outputs": [
        {
          "output_type": "execute_result",
          "data": {
            "text/plain": [
              "7"
            ]
          },
          "metadata": {
            "tags": []
          },
          "execution_count": 26
        }
      ]
    },
    {
      "metadata": {
        "id": "FuVkPDpBpmV6",
        "colab_type": "code",
        "colab": {
          "base_uri": "https://localhost:8080/",
          "height": 34
        },
        "outputId": "34eedada-9089-417e-a603-848bdf3b3435"
      },
      "cell_type": "code",
      "source": [
        "sample_title = df['title'][sample_index]\n",
        "sample_title"
      ],
      "execution_count": 0,
      "outputs": [
        {
          "output_type": "execute_result",
          "data": {
            "text/plain": [
              "'소액주주를 보호해주십시오'"
            ]
          },
          "metadata": {
            "tags": []
          },
          "execution_count": 27
        }
      ]
    },
    {
      "metadata": {
        "id": "erhIgpuepmV9",
        "colab_type": "code",
        "colab": {
          "base_uri": "https://localhost:8080/",
          "height": 54
        },
        "outputId": "ba3aba43-fded-45b1-f36a-293dee42f290"
      },
      "cell_type": "code",
      "source": [
        "sample_content = petitions['content'][sample_index]\n",
        "sample_content"
      ],
      "execution_count": 0,
      "outputs": [
        {
          "output_type": "execute_result",
          "data": {
            "text/plain": [
              "'**  존경하옵는 문재인대통령님께\\\\n저는 중국원양자원이라는 KOSPI상장사의 소액 주주입니다. 중국원양자원(이하 중원)은 이번 재회계감사에서 의견거절이라는 감사인 판단이 내려져 꿈에도 생각못한 상장폐지를 목전에 두고 있습니다.\\\\n상장폐지가되면 국내에 상장하여 천문학적인 금액을 취득하여 회사의 규모를 키우고 개인자산을 불린 후 자신의 지분도  다 팔아서 이득을 챙긴 중국인 장화리 사장은 정리매매때 휴지조각의 비용으로 자신의 지분을 다시 사들이고 대주주로서의 지위를 다시 획득하여 온전히 자신의 기업으로 만들수 있습니다.\\\\n결국 한국 국민들의 피땀어린 투자금으로 중국인 사장의 부를 채워주지만 이에 대해 한국의 금융당국 및 상장과 운영의 주체인 거래소는 누구도 이에대한 책임없이 이를 그냥 덮어버리고만 말것입니다.\\\\n이로인해 약 2만 5천의 국내소액주주는 피눈물을 흘리며 고통속에 살게 될 것입니다.\\\\n주식투자는 개인의 판단하에 이루어지는 것이나 투자에 대한 개인의 책임을 묻기전에 그 과정은 규정과 상식에 맞게 공정하고 정의로워야 할 것입니다. 이는 존경하는 문대통령님의 말씀이라 가슴깊이 새기고 있었으나 현재 우리나라의 금융 시스템, 특히 거래소와 회계감사는 그렇지 못한 것 같습니다.\\\\n이렇게 생각하게된 이유는 이번 회계감사의 주된 의견거절의 이유 때문입니다\\\\n이번 신한회계법인의 추측적이고 터무니없는 의견거절로 전재산이 한순간에 물거품으로 사라질 위기에 처한 본인을 비롯한 많은 사람들이 죽음이라는 극단적인 선택앞에 내몰려져 억울함과 원통함에 피눈물을 흘리고 있습니다. .\\\\n기업의 사업성이나 계속 존속여부를 점검하는 감사자인 회계법인은 오직 밝혀진 사실과 그에 따른 증거만을 근거로 공정하게 기업의 존속여부에 대한 의견을 내야하고 유추할 경우에도 당연히 관련 법이나 판례에 근거하여야 합니다.\\\\n그러나 신한회계법인은 법또는 제도권으로 확정되지 않은 추정사항을 의견거절의\\'결정적 이유\\'로 명시하였는바 이는 감사자의 \\'의견거절\\'에 따른 참혹한 결과로 볼때 25000명의 국민들과 그 가족들은 공정한 감사결과라 절대로 인정할수 없습니다.\\\\n이런 고통의 원인은 법 제도나 규정에 근거를 두지 않고 자의적인 추측에 따라 작성, 발표한 감사인의 감사보고서 \"의견 거절\" 때문입니다. 한국 증권거래소에 상장된 중국원양자원에 투자한 우리 국민 25,000명과 수많은 가족들은 부당한 감사인의 의견 거절로 절망에 처하고 삶의 의욕과 희망을 모두 잃어가고 있습니다.\\\\n분명 투자는 개개인의 책임입니다.\\\\n그런데 최근 언론을 통해 중대하게 다루어졌듯이 국민 노후를 책임지는 국민연금 역시 증권 시장의 공정성과 투명성에 크게 의존하고 있습니다. 때문에 증권 시장의 공정성과 투명성이 확보되지 않으면, 증권시장에 의존하여 국민의 노후를 책임지는 국민연금 역시 국민의 재산을 지켜낼 수 없고 결국에는 이리저리 부당하게 뜯겨나가서 몇 줌 안 되는 푼돈만 국민들에게 남을 것입니다. 마찬가지로 은행, 증권, 보험사를 통해 어떤 형태로든 금융 상품에 가입되어 있는 수많은 금융 소비자 역시 이런 불공정한 금융 질서의 피해자가 될 수밖에 없습니다. 이런 심대한 피해를 입힐 수 있는 증권시장의 부당함이 우리 금융시장에 새로운 전례로 남게 될 일을 앞두고 있습니다. 한 번 이런 불공정성이 뿌리내리면 그 부당함은 우리나라 금융 시장에서 독버섯처럼 세력을 뻗어나갈 것입니다. 국민 2만 5천 명의 재산이 몰수되도록 하는 회계 감사 법인의 부당한 감사 의견이 개인 투자자 2만 5천 명들의 피눈물로만 끝나지 않을 이유가 여기에 있습니다.\\\\n기업 회계 기록의 적정성이나 회사의 계속 존속 여부를 점검하는 회계 감사 법인은 오직 밝혀진 사실과 이를 뒷받침하는 증거를 근거로 회계 장부가 공정하게 기록되었는지 의견을 표명해야 하고, 추정이 필요할 경우에도 회계 기준에서 규정하고 있는 방법을 준수해야 한다고 명시되어 있습니다. 왜냐하면 회계 감사 의견 자체가 기업의 사활을 결정지을 수 있는 대출 가능 여부, 회사채 발행 가능 여부, 증권 시장에서 상장 유지와 상장 폐지에 있어서 결정적이기 때문입니다.\\\\n그러나 신한회계법인은 어떤 규정이나 법에도 근거를 두지 않고 추측과 예단을 감사 의견 거절의 \\'결정적 근거\\'로 명시하였는 바, 이는 감사인의 \\'의견거절\\'로 인해 25,000명의 재산이 부당한 상장 폐지로 몰수되는 참혹한 결과에 비추어 볼 때 너무도 무책임하며 법적 근거를 갖추지 못한 심각하게 불공정한 처사로 25,000명의 국민들과 그 가족들은 적법한 감사 결과로 절대 인정할 수 없습니다.\\\\n감사인 (신한회계법인)이 감사 의견을 \"거절\"로 표명한 근거는 3가지입니다.\\\\n(1) 증권선물위원회의 올 해 7월 정례 회의에서 회사 대표이사를 검찰에 고발하기로 결의한 것.\\\\n(2) 우발부채와 소송사건이 재무제표에 미칠 영향에 대하여 충분한 감사 증거를 회사에서 제공하지 않았다는 것.\\\\n(3) 유동부채가 유동자산보다 1,282,797,603 HKD 많고 (1,999억 원) 자본금이 222,176,074 HKD 잠식 (346억 원)되었다는 것.\\\\n사유의 부당함을 하나씩 짚어보겠습니다.\\\\n의견 거절 사유 (1)은 증권선물위원회 회의에서 중국원양자원 대표이사 고발을 1달 전 (7월 19일) 결의한 것을 감사 의견 거절의 근거로 내세웠습니다. 2011년부터 매년 2차례씩 회사 내부 서류를 샅샅히 들여다보며 매 반기와 연말 감사를 직접 수행하고 총 12차례에 걸쳐 회계 장부가 적정하게 작성되었다고 적정 의견을 표명했던 회계 감사인이 (신한회계법인) 법원의 유죄 판결도 아니고 검찰의 기소도 아닌 \\'검찰 고발 결의\\'를 1달 전에 증권선물위원회가 했던 것을 사유로 작년 말 기준 작성되었던 회사의 회계 장부를 믿지 못하는 이유라고 내세웠습니다.\\\\n2011년부터 매년 2차례씩 회계 장부와 증빙 서류를 샅샅히 확인하고 조사, 검토한 회계 법인이 손에 넣고 직접 눈으로 확인했던 그 많은 증빙 서류들은 놔둔 채, 상급 감독기관의 회의에서 대표이사 검찰에 고발 결의 사항을 감사 의견 거절의 근거로 삼은 것입니다. 지난 6년 동안 12차례의 감사 과정에 입수했던 수 많은 회계 서류로는 감사 \"의견 거절\"을 표명할 수 없었지만, 상급 감독기관에서 대표이사 검찰 고발을 결의한 결정을 사유로 감사 의견 거절을 낸 것에 주목해주시기 바랍니다.\\\\n더구나 우리나라 증권 시장의 전례를 보았을 때 대표이사가 검찰에 고발되어 실제로 3억 원의 벌금형을 선고받은 셀트리온의 경우 회사의 감사 의견에는 전혀 영향이 없었던 점에서 감사인의 의견 거절 사유 (1)은 법이나 규정에 전혀 근거를 두지 않은 내용입니다.\\\\n의견 거절 사유 (2) 역시 회사 (법인)에 대한 우발부채 및 소송사건이 아닌 회사의 대표이사 개인에 대한 우발부채와 소송사건을 문제 삼은 것으로, 회사 측과 감사인 (신한회계법인)이 각각 회사가 있는 외국 현지 로펌을 선임해 의견서를 제출받은 결과, 회사 측 로펌에서 문제가 없다는 의견을 낸 바 있습니다.\\\\n의견 거절 사유 (3)은 자본잠식 (자본잠식률 12%)이 회계 감사 의견 표명과는 무관함에도 불구하고 감사 의견 거절 사유로 내세웠습니다. 한 편 KRX 한국거래소에서는 자본잠식률 50% 이상 2년 연속 유지될 경우를 상장 폐지 사유로 규정하고 있습니다. 감사 의견 거절 사유로 12%의 자본잠식을 내세우는 것은 어디에서도 근거를 찾을 수 없는 처사입니다. 지금도 코스닥 시장에는 53개사의 부분 자본 잠식 회사들이 등록되어 있습니다.\\\\n또한 올 해 4월에는 유동부채의 유동자산 초과액이 1,999억 원에서 85억 원으로 줄어드는 후속 사건이 있었습니다. 그런데 감사인은 감사 시점 7개월 뒤인 올 7월에 생긴 후속 사건은 감사 의견 거절 사유로 전면에 내세우면서도 그보다 3달 앞서 있었던 후속 사건은 감사 의견에 전혀 반영하지 않고 있습니다. 규정에 맞지 않는 근거를 내세우면서 그마저도 형평성을 크게 잃은, 부당한 감사 의견입니다.\\\\n국내 주주 25,000명의 재산 합계 수 천억 원이 하루 아침에 없어질 상황에 놓인 중국원양자원의 상장 폐지 여부는 감사인의 감사 의견에 의해 결정됩니다. 감사인 신한회계법인은 2011년부터 6년 동안 의심의 눈초리로 국내의 통상적인 회계 감사보다 훨씬 엄격하게 감사를 수행해왔고, 그 엄격한 잣대에도 회사의 회계 장부에서는 오점이 발견되지 않았습니다. 그런데 지난 6년 동안의 감사에서 수집했던 증거로는 \"감사 의견 거절\" 표명을 하지 못했던 감사인이 법이나 제도에 근거하지 않은 부당한 의견 거절 표명으로 국내 투자자 25,000명의 생계를 사지에 몰아넣고 있습니다.\\\\n회사는 현재 지난 약 3년간 선원의 파업과 어업조황의 악화 및 낮은 어가로 인해 좋은 실적을 못내었고 동시에 이러한 악조건속에서 선단수를 늘리는 모험을 감행해 더 적자폭이 늘어났습니다. 그러나 현재 어가가 회복되고 있고 늘어난 조업선단이 자리잡아  장화리사장은 올 하반기부터는 500억 이상의 순이익을 자신하고 그에따른 순이익의 20% 배당을 기대하고 있었으며 또한, 우리나라를 포함 전세계적으로 원양어업의 환경이 좋아지고 있으며,\\\\n원양업체들의 매출및 이익이 전년대비 향상되고 있습니다.\\\\n이런 와중에 이러한 부적절하고 정당하지 못하며 형평에 맞지않는 재감사 결과로 인해 상장주체인 거래소에서 대한민국에 상장시킨 “중국원양자원” 이라는 회사에\\\\n원양어업의 발전 가능성을 보고 투자한, 수십년간 성실히 살면서 아끼고 아껴서\\\\n모은 소액주주들의 소중한 재산이 한순간에 휴지조각이 될 현실에 처해 너무나도 가슴이 아프며, 소액주주들의 삶 자체가 존폐위기에 놓여 있습니다.\\\\n거래소의 심리 제도는 날선 칼날처럼 예리해야 하지만 한편으로는 투명성(공정성)과 보편성(정당성), 형평성을 유지하여 미래의 성장성이 인정되는 기업이 도태되거나 어느한쪽이 일방적으로 억울하게 피해을 당하는 일이 없도록 하는 방패의 역할도 함께 수행해야 한다고 생각 합니다.\\\\n중국원양자원 에서 과거에 일어났던 일련의 사건에 대해서만 집중하고 미래에 그려나갈 모습들에 대해서는 상대적으로 등한시 특히나, 투자자들의 권익과 입장에\\\\n대해서는 가장 후순위로 밀어놓고 이에 대한 투자자들의 의견이나 읍소에선 아랑곳하지 않는다면, 대다수의 국민들은 누굴믿고 투자를 하겠습니까.\\\\n현재 상장폐지제도에서 “투자자보호” 라고 하는 기치에 맞게 진정한 투자자보호를\\\\n위하여 공정하고 형평성있는 심사가 이루어질수 있도록 간청 드립니다.\\\\n또한, 무엇보다 재감사결과에 대한 공정한 정정을 원하며\\\\n만에하나 이루어지지않는다면\\\\n최소한 대한민국 국민인 소액주주들의 피해를 최소화하기위해 거래소 당국자분들께서 개선기간을 1년이상 다시 부여해주시는 융통성을 발휘해주시기를 바랍니다.\\\\n1년이상의 개선기간 부여로 인해 국민의 어떠한 추가적인 다른 피해는 없으면서 회사가 약속한 이익의 개선이 이루어지기를 바랄수 있고 최악의 경우 회사의 실적이 돌이킬수 없게되더라도 주총에서 장화리 사장의 해임등 안을 모색해서 국부의 유출을 막을 수 있기 때문입니다. 대한민국의 투자자를 위한 거래소라면 최소한의 억울한 투자자 피해를 막기위한 이러한 결정은 당연히 이뤄져야할 것이라고 믿습니다.\\\\n부디 한 소시민의 눈물어린 목소리에 귀기울여 주시고 대통령님이 바라시는 정의로운 사회에 맞는 판단을 해 주실것을 온 마음을 다해 부탁드립니다.\\\\n긴글 읽어주셔서 감사합니다.'"
            ]
          },
          "metadata": {
            "tags": []
          },
          "execution_count": 28
        }
      ]
    },
    {
      "metadata": {
        "id": "a0CB4AhTpmWB",
        "colab_type": "text"
      },
      "cell_type": "markdown",
      "source": [
        "# 전처리 하기 "
      ]
    },
    {
      "metadata": {
        "id": "Aauv2uNvpmWC",
        "colab_type": "code",
        "colab": {}
      },
      "cell_type": "code",
      "source": [
        "def preprocessing(text):\n",
        "    # 개행문자 제거\n",
        "    text= str(text)\n",
        "    text = re.sub('\\\\\\\\n', ' ', text)\n",
        "    # 특수문자 제거\n",
        "    # 특수문자나 이모티콘 등은 때로는 의미를 갖기도 하지만 여기에서는 제거했습니다.\n",
        "    # text = re.sub('[?.,;:|\\)*~`’!^\\-_+<>@\\#$%&-=#}※]', '', text)\n",
        "    # 한글, 영문, 숫자만 남기고 모두 제거하도록 합니다.\n",
        "    # text = re.sub('[^가-힣ㄱ-ㅎㅏ-ㅣa-zA-Z0-9]', ' ', text)\n",
        "    # 한글, 영문만 남기고 모두 제거하도록 합니다.\n",
        "    text = re.sub('[^가-힣ㄱ-ㅎㅏ-ㅣa-zA-Z]', ' ', text)\n",
        "    return text"
      ],
      "execution_count": 0,
      "outputs": []
    },
    {
      "metadata": {
        "id": "onVaMtd5pmWF",
        "colab_type": "code",
        "colab": {}
      },
      "cell_type": "code",
      "source": [
        "# 불용어 제거\n",
        "def remove_stopwords(text):\n",
        "    tokens = text.split(' ')\n",
        "    stops = ['수', '그', '있는', '있습니다','년도', '합니다', '하는', '및', '제', '할', '하고', '더', '대한', '한', '그리고', '월', '저는', '없는', '입니다', '등', '일', '많은', '이런', '것은', '왜','같은', '같습니다', '없습니다', '위해', '한다']\n",
        "    meaningful_words = [w for w in tokens if not w in stops]\n",
        "    return ' '.join(meaningful_words)"
      ],
      "execution_count": 0,
      "outputs": []
    },
    {
      "metadata": {
        "id": "TcBpQjtrpmWI",
        "colab_type": "code",
        "colab": {}
      },
      "cell_type": "code",
      "source": [
        "# 샘플데이터에 적용\n",
        "pre_sample_content = preprocessing(sample_content)"
      ],
      "execution_count": 0,
      "outputs": []
    },
    {
      "metadata": {
        "id": "YAcJOkuppmWM",
        "colab_type": "code",
        "colab": {}
      },
      "cell_type": "code",
      "source": [
        "pre_sample_content = remove_stopwords(pre_sample_content)"
      ],
      "execution_count": 0,
      "outputs": []
    },
    {
      "metadata": {
        "id": "KBSf8-ZcpmWO",
        "colab_type": "code",
        "colab": {
          "base_uri": "https://localhost:8080/",
          "height": 54
        },
        "outputId": "d600c6e3-2385-46b6-ac75-b5d99780db7a"
      },
      "cell_type": "code",
      "source": [
        "pre_sample_content"
      ],
      "execution_count": 0,
      "outputs": [
        {
          "output_type": "execute_result",
          "data": {
            "text/plain": [
              "'    존경하옵는 문재인대통령님께 중국원양자원이라는 KOSPI상장사의 소액 주주입니다  중국원양자원 이하 중원 은 이번 재회계감사에서 의견거절이라는 감사인 판단이 내려져 꿈에도 생각못한 상장폐지를 목전에 두고  상장폐지가되면 국내에 상장하여 천문학적인 금액을 취득하여 회사의 규모를 키우고 개인자산을 불린 후 자신의 지분도  다 팔아서 이득을 챙긴 중국인 장화리 사장은 정리매매때 휴지조각의 비용으로 자신의 지분을 다시 사들이고 대주주로서의 지위를 다시 획득하여 온전히 자신의 기업으로 만들수  결국 한국 국민들의 피땀어린 투자금으로 중국인 사장의 부를 채워주지만 이에 대해 한국의 금융당국 상장과 운영의 주체인 거래소는 누구도 이에대한 책임없이 이를 그냥 덮어버리고만 말것입니다  이로인해 약  만  천의 국내소액주주는 피눈물을 흘리며 고통속에 살게 될 것입니다  주식투자는 개인의 판단하에 이루어지는 것이나 투자에 개인의 책임을 묻기전에 과정은 규정과 상식에 맞게 공정하고 정의로워야 것입니다  이는 존경하는 문대통령님의 말씀이라 가슴깊이 새기고 있었으나 현재 우리나라의 금융 시스템  특히 거래소와 회계감사는 그렇지 못한 것  이렇게 생각하게된 이유는 이번 회계감사의 주된 의견거절의 이유 때문입니다 이번 신한회계법인의 추측적이고 터무니없는 의견거절로 전재산이 한순간에 물거품으로 사라질 위기에 처한 본인을 비롯한 사람들이 죽음이라는 극단적인 선택앞에 내몰려져 억울함과 원통함에 피눈물을 흘리고    기업의 사업성이나 계속 존속여부를 점검하는 감사자인 회계법인은 오직 밝혀진 사실과 그에 따른 증거만을 근거로 공정하게 기업의 존속여부에 의견을 내야하고 유추할 경우에도 당연히 관련 법이나 판례에 근거하여야  그러나 신한회계법인은 법또는 제도권으로 확정되지 않은 추정사항을 의견거절의 결정적 이유 로 명시하였는바 이는 감사자의  의견거절 에 따른 참혹한 결과로 볼때      명의 국민들과 가족들은 공정한 감사결과라 절대로 인정할수  고통의 원인은 법 제도나 규정에 근거를 두지 않고 자의적인 추측에 따라 작성  발표한 감사인의 감사보고서  의견 거절  때문입니다  한국 증권거래소에 상장된 중국원양자원에 투자한 우리 국민       명과 수많은 가족들은 부당한 감사인의 의견 거절로 절망에 처하고 삶의 의욕과 희망을 모두 잃어가고  분명 투자는 개개인의 책임입니다  그런데 최근 언론을 통해 중대하게 다루어졌듯이 국민 노후를 책임지는 국민연금 역시 증권 시장의 공정성과 투명성에 크게 의존하고  때문에 증권 시장의 공정성과 투명성이 확보되지 않으면  증권시장에 의존하여 국민의 노후를 책임지는 국민연금 역시 국민의 재산을 지켜낼 없고 결국에는 이리저리 부당하게 뜯겨나가서 몇 줌 안 되는 푼돈만 국민들에게 남을 것입니다  마찬가지로 은행  증권  보험사를 통해 어떤 형태로든 금융 상품에 가입되어 수많은 금융 소비자 역시 불공정한 금융 질서의 피해자가 될 수밖에  심대한 피해를 입힐 증권시장의 부당함이 우리 금융시장에 새로운 전례로 남게 될 일을 앞두고  번 불공정성이 뿌리내리면 부당함은 우리나라 금융 시장에서 독버섯처럼 세력을 뻗어나갈 것입니다  국민  만  천 명의 재산이 몰수되도록 회계 감사 법인의 부당한 감사 의견이 개인 투자자  만  천 명들의 피눈물로만 끝나지 않을 이유가 여기에  기업 회계 기록의 적정성이나 회사의 계속 존속 여부를 점검하는 회계 감사 법인은 오직 밝혀진 사실과 이를 뒷받침하는 증거를 근거로 회계 장부가 공정하게 기록되었는지 의견을 표명해야  추정이 필요할 경우에도 회계 기준에서 규정하고 방법을 준수해야 한다고 명시되어  왜냐하면 회계 감사 의견 자체가 기업의 사활을 결정지을 대출 가능 여부  회사채 발행 가능 여부  증권 시장에서 상장 유지와 상장 폐지에 있어서 결정적이기 때문입니다  그러나 신한회계법인은 어떤 규정이나 법에도 근거를 두지 않고 추측과 예단을 감사 의견 거절의  결정적 근거 로 명시하였는 바  이는 감사인의  의견거절 로 인해       명의 재산이 부당한 상장 폐지로 몰수되는 참혹한 결과에 비추어 볼 때 너무도 무책임하며 법적 근거를 갖추지 못한 심각하게 불공정한 처사로       명의 국민들과 가족들은 적법한 감사 결과로 절대 인정할  감사인  신한회계법인 이 감사 의견을  거절 로 표명한 근거는  가지입니다      증권선물위원회의 올 해  정례 회의에서 회사 대표이사를 검찰에 고발하기로 결의한 것      우발부채와 소송사건이 재무제표에 미칠 영향에 대하여 충분한 감사 증거를 회사에서 제공하지 않았다는 것      유동부채가 유동자산보다               HKD 많고       억 원  자본금이             HKD 잠식     억 원 되었다는 것  사유의 부당함을 하나씩 짚어보겠습니다  의견 거절 사유    은 증권선물위원회 회의에서 중국원양자원 대표이사 고발을  달 전      결의한 것을 감사 의견 거절의 근거로 내세웠습니다      년부터 매년  차례씩 회사 내부 서류를 샅샅히 들여다보며 매 반기와 연말 감사를 직접 수행하고 총   차례에 걸쳐 회계 장부가 적정하게 작성되었다고 적정 의견을 표명했던 회계 감사인이  신한회계법인  법원의 유죄 판결도 아니고 검찰의 기소도 아닌  검찰 고발 결의 를  달 전에 증권선물위원회가 했던 것을 사유로 작년 말 기준 작성되었던 회사의 회계 장부를 믿지 못하는 이유라고 내세웠습니다      년부터 매년  차례씩 회계 장부와 증빙 서류를 샅샅히 확인하고 조사  검토한 회계 법인이 손에 넣고 직접 눈으로 확인했던 증빙 서류들은 놔둔 채  상급 감독기관의 회의에서 대표이사 검찰에 고발 결의 사항을 감사 의견 거절의 근거로 삼은 것입니다  지난  년 동안   차례의 감사 과정에 입수했던 회계 서류로는 감사  의견 거절 을 표명할 없었지만  상급 감독기관에서 대표이사 검찰 고발을 결의한 결정을 사유로 감사 의견 거절을 낸 것에 주목해주시기 바랍니다  더구나 우리나라 증권 시장의 전례를 보았을 때 대표이사가 검찰에 고발되어 실제로  억 원의 벌금형을 선고받은 셀트리온의 경우 회사의 감사 의견에는 전혀 영향이 없었던 점에서 감사인의 의견 거절 사유    은 법이나 규정에 전혀 근거를 두지 않은 내용입니다  의견 거절 사유     역시 회사  법인 에 우발부채 소송사건이 아닌 회사의 대표이사 개인에 우발부채와 소송사건을 문제 삼은 것으로  회사 측과 감사인  신한회계법인 이 각각 회사가 외국 현지 로펌을 선임해 의견서를 제출받은 결과  회사 측 로펌에서 문제가 없다는 의견을 낸 바  의견 거절 사유    은 자본잠식  자본잠식률     이 회계 감사 의견 표명과는 무관함에도 불구하고 감사 의견 거절 사유로 내세웠습니다  편 KRX 한국거래소에서는 자본잠식률     이상  년 연속 유지될 경우를 상장 폐지 사유로 규정하고  감사 의견 거절 사유로    의 자본잠식을 내세우는 어디에서도 근거를 찾을 처사입니다  지금도 코스닥 시장에는   개사의 부분 자본 잠식 회사들이 등록되어  또한 올 해  월에는 유동부채의 유동자산 초과액이      억 원에서   억 원으로 줄어드는 후속 사건이 있었습니다  그런데 감사인은 감사 시점  개월 뒤인 올  월에 생긴 후속 사건은 감사 의견 거절 사유로 전면에 내세우면서도 그보다  달 앞서 있었던 후속 사건은 감사 의견에 전혀 반영하지 않고  규정에 맞지 않는 근거를 내세우면서 그마저도 형평성을 크게 잃은  부당한 감사 의견입니다  국내 주주       명의 재산 합계 천억 원이 하루 아침에 없어질 상황에 놓인 중국원양자원의 상장 폐지 여부는 감사인의 감사 의견에 의해 결정됩니다  감사인 신한회계법인은     년부터  년 동안 의심의 눈초리로 국내의 통상적인 회계 감사보다 훨씬 엄격하게 감사를 수행해왔고  엄격한 잣대에도 회사의 회계 장부에서는 오점이 발견되지 않았습니다  그런데 지난  년 동안의 감사에서 수집했던 증거로는  감사 의견 거절  표명을 하지 못했던 감사인이 법이나 제도에 근거하지 않은 부당한 의견 거절 표명으로 국내 투자자       명의 생계를 사지에 몰아넣고  회사는 현재 지난 약  년간 선원의 파업과 어업조황의 악화 낮은 어가로 인해 좋은 실적을 못내었고 동시에 이러한 악조건속에서 선단수를 늘리는 모험을 감행해 적자폭이 늘어났습니다  그러나 현재 어가가 회복되고 있고 늘어난 조업선단이 자리잡아  장화리사장은 올 하반기부터는    억 이상의 순이익을 자신하고 그에따른 순이익의     배당을 기대하고 있었으며 또한  우리나라를 포함 전세계적으로 원양어업의 환경이 좋아지고 있으며  원양업체들의 매출및 이익이 전년대비 향상되고  와중에 이러한 부적절하고 정당하지 못하며 형평에 맞지않는 재감사 결과로 인해 상장주체인 거래소에서 대한민국에 상장시킨  중국원양자원  이라는 회사에 원양어업의 발전 가능성을 보고 투자한  수십년간 성실히 살면서 아끼고 아껴서 모은 소액주주들의 소중한 재산이 한순간에 휴지조각이 될 현실에 처해 너무나도 가슴이 아프며  소액주주들의 삶 자체가 존폐위기에 놓여  거래소의 심리 제도는 날선 칼날처럼 예리해야 하지만 한편으로는 투명성 공정성 과 보편성 정당성   형평성을 유지하여 미래의 성장성이 인정되는 기업이 도태되거나 어느한쪽이 일방적으로 억울하게 피해을 당하는 일이 없도록 방패의 역할도 함께 수행해야 한다고 생각  중국원양자원 에서 과거에 일어났던 일련의 사건에 대해서만 집중하고 미래에 그려나갈 모습들에 대해서는 상대적으로 등한시 특히나  투자자들의 권익과 입장에 대해서는 가장 후순위로 밀어놓고 이에 투자자들의 의견이나 읍소에선 아랑곳하지 않는다면  대다수의 국민들은 누굴믿고 투자를 하겠습니까  현재 상장폐지제도에서  투자자보호  라고 기치에 맞게 진정한 투자자보호를 위하여 공정하고 형평성있는 심사가 이루어질수 있도록 간청 드립니다  또한  무엇보다 재감사결과에 공정한 정정을 원하며 만에하나 이루어지지않는다면 최소한 대한민국 국민인 소액주주들의 피해를 최소화하기위해 거래소 당국자분들께서 개선기간을  년이상 다시 부여해주시는 융통성을 발휘해주시기를 바랍니다   년이상의 개선기간 부여로 인해 국민의 어떠한 추가적인 다른 피해는 없으면서 회사가 약속한 이익의 개선이 이루어지기를 바랄수 있고 최악의 경우 회사의 실적이 돌이킬수 없게되더라도 주총에서 장화리 사장의 해임등 안을 모색해서 국부의 유출을 막을 있기 때문입니다  대한민국의 투자자를 위한 거래소라면 최소한의 억울한 투자자 피해를 막기위한 이러한 결정은 당연히 이뤄져야할 것이라고 믿습니다  부디 소시민의 눈물어린 목소리에 귀기울여 주시고 대통령님이 바라시는 정의로운 사회에 맞는 판단을 해 주실것을 온 마음을 다해 부탁드립니다  긴글 읽어주셔서 감사합니다 '"
            ]
          },
          "metadata": {
            "tags": []
          },
          "execution_count": 33
        }
      ]
    },
    {
      "metadata": {
        "id": "LkeGoX4wpmWW",
        "colab_type": "code",
        "colab": {
          "base_uri": "https://localhost:8080/",
          "height": 51
        },
        "outputId": "b66f2e36-1dc5-4292-a705-68c9162de0ec"
      },
      "cell_type": "code",
      "source": [
        "%time df['content_preprocessing'] = df['content'].apply(preprocessing)"
      ],
      "execution_count": 0,
      "outputs": [
        {
          "output_type": "stream",
          "text": [
            "CPU times: user 164 ms, sys: 677 µs, total: 165 ms\n",
            "Wall time: 166 ms\n"
          ],
          "name": "stdout"
        }
      ]
    },
    {
      "metadata": {
        "id": "sNpC85TOpmWa",
        "colab_type": "code",
        "colab": {
          "base_uri": "https://localhost:8080/",
          "height": 51
        },
        "outputId": "2ffbf00a-6ee4-40e5-8d25-e2af6271d596"
      },
      "cell_type": "code",
      "source": [
        "%time df['content_preprocessing2'] = df['content_preprocessing'].apply(remove_stopwords)"
      ],
      "execution_count": 0,
      "outputs": [
        {
          "output_type": "stream",
          "text": [
            "CPU times: user 346 ms, sys: 0 ns, total: 346 ms\n",
            "Wall time: 345 ms\n"
          ],
          "name": "stdout"
        }
      ]
    },
    {
      "metadata": {
        "id": "Rb2cdryipmWd",
        "colab_type": "text"
      },
      "cell_type": "markdown",
      "source": [
        "# 기계학습으로 기타 제거하기\n",
        "* 기타로 분류된 청원중에 특정 카테고리로 분류해 주면 좀 더 정확도가 높아질 것이라는 가설을 세워봅니다.\n",
        "* 따라서 기타로 분류된 청원을 다른 청원을 바탕으로 학습시켜 분류해 봅니다."
      ]
    },
    {
      "metadata": {
        "id": "D-UmwD6XpmWe",
        "colab_type": "code",
        "colab": {}
      },
      "cell_type": "code",
      "source": [
        "df['category_pred'] = df['category'].copy()"
      ],
      "execution_count": 0,
      "outputs": []
    },
    {
      "metadata": {
        "id": "KD7SGJ2rpmWg",
        "colab_type": "code",
        "colab": {
          "base_uri": "https://localhost:8080/",
          "height": 51
        },
        "outputId": "41d8cf5d-7133-4b9e-9d79-2e4000bd4369"
      },
      "cell_type": "code",
      "source": [
        "df_not_etc = df.loc[df['category'] != '기타'].copy()\n",
        "df_etc = df.loc[df['category'] == '기타'].copy()\n",
        "print(df_not_etc.shape)\n",
        "print(df_etc.shape)"
      ],
      "execution_count": 0,
      "outputs": [
        {
          "output_type": "stream",
          "text": [
            "(1853, 11)\n",
            "(157, 11)\n"
          ],
          "name": "stdout"
        }
      ]
    },
    {
      "metadata": {
        "id": "36HOAj3FpmWk",
        "colab_type": "text"
      },
      "cell_type": "markdown",
      "source": [
        "## 기타 청원 분류하기 벡터화\n",
        "* tfidf 를 사용해 벡터화 "
      ]
    },
    {
      "metadata": {
        "id": "WEnmRQfppmWn",
        "colab_type": "code",
        "colab": {}
      },
      "cell_type": "code",
      "source": [
        "from sklearn.feature_extraction.text import CountVectorizer"
      ],
      "execution_count": 0,
      "outputs": []
    },
    {
      "metadata": {
        "id": "Wggx9aE_pmWt",
        "colab_type": "code",
        "colab": {
          "base_uri": "https://localhost:8080/",
          "height": 156
        },
        "outputId": "bf560779-2785-4891-f8d1-e74e85fc395f"
      },
      "cell_type": "code",
      "source": [
        "=stops = ['and', 'article', 'html', '수', '현', '있는', '있습니다', '그', '년도', '합니다', '하는', '및', '제', '할', '하고', '더', '대한', '한', '그리고', '월', '저는', '없는', '입니다', '등', '일', '많은', '이런', '것은', '왜','같은', '같습니다', '없습니다', '위해', '한다']\n",
        "vectorizer = CountVectorizer(analyzer = 'word', # 캐릭터 단위로 벡터화 할 수도 있습니다.\n",
        "                             tokenizer = None, # 토크나이저를 따로 지정해 줄 수도 있습니다.\n",
        "                             preprocessor = None, # 전처리 도구\n",
        "                             stop_words = stops, # 불용어 nltk등의 도구를 사용할 수도 있습니다.\n",
        "                             min_df = 2, # 토큰이 나타날 최소 문서 개수로 오타나 자주 나오지 않는 특수한 전문용어 제거에 좋다. \n",
        "                             ngram_range=(1, 3), # BOW의 단위를 1~3개로 지정합니다.\n",
        "                             max_features = 2000 # 만들 피처의 수, 단어의 수가 된다.\n",
        "                            )\n",
        "vectorizer"
      ],
      "execution_count": 0,
      "outputs": [
        {
          "output_type": "execute_result",
          "data": {
            "text/plain": [
              "CountVectorizer(analyzer='word', binary=False, decode_error='strict',\n",
              "        dtype=<class 'numpy.int64'>, encoding='utf-8', input='content',\n",
              "        lowercase=True, max_df=1.0, max_features=2000, min_df=2,\n",
              "        ngram_range=(1, 3), preprocessor=None,\n",
              "        stop_words=['and', 'article', 'html', '수', '현', '있는', '있습니다', '그', '년도', '합니다', '하는', '및', '제', '할', '하고', '더', '대한', '한', '그리고', '월', '저는', '없는', '입니다', '등', '일', '많은', '이런', '것은', '왜', '같은', '같습니다', '없습니다', '위해', '한다'],\n",
              "        strip_accents=None, token_pattern='(?u)\\\\b\\\\w\\\\w+\\\\b',\n",
              "        tokenizer=None, vocabulary=None)"
            ]
          },
          "metadata": {
            "tags": []
          },
          "execution_count": 42
        }
      ]
    },
    {
      "metadata": {
        "id": "a1ul3DjqpmWx",
        "colab_type": "code",
        "colab": {
          "base_uri": "https://localhost:8080/",
          "height": 51
        },
        "outputId": "f623a6e6-86bb-4646-a505-ca6ea944ab25"
      },
      "cell_type": "code",
      "source": [
        "%%time \n",
        "df_not_etc_vector = vectorizer.fit_transform(df_not_etc['content_preprocessing2'])\n",
        "df_not_etc_vector.shape"
      ],
      "execution_count": 0,
      "outputs": [
        {
          "output_type": "stream",
          "text": [
            "CPU times: user 6.27 s, sys: 190 ms, total: 6.46 s\n",
            "Wall time: 6.46 s\n"
          ],
          "name": "stdout"
        }
      ]
    },
    {
      "metadata": {
        "id": "tdjCu6dQpmW2",
        "colab_type": "code",
        "colab": {
          "base_uri": "https://localhost:8080/",
          "height": 51
        },
        "outputId": "53adabf8-5ac3-4c06-a644-fd929217c358"
      },
      "cell_type": "code",
      "source": [
        "%%time \n",
        "df_etc_vector = vectorizer.fit_transform(df_etc['content_preprocessing2'])\n",
        "df_etc_vector.shape"
      ],
      "execution_count": 0,
      "outputs": [
        {
          "output_type": "stream",
          "text": [
            "CPU times: user 520 ms, sys: 9.1 ms, total: 529 ms\n",
            "Wall time: 529 ms\n"
          ],
          "name": "stdout"
        }
      ]
    },
    {
      "metadata": {
        "id": "d65EsMz6pmW9",
        "colab_type": "code",
        "colab": {
          "base_uri": "https://localhost:8080/",
          "height": 51
        },
        "outputId": "c2fa90af-4794-4894-a3d1-3eb551069f5d"
      },
      "cell_type": "code",
      "source": [
        "from sklearn.feature_extraction.text import TfidfTransformer\n",
        "transformer = TfidfTransformer(smooth_idf=False)\n",
        "transformer"
      ],
      "execution_count": 0,
      "outputs": [
        {
          "output_type": "execute_result",
          "data": {
            "text/plain": [
              "TfidfTransformer(norm='l2', smooth_idf=False, sublinear_tf=False,\n",
              "         use_idf=True)"
            ]
          },
          "metadata": {
            "tags": []
          },
          "execution_count": 45
        }
      ]
    },
    {
      "metadata": {
        "id": "SAivpvaOpmXA",
        "colab_type": "code",
        "colab": {
          "base_uri": "https://localhost:8080/",
          "height": 51
        },
        "outputId": "a8230d91-df22-49cd-c1a2-a626c1af91d3"
      },
      "cell_type": "code",
      "source": [
        "%%time \n",
        "df_not_etc_tfidf = transformer.fit_transform(df_not_etc_vector)\n",
        "df_not_etc_tfidf.shape"
      ],
      "execution_count": 0,
      "outputs": [
        {
          "output_type": "stream",
          "text": [
            "CPU times: user 5.43 ms, sys: 700 µs, total: 6.13 ms\n",
            "Wall time: 6.13 ms\n"
          ],
          "name": "stdout"
        }
      ]
    },
    {
      "metadata": {
        "id": "n71S0JFKpmXE",
        "colab_type": "code",
        "colab": {
          "base_uri": "https://localhost:8080/",
          "height": 51
        },
        "outputId": "0bec05d9-fa83-4aa0-a7a9-d978a524b823"
      },
      "cell_type": "code",
      "source": [
        "%%time \n",
        "df_etc_tfidf = transformer.fit_transform(df_etc_vector)\n",
        "df_etc_tfidf.shape"
      ],
      "execution_count": 0,
      "outputs": [
        {
          "output_type": "stream",
          "text": [
            "CPU times: user 2.43 ms, sys: 2.1 ms, total: 4.53 ms\n",
            "Wall time: 5.18 ms\n"
          ],
          "name": "stdout"
        }
      ]
    },
    {
      "metadata": {
        "id": "UBOkn73-pmXJ",
        "colab_type": "text"
      },
      "cell_type": "markdown",
      "source": [
        "## 기타 청원 분류하기"
      ]
    },
    {
      "metadata": {
        "id": "7WvzlnE4pmXJ",
        "colab_type": "code",
        "colab": {
          "base_uri": "https://localhost:8080/",
          "height": 136
        },
        "outputId": "7809e495-c0dc-45ec-8817-4fbb3cc98042"
      },
      "cell_type": "code",
      "source": [
        "from sklearn.ensemble import RandomForestClassifier\n",
        "\n",
        "# 랜덤포레스트 분류기를 사용\n",
        "forest = RandomForestClassifier(\n",
        "    n_estimators = 100, n_jobs = -1, random_state=2018)\n",
        "forest"
      ],
      "execution_count": 0,
      "outputs": [
        {
          "output_type": "execute_result",
          "data": {
            "text/plain": [
              "RandomForestClassifier(bootstrap=True, class_weight=None, criterion='gini',\n",
              "            max_depth=None, max_features='auto', max_leaf_nodes=None,\n",
              "            min_impurity_decrease=0.0, min_impurity_split=None,\n",
              "            min_samples_leaf=1, min_samples_split=2,\n",
              "            min_weight_fraction_leaf=0.0, n_estimators=100, n_jobs=-1,\n",
              "            oob_score=False, random_state=2018, verbose=0,\n",
              "            warm_start=False)"
            ]
          },
          "metadata": {
            "tags": []
          },
          "execution_count": 49
        }
      ]
    },
    {
      "metadata": {
        "id": "XtXIOl-CpmXO",
        "colab_type": "code",
        "colab": {
          "base_uri": "https://localhost:8080/",
          "height": 51
        },
        "outputId": "b4ad63ed-0045-49d7-cc90-7ca9d13767af"
      },
      "cell_type": "code",
      "source": [
        "# 학습에 사용할 y_label 을 넣어줍니다.\n",
        "# 어떤 분야의 청원인지 예측할 것이기 때문에 category를 넣어줍니다.\n",
        "y_label = df_not_etc['category']\n",
        "%time forest = forest.fit(df_not_etc_tfidf, y_label)"
      ],
      "execution_count": 0,
      "outputs": [
        {
          "output_type": "stream",
          "text": [
            "CPU times: user 3.89 s, sys: 13.9 ms, total: 3.91 s\n",
            "Wall time: 2.1 s\n"
          ],
          "name": "stdout"
        }
      ]
    },
    {
      "metadata": {
        "id": "VY8GLZ2JpmXR",
        "colab_type": "code",
        "colab": {
          "base_uri": "https://localhost:8080/",
          "height": 34
        },
        "outputId": "0641ab16-4373-4648-a901-b2ae88893fde"
      },
      "cell_type": "code",
      "source": [
        "# 테스트 데이터를 넣고 예측합니다.\n",
        "y_pred = forest.predict(df_etc_tfidf)\n",
        "y_pred[:3]"
      ],
      "execution_count": 0,
      "outputs": [
        {
          "output_type": "execute_result",
          "data": {
            "text/plain": [
              "array(['육아/교육', '반려동물', '인권/성평등'], dtype=object)"
            ]
          },
          "metadata": {
            "tags": []
          },
          "execution_count": 51
        }
      ]
    },
    {
      "metadata": {
        "id": "LaEv2xsipmXY",
        "colab_type": "code",
        "colab": {
          "base_uri": "https://localhost:8080/",
          "height": 221
        },
        "outputId": "6720f3c5-5ad2-489e-de73-02f18fb0a14e"
      },
      "cell_type": "code",
      "source": [
        "df_etc['category_pred'] = y_pred\n",
        "df_etc['category_pred'].value_counts()"
      ],
      "execution_count": 0,
      "outputs": [
        {
          "output_type": "execute_result",
          "data": {
            "text/plain": [
              "인권/성평등         44\n",
              "육아/교육          31\n",
              "정치개혁           21\n",
              "안전/환경          18\n",
              "보건복지           17\n",
              "반려동물           11\n",
              "경제민주화           6\n",
              "일자리             4\n",
              "교통/건축/국토        3\n",
              "외교/통일/국방        1\n",
              "문화/예술/체육/언론     1\n",
              "Name: category_pred, dtype: int64"
            ]
          },
          "metadata": {
            "tags": []
          },
          "execution_count": 53
        }
      ]
    },
    {
      "metadata": {
        "id": "sOph9TmipmXe",
        "colab_type": "text"
      },
      "cell_type": "markdown",
      "source": [
        "## 기타 청원 분류 결과의 일부를 미리보기"
      ]
    },
    {
      "metadata": {
        "id": "d4iZB8XTpmXg",
        "colab_type": "code",
        "colab": {
          "base_uri": "https://localhost:8080/",
          "height": 529
        },
        "outputId": "7d1f061f-40d0-4c4b-bb23-eb7a7586fde3"
      },
      "cell_type": "code",
      "source": [
        "df_etc[['votes', 'title', 'content', 'category', 'category_pred']].head(10)"
      ],
      "execution_count": 0,
      "outputs": [
        {
          "output_type": "execute_result",
          "data": {
            "text/html": [
              "<div>\n",
              "<style scoped>\n",
              "    .dataframe tbody tr th:only-of-type {\n",
              "        vertical-align: middle;\n",
              "    }\n",
              "\n",
              "    .dataframe tbody tr th {\n",
              "        vertical-align: top;\n",
              "    }\n",
              "\n",
              "    .dataframe thead th {\n",
              "        text-align: right;\n",
              "    }\n",
              "</style>\n",
              "<table border=\"1\" class=\"dataframe\">\n",
              "  <thead>\n",
              "    <tr style=\"text-align: right;\">\n",
              "      <th></th>\n",
              "      <th>votes</th>\n",
              "      <th>title</th>\n",
              "      <th>content</th>\n",
              "      <th>category</th>\n",
              "      <th>category_pred</th>\n",
              "    </tr>\n",
              "  </thead>\n",
              "  <tbody>\n",
              "    <tr>\n",
              "      <th>345</th>\n",
              "      <td>1126</td>\n",
              "      <td>문재인 대통령 기념 시계도 판매하라.</td>\n",
              "      <td>문재인 대통령 싸인이 들어간 기념 시계를 판매용으로 전환하여 주세요. SNS상의 국...</td>\n",
              "      <td>기타</td>\n",
              "      <td>육아/교육</td>\n",
              "    </tr>\n",
              "    <tr>\n",
              "      <th>487</th>\n",
              "      <td>2749</td>\n",
              "      <td>2017년 10월 원천세 신고기한 및 9월분 전자세금계산서 발행기한일을 10월 13...</td>\n",
              "      <td>2017년 추석연휴 및 10월 2일 임시공휴일 지정이 확정됨에 따라 10월 초에 법...</td>\n",
              "      <td>기타</td>\n",
              "      <td>반려동물</td>\n",
              "    </tr>\n",
              "    <tr>\n",
              "      <th>12747</th>\n",
              "      <td>1841</td>\n",
              "      <td>억울한죽음으로 돌아가신 고 이길연집배원의 순직을요구합니다</td>\n",
              "      <td>9월5일 서광주우체국에 근속중이신 고 이길연집배원 저희아버지가 자택에서 홀로목숨을끈...</td>\n",
              "      <td>기타</td>\n",
              "      <td>인권/성평등</td>\n",
              "    </tr>\n",
              "    <tr>\n",
              "      <th>15456</th>\n",
              "      <td>1705</td>\n",
              "      <td>화훼도매시장 출입에 대한 출입증 발급을 청원합니다</td>\n",
              "      <td>화훼쪽에 종사하고 있는 사람입니다\\n김영란법이 터지고 나서 뉴스를 보면 양재화훼시장...</td>\n",
              "      <td>기타</td>\n",
              "      <td>인권/성평등</td>\n",
              "    </tr>\n",
              "    <tr>\n",
              "      <th>17150</th>\n",
              "      <td>1078</td>\n",
              "      <td>TNS홀딩스 강태욱 대표 사기 횡령 사건 해결을 부탁드립니다.</td>\n",
              "      <td>안녕하세요\\n영등포구에 거주하는 30살 직장인입니다.\\n2014년부터 알고지낸 재무...</td>\n",
              "      <td>기타</td>\n",
              "      <td>인권/성평등</td>\n",
              "    </tr>\n",
              "    <tr>\n",
              "      <th>19072</th>\n",
              "      <td>123530</td>\n",
              "      <td>'일간베스트'사이트를 폐지해주세요</td>\n",
              "      <td>국민들을 불편하게하고, 주변에 민폐를 끼치기로 유명한 일베는 사회적이슈로도 자주 떠...</td>\n",
              "      <td>기타</td>\n",
              "      <td>외교/통일/국방</td>\n",
              "    </tr>\n",
              "    <tr>\n",
              "      <th>22162</th>\n",
              "      <td>2452</td>\n",
              "      <td>경찰들의 성교육 이수 및 가중처벌</td>\n",
              "      <td>최근 경찰의 성폭행 성추행 성희롱등 그 주체가 범죄를 다루고 있는 경찰이된 사건들이...</td>\n",
              "      <td>기타</td>\n",
              "      <td>안전/환경</td>\n",
              "    </tr>\n",
              "    <tr>\n",
              "      <th>22375</th>\n",
              "      <td>2684</td>\n",
              "      <td>튜닝카 법 개정</td>\n",
              "      <td>차량튜닝에대한 법 개정이 필요할것같습니다. 요즘 튜닝사업이 확대되는 시대 입니다. ...</td>\n",
              "      <td>기타</td>\n",
              "      <td>인권/성평등</td>\n",
              "    </tr>\n",
              "    <tr>\n",
              "      <th>22551</th>\n",
              "      <td>2278</td>\n",
              "      <td>을지대학교병원지부 노동조합 파업사태 해결 촉구</td>\n",
              "      <td>문재인 대통령께\\n안녕하세요 대통령님, 저는 대전 을지대학교병원에 근무하는 병원노동...</td>\n",
              "      <td>기타</td>\n",
              "      <td>보건복지</td>\n",
              "    </tr>\n",
              "    <tr>\n",
              "      <th>23292</th>\n",
              "      <td>1470</td>\n",
              "      <td>우리나라 법은 도대체 누구를 위한 법입니까 법 개선과 피해자를 위한 제도마련이 필요...</td>\n",
              "      <td>안녕하세요 .\\n오늘도 국민들을 위해 나라에 힘써주시느라 너무나 고생이 많으십니다....</td>\n",
              "      <td>기타</td>\n",
              "      <td>육아/교육</td>\n",
              "    </tr>\n",
              "  </tbody>\n",
              "</table>\n",
              "</div>"
            ],
            "text/plain": [
              "        votes                                              title  \\\n",
              "345      1126                               문재인 대통령 기념 시계도 판매하라.   \n",
              "487      2749  2017년 10월 원천세 신고기한 및 9월분 전자세금계산서 발행기한일을 10월 13...   \n",
              "12747    1841                    억울한죽음으로 돌아가신 고 이길연집배원의 순직을요구합니다   \n",
              "15456    1705                        화훼도매시장 출입에 대한 출입증 발급을 청원합니다   \n",
              "17150    1078                 TNS홀딩스 강태욱 대표 사기 횡령 사건 해결을 부탁드립니다.   \n",
              "19072  123530                                 '일간베스트'사이트를 폐지해주세요   \n",
              "22162    2452                                 경찰들의 성교육 이수 및 가중처벌   \n",
              "22375    2684                                           튜닝카 법 개정   \n",
              "22551    2278                          을지대학교병원지부 노동조합 파업사태 해결 촉구   \n",
              "23292    1470  우리나라 법은 도대체 누구를 위한 법입니까 법 개선과 피해자를 위한 제도마련이 필요...   \n",
              "\n",
              "                                                 content category  \\\n",
              "345    문재인 대통령 싸인이 들어간 기념 시계를 판매용으로 전환하여 주세요. SNS상의 국...       기타   \n",
              "487    2017년 추석연휴 및 10월 2일 임시공휴일 지정이 확정됨에 따라 10월 초에 법...       기타   \n",
              "12747  9월5일 서광주우체국에 근속중이신 고 이길연집배원 저희아버지가 자택에서 홀로목숨을끈...       기타   \n",
              "15456  화훼쪽에 종사하고 있는 사람입니다\\n김영란법이 터지고 나서 뉴스를 보면 양재화훼시장...       기타   \n",
              "17150  안녕하세요\\n영등포구에 거주하는 30살 직장인입니다.\\n2014년부터 알고지낸 재무...       기타   \n",
              "19072  국민들을 불편하게하고, 주변에 민폐를 끼치기로 유명한 일베는 사회적이슈로도 자주 떠...       기타   \n",
              "22162  최근 경찰의 성폭행 성추행 성희롱등 그 주체가 범죄를 다루고 있는 경찰이된 사건들이...       기타   \n",
              "22375  차량튜닝에대한 법 개정이 필요할것같습니다. 요즘 튜닝사업이 확대되는 시대 입니다. ...       기타   \n",
              "22551  문재인 대통령께\\n안녕하세요 대통령님, 저는 대전 을지대학교병원에 근무하는 병원노동...       기타   \n",
              "23292  안녕하세요 .\\n오늘도 국민들을 위해 나라에 힘써주시느라 너무나 고생이 많으십니다....       기타   \n",
              "\n",
              "      category_pred  \n",
              "345           육아/교육  \n",
              "487            반려동물  \n",
              "12747        인권/성평등  \n",
              "15456        인권/성평등  \n",
              "17150        인권/성평등  \n",
              "19072      외교/통일/국방  \n",
              "22162         안전/환경  \n",
              "22375        인권/성평등  \n",
              "22551          보건복지  \n",
              "23292         육아/교육  "
            ]
          },
          "metadata": {
            "tags": []
          },
          "execution_count": 54
        }
      ]
    },
    {
      "metadata": {
        "id": "nDQb-FZppmXi",
        "colab_type": "text"
      },
      "cell_type": "markdown",
      "source": [
        "## 기타 카테고리로 분류한 데이터를 다시 합쳐 줍니다. "
      ]
    },
    {
      "metadata": {
        "id": "hcZfDSxJpmXi",
        "colab_type": "code",
        "colab": {
          "base_uri": "https://localhost:8080/",
          "height": 34
        },
        "outputId": "0a9a0b9a-8b84-45c0-9414-90f4233e0a9a"
      },
      "cell_type": "code",
      "source": [
        "df2 = pd.concat([df_not_etc, df_etc])\n",
        "df2.shape"
      ],
      "execution_count": 0,
      "outputs": [
        {
          "output_type": "execute_result",
          "data": {
            "text/plain": [
              "(2010, 11)"
            ]
          },
          "metadata": {
            "tags": []
          },
          "execution_count": 56
        }
      ]
    },
    {
      "metadata": {
        "id": "B1cMS4uopmXm",
        "colab_type": "code",
        "colab": {
          "base_uri": "https://localhost:8080/",
          "height": 306
        },
        "outputId": "e20ac0df-8ce6-4ef3-ca66-bc3922b9943d"
      },
      "cell_type": "code",
      "source": [
        "df2['category_pred'].value_counts()"
      ],
      "execution_count": 0,
      "outputs": [
        {
          "output_type": "execute_result",
          "data": {
            "text/plain": [
              "인권/성평등         311\n",
              "육아/교육          244\n",
              "보건복지           217\n",
              "안전/환경          211\n",
              "정치개혁           204\n",
              "교통/건축/국토       144\n",
              "문화/예술/체육/언론    143\n",
              "행정              99\n",
              "일자리             93\n",
              "외교/통일/국방        92\n",
              "반려동물            90\n",
              "경제민주화           78\n",
              "미래              36\n",
              "성장동력            21\n",
              "저출산/고령화대책       16\n",
              "농산어촌            11\n",
              "Name: category_pred, dtype: int64"
            ]
          },
          "metadata": {
            "tags": []
          },
          "execution_count": 57
        }
      ]
    },
    {
      "metadata": {
        "id": "lHyoTuCbpmXx",
        "colab_type": "text"
      },
      "cell_type": "markdown",
      "source": [
        "# 학습세트와 테스트세트 만들기\n",
        "* 학습세트와 테스트세트를 7:3의 비율로 나눠 줍니다."
      ]
    },
    {
      "metadata": {
        "id": "bvdQxvBbpmXx",
        "colab_type": "code",
        "colab": {
          "base_uri": "https://localhost:8080/",
          "height": 989
        },
        "outputId": "5b697f41-289a-4269-f285-2ee69aa3d935"
      },
      "cell_type": "code",
      "source": [
        "df2 = df2.reindex()\n",
        "df2.head()"
      ],
      "execution_count": 0,
      "outputs": [
        {
          "output_type": "execute_result",
          "data": {
            "text/html": [
              "<div>\n",
              "<style scoped>\n",
              "    .dataframe tbody tr th:only-of-type {\n",
              "        vertical-align: middle;\n",
              "    }\n",
              "\n",
              "    .dataframe tbody tr th {\n",
              "        vertical-align: top;\n",
              "    }\n",
              "\n",
              "    .dataframe thead th {\n",
              "        text-align: right;\n",
              "    }\n",
              "</style>\n",
              "<table border=\"1\" class=\"dataframe\">\n",
              "  <thead>\n",
              "    <tr style=\"text-align: right;\">\n",
              "      <th></th>\n",
              "      <th>article_id</th>\n",
              "      <th>start</th>\n",
              "      <th>end</th>\n",
              "      <th>answered</th>\n",
              "      <th>votes</th>\n",
              "      <th>category</th>\n",
              "      <th>title</th>\n",
              "      <th>content</th>\n",
              "      <th>category_pred</th>\n",
              "      <th>content_preprocessing</th>\n",
              "      <th>content_preprocessing2</th>\n",
              "    </tr>\n",
              "  </thead>\n",
              "  <tbody>\n",
              "    <tr>\n",
              "      <th>7</th>\n",
              "      <td>28</td>\n",
              "      <td>2017-08-19</td>\n",
              "      <td>2017-08-26</td>\n",
              "      <td>0</td>\n",
              "      <td>2137</td>\n",
              "      <td>경제민주화</td>\n",
              "      <td>소액주주를 보호해주십시오</td>\n",
              "      <td>**  존경하옵는 문재인대통령님께\\n저는 중국원양자원이라는 KOSPI상장사의 소액 ...</td>\n",
              "      <td>경제민주화</td>\n",
              "      <td>존경하옵는 문재인대통령님께 저는 중국원양자원이라는 KOSPI상장사의 소액 주...</td>\n",
              "      <td>존경하옵는 문재인대통령님께 중국원양자원이라는 KOSPI상장사의 소액 주주입니...</td>\n",
              "    </tr>\n",
              "    <tr>\n",
              "      <th>21</th>\n",
              "      <td>43</td>\n",
              "      <td>2017-08-19</td>\n",
              "      <td>2017-09-18</td>\n",
              "      <td>0</td>\n",
              "      <td>11293</td>\n",
              "      <td>육아/교육</td>\n",
              "      <td>기간제 교사의 정규직화를 반대합니다.</td>\n",
              "      <td>대통령님, 안녕하세요. 저는 임용을 준비하고 수험생입니다. 처음 기간제 정규직화 된...</td>\n",
              "      <td>육아/교육</td>\n",
              "      <td>대통령님  안녕하세요  저는 임용을 준비하고 수험생입니다  처음 기간제 정규직화 된...</td>\n",
              "      <td>대통령님  안녕하세요  임용을 준비하고 수험생입니다  처음 기간제 정규직화 된다고 ...</td>\n",
              "    </tr>\n",
              "    <tr>\n",
              "      <th>24</th>\n",
              "      <td>46</td>\n",
              "      <td>2017-08-19</td>\n",
              "      <td>2017-09-18</td>\n",
              "      <td>0</td>\n",
              "      <td>1933</td>\n",
              "      <td>육아/교육</td>\n",
              "      <td>기간제교사의 정규직화를 반대합니다.</td>\n",
              "      <td>대통령님, 안녕하세요. 저는 임용을 준비하고 수험생입니다. 처음 기간제 정규직화 된...</td>\n",
              "      <td>육아/교육</td>\n",
              "      <td>대통령님  안녕하세요  저는 임용을 준비하고 수험생입니다  처음 기간제 정규직화 된...</td>\n",
              "      <td>대통령님  안녕하세요  임용을 준비하고 수험생입니다  처음 기간제 정규직화 된다고 ...</td>\n",
              "    </tr>\n",
              "    <tr>\n",
              "      <th>28</th>\n",
              "      <td>50</td>\n",
              "      <td>2017-08-19</td>\n",
              "      <td>2017-10-18</td>\n",
              "      <td>0</td>\n",
              "      <td>1251</td>\n",
              "      <td>일자리</td>\n",
              "      <td>치과위생사 국가고시 날짜 변경 억울합니다</td>\n",
              "      <td>안녕하십니까? 대통령님 간단하게 제소개 부터 하겠습니다. 저는 치위생과 3학년 학생...</td>\n",
              "      <td>일자리</td>\n",
              "      <td>안녕하십니까  대통령님 간단하게 제소개 부터 하겠습니다  저는 치위생과  학년 학생...</td>\n",
              "      <td>안녕하십니까  대통령님 간단하게 제소개 부터 하겠습니다  치위생과  학년 학생입니다...</td>\n",
              "    </tr>\n",
              "    <tr>\n",
              "      <th>38</th>\n",
              "      <td>61</td>\n",
              "      <td>2017-08-19</td>\n",
              "      <td>2017-08-26</td>\n",
              "      <td>0</td>\n",
              "      <td>1185</td>\n",
              "      <td>일자리</td>\n",
              "      <td>영어회화전문강사제도는 유지되어야합니다.</td>\n",
              "      <td>1. 영전강의고용안정을 원합니다\\n2.1년단위계약직으로 임신 출산육아 매우 곤란합니...</td>\n",
              "      <td>일자리</td>\n",
              "      <td>영전강의고용안정을 원합니다    년단위계약직으로 임신 출산육아 매우 곤란합니다...</td>\n",
              "      <td>영전강의고용안정을 원합니다    년단위계약직으로 임신 출산육아 매우 곤란합니다...</td>\n",
              "    </tr>\n",
              "  </tbody>\n",
              "</table>\n",
              "</div>"
            ],
            "text/plain": [
              "    article_id      start        end  answered  votes category  \\\n",
              "7           28 2017-08-19 2017-08-26         0   2137    경제민주화   \n",
              "21          43 2017-08-19 2017-09-18         0  11293    육아/교육   \n",
              "24          46 2017-08-19 2017-09-18         0   1933    육아/교육   \n",
              "28          50 2017-08-19 2017-10-18         0   1251      일자리   \n",
              "38          61 2017-08-19 2017-08-26         0   1185      일자리   \n",
              "\n",
              "                     title                                            content  \\\n",
              "7            소액주주를 보호해주십시오  **  존경하옵는 문재인대통령님께\\n저는 중국원양자원이라는 KOSPI상장사의 소액 ...   \n",
              "21    기간제 교사의 정규직화를 반대합니다.  대통령님, 안녕하세요. 저는 임용을 준비하고 수험생입니다. 처음 기간제 정규직화 된...   \n",
              "24     기간제교사의 정규직화를 반대합니다.  대통령님, 안녕하세요. 저는 임용을 준비하고 수험생입니다. 처음 기간제 정규직화 된...   \n",
              "28  치과위생사 국가고시 날짜 변경 억울합니다  안녕하십니까? 대통령님 간단하게 제소개 부터 하겠습니다. 저는 치위생과 3학년 학생...   \n",
              "38   영어회화전문강사제도는 유지되어야합니다.  1. 영전강의고용안정을 원합니다\\n2.1년단위계약직으로 임신 출산육아 매우 곤란합니...   \n",
              "\n",
              "   category_pred                              content_preprocessing  \\\n",
              "7          경제민주화      존경하옵는 문재인대통령님께 저는 중국원양자원이라는 KOSPI상장사의 소액 주...   \n",
              "21         육아/교육  대통령님  안녕하세요  저는 임용을 준비하고 수험생입니다  처음 기간제 정규직화 된...   \n",
              "24         육아/교육  대통령님  안녕하세요  저는 임용을 준비하고 수험생입니다  처음 기간제 정규직화 된...   \n",
              "28           일자리  안녕하십니까  대통령님 간단하게 제소개 부터 하겠습니다  저는 치위생과  학년 학생...   \n",
              "38           일자리     영전강의고용안정을 원합니다    년단위계약직으로 임신 출산육아 매우 곤란합니다...   \n",
              "\n",
              "                               content_preprocessing2  \n",
              "7       존경하옵는 문재인대통령님께 중국원양자원이라는 KOSPI상장사의 소액 주주입니...  \n",
              "21  대통령님  안녕하세요  임용을 준비하고 수험생입니다  처음 기간제 정규직화 된다고 ...  \n",
              "24  대통령님  안녕하세요  임용을 준비하고 수험생입니다  처음 기간제 정규직화 된다고 ...  \n",
              "28  안녕하십니까  대통령님 간단하게 제소개 부터 하겠습니다  치위생과  학년 학생입니다...  \n",
              "38     영전강의고용안정을 원합니다    년단위계약직으로 임신 출산육아 매우 곤란합니다...  "
            ]
          },
          "metadata": {
            "tags": []
          },
          "execution_count": 66
        }
      ]
    },
    {
      "metadata": {
        "id": "j-lk_URMpmX0",
        "colab_type": "code",
        "colab": {
          "base_uri": "https://localhost:8080/",
          "height": 34
        },
        "outputId": "482584ae-2388-418a-deab-bfaa744427d0"
      },
      "cell_type": "code",
      "source": [
        "df2.shape"
      ],
      "execution_count": 0,
      "outputs": [
        {
          "output_type": "execute_result",
          "data": {
            "text/plain": [
              "(2010, 11)"
            ]
          },
          "metadata": {
            "tags": []
          },
          "execution_count": 67
        }
      ]
    },
    {
      "metadata": {
        "id": "4r4xOLPlpmX6",
        "colab_type": "code",
        "colab": {
          "base_uri": "https://localhost:8080/",
          "height": 34
        },
        "outputId": "2b58f392-d0b4-480c-f938-368aff3f94f5"
      },
      "cell_type": "code",
      "source": [
        "split_count = int(df2.shape[0] * 0.7)\n",
        "split_count"
      ],
      "execution_count": 0,
      "outputs": [
        {
          "output_type": "execute_result",
          "data": {
            "text/plain": [
              "1407"
            ]
          },
          "metadata": {
            "tags": []
          },
          "execution_count": 68
        }
      ]
    },
    {
      "metadata": {
        "id": "TCeZargOpmYA",
        "colab_type": "code",
        "colab": {
          "base_uri": "https://localhost:8080/",
          "height": 34
        },
        "outputId": "fa3a984d-7766-449a-cc0a-fa97d59060d2"
      },
      "cell_type": "code",
      "source": [
        "df_train = df2[:split_count].copy()\n",
        "df_train.shape"
      ],
      "execution_count": 0,
      "outputs": [
        {
          "output_type": "execute_result",
          "data": {
            "text/plain": [
              "(1407, 11)"
            ]
          },
          "metadata": {
            "tags": []
          },
          "execution_count": 69
        }
      ]
    },
    {
      "metadata": {
        "id": "Z1nyf9HIpmYB",
        "colab_type": "code",
        "colab": {
          "base_uri": "https://localhost:8080/",
          "height": 989
        },
        "outputId": "0633ab85-d320-49f4-a887-60fd7118391f"
      },
      "cell_type": "code",
      "source": [
        "df_train.head()"
      ],
      "execution_count": 0,
      "outputs": [
        {
          "output_type": "execute_result",
          "data": {
            "text/html": [
              "<div>\n",
              "<style scoped>\n",
              "    .dataframe tbody tr th:only-of-type {\n",
              "        vertical-align: middle;\n",
              "    }\n",
              "\n",
              "    .dataframe tbody tr th {\n",
              "        vertical-align: top;\n",
              "    }\n",
              "\n",
              "    .dataframe thead th {\n",
              "        text-align: right;\n",
              "    }\n",
              "</style>\n",
              "<table border=\"1\" class=\"dataframe\">\n",
              "  <thead>\n",
              "    <tr style=\"text-align: right;\">\n",
              "      <th></th>\n",
              "      <th>article_id</th>\n",
              "      <th>start</th>\n",
              "      <th>end</th>\n",
              "      <th>answered</th>\n",
              "      <th>votes</th>\n",
              "      <th>category</th>\n",
              "      <th>title</th>\n",
              "      <th>content</th>\n",
              "      <th>category_pred</th>\n",
              "      <th>content_preprocessing</th>\n",
              "      <th>content_preprocessing2</th>\n",
              "    </tr>\n",
              "  </thead>\n",
              "  <tbody>\n",
              "    <tr>\n",
              "      <th>7</th>\n",
              "      <td>28</td>\n",
              "      <td>2017-08-19</td>\n",
              "      <td>2017-08-26</td>\n",
              "      <td>0</td>\n",
              "      <td>2137</td>\n",
              "      <td>경제민주화</td>\n",
              "      <td>소액주주를 보호해주십시오</td>\n",
              "      <td>**  존경하옵는 문재인대통령님께\\n저는 중국원양자원이라는 KOSPI상장사의 소액 ...</td>\n",
              "      <td>경제민주화</td>\n",
              "      <td>존경하옵는 문재인대통령님께 저는 중국원양자원이라는 KOSPI상장사의 소액 주...</td>\n",
              "      <td>존경하옵는 문재인대통령님께 중국원양자원이라는 KOSPI상장사의 소액 주주입니...</td>\n",
              "    </tr>\n",
              "    <tr>\n",
              "      <th>21</th>\n",
              "      <td>43</td>\n",
              "      <td>2017-08-19</td>\n",
              "      <td>2017-09-18</td>\n",
              "      <td>0</td>\n",
              "      <td>11293</td>\n",
              "      <td>육아/교육</td>\n",
              "      <td>기간제 교사의 정규직화를 반대합니다.</td>\n",
              "      <td>대통령님, 안녕하세요. 저는 임용을 준비하고 수험생입니다. 처음 기간제 정규직화 된...</td>\n",
              "      <td>육아/교육</td>\n",
              "      <td>대통령님  안녕하세요  저는 임용을 준비하고 수험생입니다  처음 기간제 정규직화 된...</td>\n",
              "      <td>대통령님  안녕하세요  임용을 준비하고 수험생입니다  처음 기간제 정규직화 된다고 ...</td>\n",
              "    </tr>\n",
              "    <tr>\n",
              "      <th>24</th>\n",
              "      <td>46</td>\n",
              "      <td>2017-08-19</td>\n",
              "      <td>2017-09-18</td>\n",
              "      <td>0</td>\n",
              "      <td>1933</td>\n",
              "      <td>육아/교육</td>\n",
              "      <td>기간제교사의 정규직화를 반대합니다.</td>\n",
              "      <td>대통령님, 안녕하세요. 저는 임용을 준비하고 수험생입니다. 처음 기간제 정규직화 된...</td>\n",
              "      <td>육아/교육</td>\n",
              "      <td>대통령님  안녕하세요  저는 임용을 준비하고 수험생입니다  처음 기간제 정규직화 된...</td>\n",
              "      <td>대통령님  안녕하세요  임용을 준비하고 수험생입니다  처음 기간제 정규직화 된다고 ...</td>\n",
              "    </tr>\n",
              "    <tr>\n",
              "      <th>28</th>\n",
              "      <td>50</td>\n",
              "      <td>2017-08-19</td>\n",
              "      <td>2017-10-18</td>\n",
              "      <td>0</td>\n",
              "      <td>1251</td>\n",
              "      <td>일자리</td>\n",
              "      <td>치과위생사 국가고시 날짜 변경 억울합니다</td>\n",
              "      <td>안녕하십니까? 대통령님 간단하게 제소개 부터 하겠습니다. 저는 치위생과 3학년 학생...</td>\n",
              "      <td>일자리</td>\n",
              "      <td>안녕하십니까  대통령님 간단하게 제소개 부터 하겠습니다  저는 치위생과  학년 학생...</td>\n",
              "      <td>안녕하십니까  대통령님 간단하게 제소개 부터 하겠습니다  치위생과  학년 학생입니다...</td>\n",
              "    </tr>\n",
              "    <tr>\n",
              "      <th>38</th>\n",
              "      <td>61</td>\n",
              "      <td>2017-08-19</td>\n",
              "      <td>2017-08-26</td>\n",
              "      <td>0</td>\n",
              "      <td>1185</td>\n",
              "      <td>일자리</td>\n",
              "      <td>영어회화전문강사제도는 유지되어야합니다.</td>\n",
              "      <td>1. 영전강의고용안정을 원합니다\\n2.1년단위계약직으로 임신 출산육아 매우 곤란합니...</td>\n",
              "      <td>일자리</td>\n",
              "      <td>영전강의고용안정을 원합니다    년단위계약직으로 임신 출산육아 매우 곤란합니다...</td>\n",
              "      <td>영전강의고용안정을 원합니다    년단위계약직으로 임신 출산육아 매우 곤란합니다...</td>\n",
              "    </tr>\n",
              "  </tbody>\n",
              "</table>\n",
              "</div>"
            ],
            "text/plain": [
              "    article_id      start        end  answered  votes category  \\\n",
              "7           28 2017-08-19 2017-08-26         0   2137    경제민주화   \n",
              "21          43 2017-08-19 2017-09-18         0  11293    육아/교육   \n",
              "24          46 2017-08-19 2017-09-18         0   1933    육아/교육   \n",
              "28          50 2017-08-19 2017-10-18         0   1251      일자리   \n",
              "38          61 2017-08-19 2017-08-26         0   1185      일자리   \n",
              "\n",
              "                     title                                            content  \\\n",
              "7            소액주주를 보호해주십시오  **  존경하옵는 문재인대통령님께\\n저는 중국원양자원이라는 KOSPI상장사의 소액 ...   \n",
              "21    기간제 교사의 정규직화를 반대합니다.  대통령님, 안녕하세요. 저는 임용을 준비하고 수험생입니다. 처음 기간제 정규직화 된...   \n",
              "24     기간제교사의 정규직화를 반대합니다.  대통령님, 안녕하세요. 저는 임용을 준비하고 수험생입니다. 처음 기간제 정규직화 된...   \n",
              "28  치과위생사 국가고시 날짜 변경 억울합니다  안녕하십니까? 대통령님 간단하게 제소개 부터 하겠습니다. 저는 치위생과 3학년 학생...   \n",
              "38   영어회화전문강사제도는 유지되어야합니다.  1. 영전강의고용안정을 원합니다\\n2.1년단위계약직으로 임신 출산육아 매우 곤란합니...   \n",
              "\n",
              "   category_pred                              content_preprocessing  \\\n",
              "7          경제민주화      존경하옵는 문재인대통령님께 저는 중국원양자원이라는 KOSPI상장사의 소액 주...   \n",
              "21         육아/교육  대통령님  안녕하세요  저는 임용을 준비하고 수험생입니다  처음 기간제 정규직화 된...   \n",
              "24         육아/교육  대통령님  안녕하세요  저는 임용을 준비하고 수험생입니다  처음 기간제 정규직화 된...   \n",
              "28           일자리  안녕하십니까  대통령님 간단하게 제소개 부터 하겠습니다  저는 치위생과  학년 학생...   \n",
              "38           일자리     영전강의고용안정을 원합니다    년단위계약직으로 임신 출산육아 매우 곤란합니다...   \n",
              "\n",
              "                               content_preprocessing2  \n",
              "7       존경하옵는 문재인대통령님께 중국원양자원이라는 KOSPI상장사의 소액 주주입니...  \n",
              "21  대통령님  안녕하세요  임용을 준비하고 수험생입니다  처음 기간제 정규직화 된다고 ...  \n",
              "24  대통령님  안녕하세요  임용을 준비하고 수험생입니다  처음 기간제 정규직화 된다고 ...  \n",
              "28  안녕하십니까  대통령님 간단하게 제소개 부터 하겠습니다  치위생과  학년 학생입니다...  \n",
              "38     영전강의고용안정을 원합니다    년단위계약직으로 임신 출산육아 매우 곤란합니다...  "
            ]
          },
          "metadata": {
            "tags": []
          },
          "execution_count": 70
        }
      ]
    },
    {
      "metadata": {
        "id": "VEbOh08upmYF",
        "colab_type": "code",
        "colab": {
          "base_uri": "https://localhost:8080/",
          "height": 34
        },
        "outputId": "e35d926e-3ef4-4d8f-94be-d30ecdcfb56f"
      },
      "cell_type": "code",
      "source": [
        "df_test = df2[split_count:].copy()\n",
        "df_test.shape"
      ],
      "execution_count": 0,
      "outputs": [
        {
          "output_type": "execute_result",
          "data": {
            "text/plain": [
              "(603, 11)"
            ]
          },
          "metadata": {
            "tags": []
          },
          "execution_count": 71
        }
      ]
    },
    {
      "metadata": {
        "id": "6Y0vfZeopmYH",
        "colab_type": "code",
        "colab": {
          "base_uri": "https://localhost:8080/",
          "height": 1074
        },
        "outputId": "cbead900-a03a-41e5-f8e8-d7c625f7a325"
      },
      "cell_type": "code",
      "source": [
        "df_test.head()"
      ],
      "execution_count": 0,
      "outputs": [
        {
          "output_type": "execute_result",
          "data": {
            "text/html": [
              "<div>\n",
              "<style scoped>\n",
              "    .dataframe tbody tr th:only-of-type {\n",
              "        vertical-align: middle;\n",
              "    }\n",
              "\n",
              "    .dataframe tbody tr th {\n",
              "        vertical-align: top;\n",
              "    }\n",
              "\n",
              "    .dataframe thead th {\n",
              "        text-align: right;\n",
              "    }\n",
              "</style>\n",
              "<table border=\"1\" class=\"dataframe\">\n",
              "  <thead>\n",
              "    <tr style=\"text-align: right;\">\n",
              "      <th></th>\n",
              "      <th>article_id</th>\n",
              "      <th>start</th>\n",
              "      <th>end</th>\n",
              "      <th>answered</th>\n",
              "      <th>votes</th>\n",
              "      <th>category</th>\n",
              "      <th>title</th>\n",
              "      <th>content</th>\n",
              "      <th>category_pred</th>\n",
              "      <th>content_preprocessing</th>\n",
              "      <th>content_preprocessing2</th>\n",
              "    </tr>\n",
              "  </thead>\n",
              "  <tbody>\n",
              "    <tr>\n",
              "      <th>179796</th>\n",
              "      <td>224861</td>\n",
              "      <td>2018-05-05</td>\n",
              "      <td>2018-06-04</td>\n",
              "      <td>0</td>\n",
              "      <td>2339</td>\n",
              "      <td>문화/예술/체육/언론</td>\n",
              "      <td>만민중앙교회 이재록 목사 공정조사 청원</td>\n",
              "      <td>만민중앙교회 당회장 이재록 목사님에 대한 거짓 증언과 거짓 보도에 대한 공정한 조사...</td>\n",
              "      <td>문화/예술/체육/언론</td>\n",
              "      <td>만민중앙교회 당회장 이재록 목사님에 대한 거짓 증언과 거짓 보도에 대한 공정한 조사...</td>\n",
              "      <td>만민중앙교회 당회장 이재록 목사님에 거짓 증언과 거짓 보도에 공정한 조사를 청원합니...</td>\n",
              "    </tr>\n",
              "    <tr>\n",
              "      <th>179842</th>\n",
              "      <td>224921</td>\n",
              "      <td>2018-05-05</td>\n",
              "      <td>2018-06-04</td>\n",
              "      <td>0</td>\n",
              "      <td>4824</td>\n",
              "      <td>인권/성평등</td>\n",
              "      <td>신안염전노예사건의 전면 재수사와,  당시 솜방망이 판결을 내린 판사들에 대한 처벌을...</td>\n",
              "      <td>5월5일 그것이 알고싶다에 나온 신안 염전 노예사건 방송은 충격 또 충격입니다\\n신...</td>\n",
              "      <td>인권/성평등</td>\n",
              "      <td>월 일 그것이 알고싶다에 나온 신안 염전 노예사건 방송은 충격 또 충격입니다 신안...</td>\n",
              "      <td>그것이 알고싶다에 나온 신안 염전 노예사건 방송은 충격 또 충격입니다 신안 염전에...</td>\n",
              "    </tr>\n",
              "    <tr>\n",
              "      <th>180244</th>\n",
              "      <td>225457</td>\n",
              "      <td>2018-05-06</td>\n",
              "      <td>2018-06-05</td>\n",
              "      <td>0</td>\n",
              "      <td>1737</td>\n",
              "      <td>인권/성평등</td>\n",
              "      <td>강제적으로 제출한 취하장으로 인해 가해자를 제대로 처벌하지 못하는 점 개선시키고 싶...</td>\n",
              "      <td>안녕하세요. 제가 올린 청원글이 분량이 길고 부족한 점이 많더라도 끝까지 정독하여 ...</td>\n",
              "      <td>인권/성평등</td>\n",
              "      <td>안녕하세요  제가 올린 청원글이 분량이 길고 부족한 점이 많더라도 끝까지 정독하여 ...</td>\n",
              "      <td>안녕하세요  제가 올린 청원글이 분량이 길고 부족한 점이 많더라도 끝까지 정독하여 ...</td>\n",
              "    </tr>\n",
              "    <tr>\n",
              "      <th>180246</th>\n",
              "      <td>225462</td>\n",
              "      <td>2018-05-06</td>\n",
              "      <td>2018-06-05</td>\n",
              "      <td>0</td>\n",
              "      <td>1025</td>\n",
              "      <td>정치개혁</td>\n",
              "      <td>뇌물수뢰 의혹이 있는 부패한 정치인 최대호 더불어민주당 안양시장 후보의 자격 박탈을...</td>\n",
              "      <td>최대호 더불어민주당 안양시장 후보는 안양시장 재직(2010년 7월~2014년 6월)...</td>\n",
              "      <td>정치개혁</td>\n",
              "      <td>최대호 더불어민주당 안양시장 후보는 안양시장 재직     년  월     년  월 ...</td>\n",
              "      <td>최대호 더불어민주당 안양시장 후보는 안양시장 재직     년      년   당시 ...</td>\n",
              "    </tr>\n",
              "    <tr>\n",
              "      <th>180330</th>\n",
              "      <td>225641</td>\n",
              "      <td>2018-05-06</td>\n",
              "      <td>2018-06-05</td>\n",
              "      <td>0</td>\n",
              "      <td>4565</td>\n",
              "      <td>정치개혁</td>\n",
              "      <td>국회해산 및 재구성</td>\n",
              "      <td>4월 한 달을 꼬박~!!!\\n단 한 번의 회의도,\\n단 한 건의 법안도 처리하지 않...</td>\n",
              "      <td>정치개혁</td>\n",
              "      <td>월 한 달을 꼬박     단 한 번의 회의도  단 한 건의 법안도 처리하지 않은 ...</td>\n",
              "      <td>달을 꼬박     단 번의 회의도  단 건의 법안도 처리하지 않은 국회는 누구를 ...</td>\n",
              "    </tr>\n",
              "  </tbody>\n",
              "</table>\n",
              "</div>"
            ],
            "text/plain": [
              "        article_id      start        end  answered  votes     category  \\\n",
              "179796      224861 2018-05-05 2018-06-04         0   2339  문화/예술/체육/언론   \n",
              "179842      224921 2018-05-05 2018-06-04         0   4824       인권/성평등   \n",
              "180244      225457 2018-05-06 2018-06-05         0   1737       인권/성평등   \n",
              "180246      225462 2018-05-06 2018-06-05         0   1025         정치개혁   \n",
              "180330      225641 2018-05-06 2018-06-05         0   4565         정치개혁   \n",
              "\n",
              "                                                    title  \\\n",
              "179796                              만민중앙교회 이재록 목사 공정조사 청원   \n",
              "179842  신안염전노예사건의 전면 재수사와,  당시 솜방망이 판결을 내린 판사들에 대한 처벌을...   \n",
              "180244  강제적으로 제출한 취하장으로 인해 가해자를 제대로 처벌하지 못하는 점 개선시키고 싶...   \n",
              "180246  뇌물수뢰 의혹이 있는 부패한 정치인 최대호 더불어민주당 안양시장 후보의 자격 박탈을...   \n",
              "180330                                         국회해산 및 재구성   \n",
              "\n",
              "                                                  content category_pred  \\\n",
              "179796  만민중앙교회 당회장 이재록 목사님에 대한 거짓 증언과 거짓 보도에 대한 공정한 조사...   문화/예술/체육/언론   \n",
              "179842  5월5일 그것이 알고싶다에 나온 신안 염전 노예사건 방송은 충격 또 충격입니다\\n신...        인권/성평등   \n",
              "180244  안녕하세요. 제가 올린 청원글이 분량이 길고 부족한 점이 많더라도 끝까지 정독하여 ...        인권/성평등   \n",
              "180246  최대호 더불어민주당 안양시장 후보는 안양시장 재직(2010년 7월~2014년 6월)...          정치개혁   \n",
              "180330  4월 한 달을 꼬박~!!!\\n단 한 번의 회의도,\\n단 한 건의 법안도 처리하지 않...          정치개혁   \n",
              "\n",
              "                                    content_preprocessing  \\\n",
              "179796  만민중앙교회 당회장 이재록 목사님에 대한 거짓 증언과 거짓 보도에 대한 공정한 조사...   \n",
              "179842   월 일 그것이 알고싶다에 나온 신안 염전 노예사건 방송은 충격 또 충격입니다 신안...   \n",
              "180244  안녕하세요  제가 올린 청원글이 분량이 길고 부족한 점이 많더라도 끝까지 정독하여 ...   \n",
              "180246  최대호 더불어민주당 안양시장 후보는 안양시장 재직     년  월     년  월 ...   \n",
              "180330   월 한 달을 꼬박     단 한 번의 회의도  단 한 건의 법안도 처리하지 않은 ...   \n",
              "\n",
              "                                   content_preprocessing2  \n",
              "179796  만민중앙교회 당회장 이재록 목사님에 거짓 증언과 거짓 보도에 공정한 조사를 청원합니...  \n",
              "179842   그것이 알고싶다에 나온 신안 염전 노예사건 방송은 충격 또 충격입니다 신안 염전에...  \n",
              "180244  안녕하세요  제가 올린 청원글이 분량이 길고 부족한 점이 많더라도 끝까지 정독하여 ...  \n",
              "180246  최대호 더불어민주당 안양시장 후보는 안양시장 재직     년      년   당시 ...  \n",
              "180330   달을 꼬박     단 번의 회의도  단 건의 법안도 처리하지 않은 국회는 누구를 ...  "
            ]
          },
          "metadata": {
            "tags": []
          },
          "execution_count": 72
        }
      ]
    },
    {
      "metadata": {
        "id": "LsmlVMwapmYK",
        "colab_type": "text"
      },
      "cell_type": "markdown",
      "source": [
        "## 카테고리 "
      ]
    },
    {
      "metadata": {
        "id": "f4MH_53zpmYK",
        "colab_type": "text"
      },
      "cell_type": "markdown",
      "source": [
        "* 예측한 카테고리의 비율을 봅니다."
      ]
    },
    {
      "metadata": {
        "id": "Ys2jT_CspmYK",
        "colab_type": "code",
        "colab": {
          "base_uri": "https://localhost:8080/",
          "height": 545
        },
        "outputId": "72d75bcc-41dd-4fcc-a102-3e7581f0a972"
      },
      "cell_type": "code",
      "source": [
        "df_category_value = pd.DataFrame(df2['category_pred'].value_counts())\n",
        "df_category_percent = pd.DataFrame(df2['category_pred'].value_counts(normalize=True))\n",
        "df_category = df_category_value.merge(df_category_percent, left_index=True, right_index=True)\n",
        "df_category.columns = ['청원수', '청원비율']\n",
        "df_category"
      ],
      "execution_count": 0,
      "outputs": [
        {
          "output_type": "execute_result",
          "data": {
            "text/html": [
              "<div>\n",
              "<style scoped>\n",
              "    .dataframe tbody tr th:only-of-type {\n",
              "        vertical-align: middle;\n",
              "    }\n",
              "\n",
              "    .dataframe tbody tr th {\n",
              "        vertical-align: top;\n",
              "    }\n",
              "\n",
              "    .dataframe thead th {\n",
              "        text-align: right;\n",
              "    }\n",
              "</style>\n",
              "<table border=\"1\" class=\"dataframe\">\n",
              "  <thead>\n",
              "    <tr style=\"text-align: right;\">\n",
              "      <th></th>\n",
              "      <th>청원수</th>\n",
              "      <th>청원비율</th>\n",
              "    </tr>\n",
              "  </thead>\n",
              "  <tbody>\n",
              "    <tr>\n",
              "      <th>인권/성평등</th>\n",
              "      <td>311</td>\n",
              "      <td>0.154726</td>\n",
              "    </tr>\n",
              "    <tr>\n",
              "      <th>육아/교육</th>\n",
              "      <td>244</td>\n",
              "      <td>0.121393</td>\n",
              "    </tr>\n",
              "    <tr>\n",
              "      <th>보건복지</th>\n",
              "      <td>217</td>\n",
              "      <td>0.107960</td>\n",
              "    </tr>\n",
              "    <tr>\n",
              "      <th>안전/환경</th>\n",
              "      <td>211</td>\n",
              "      <td>0.104975</td>\n",
              "    </tr>\n",
              "    <tr>\n",
              "      <th>정치개혁</th>\n",
              "      <td>204</td>\n",
              "      <td>0.101493</td>\n",
              "    </tr>\n",
              "    <tr>\n",
              "      <th>교통/건축/국토</th>\n",
              "      <td>144</td>\n",
              "      <td>0.071642</td>\n",
              "    </tr>\n",
              "    <tr>\n",
              "      <th>문화/예술/체육/언론</th>\n",
              "      <td>143</td>\n",
              "      <td>0.071144</td>\n",
              "    </tr>\n",
              "    <tr>\n",
              "      <th>행정</th>\n",
              "      <td>99</td>\n",
              "      <td>0.049254</td>\n",
              "    </tr>\n",
              "    <tr>\n",
              "      <th>일자리</th>\n",
              "      <td>93</td>\n",
              "      <td>0.046269</td>\n",
              "    </tr>\n",
              "    <tr>\n",
              "      <th>외교/통일/국방</th>\n",
              "      <td>92</td>\n",
              "      <td>0.045771</td>\n",
              "    </tr>\n",
              "    <tr>\n",
              "      <th>반려동물</th>\n",
              "      <td>90</td>\n",
              "      <td>0.044776</td>\n",
              "    </tr>\n",
              "    <tr>\n",
              "      <th>경제민주화</th>\n",
              "      <td>78</td>\n",
              "      <td>0.038806</td>\n",
              "    </tr>\n",
              "    <tr>\n",
              "      <th>미래</th>\n",
              "      <td>36</td>\n",
              "      <td>0.017910</td>\n",
              "    </tr>\n",
              "    <tr>\n",
              "      <th>성장동력</th>\n",
              "      <td>21</td>\n",
              "      <td>0.010448</td>\n",
              "    </tr>\n",
              "    <tr>\n",
              "      <th>저출산/고령화대책</th>\n",
              "      <td>16</td>\n",
              "      <td>0.007960</td>\n",
              "    </tr>\n",
              "    <tr>\n",
              "      <th>농산어촌</th>\n",
              "      <td>11</td>\n",
              "      <td>0.005473</td>\n",
              "    </tr>\n",
              "  </tbody>\n",
              "</table>\n",
              "</div>"
            ],
            "text/plain": [
              "             청원수      청원비율\n",
              "인권/성평등       311  0.154726\n",
              "육아/교육        244  0.121393\n",
              "보건복지         217  0.107960\n",
              "안전/환경        211  0.104975\n",
              "정치개혁         204  0.101493\n",
              "교통/건축/국토     144  0.071642\n",
              "문화/예술/체육/언론  143  0.071144\n",
              "행정            99  0.049254\n",
              "일자리           93  0.046269\n",
              "외교/통일/국방      92  0.045771\n",
              "반려동물          90  0.044776\n",
              "경제민주화         78  0.038806\n",
              "미래            36  0.017910\n",
              "성장동력          21  0.010448\n",
              "저출산/고령화대책     16  0.007960\n",
              "농산어촌          11  0.005473"
            ]
          },
          "metadata": {
            "tags": []
          },
          "execution_count": 73
        }
      ]
    },
    {
      "metadata": {
        "id": "LWGiFDfhpmYO",
        "colab_type": "text"
      },
      "cell_type": "markdown",
      "source": [
        "## 학습데이터의 카테고리"
      ]
    },
    {
      "metadata": {
        "id": "FrNrPx4kpmYO",
        "colab_type": "code",
        "colab": {
          "base_uri": "https://localhost:8080/",
          "height": 545
        },
        "outputId": "cfd90fbe-1e36-4b95-f49b-6c135cbffde7"
      },
      "cell_type": "code",
      "source": [
        "df_train_category_value = pd.DataFrame(df_train['category'].value_counts())\n",
        "df_train_category_percent = pd.DataFrame(df_train['category'].value_counts(normalize=True))\n",
        "df_train_category = df_train_category_value.merge(df_train_category_percent, left_index=True, right_index=True)\n",
        "df_train_category.columns = ['청원수', '청원비율']\n",
        "df_train_category"
      ],
      "execution_count": 0,
      "outputs": [
        {
          "output_type": "execute_result",
          "data": {
            "text/html": [
              "<div>\n",
              "<style scoped>\n",
              "    .dataframe tbody tr th:only-of-type {\n",
              "        vertical-align: middle;\n",
              "    }\n",
              "\n",
              "    .dataframe tbody tr th {\n",
              "        vertical-align: top;\n",
              "    }\n",
              "\n",
              "    .dataframe thead th {\n",
              "        text-align: right;\n",
              "    }\n",
              "</style>\n",
              "<table border=\"1\" class=\"dataframe\">\n",
              "  <thead>\n",
              "    <tr style=\"text-align: right;\">\n",
              "      <th></th>\n",
              "      <th>청원수</th>\n",
              "      <th>청원비율</th>\n",
              "    </tr>\n",
              "  </thead>\n",
              "  <tbody>\n",
              "    <tr>\n",
              "      <th>인권/성평등</th>\n",
              "      <td>180</td>\n",
              "      <td>0.127932</td>\n",
              "    </tr>\n",
              "    <tr>\n",
              "      <th>보건복지</th>\n",
              "      <td>166</td>\n",
              "      <td>0.117982</td>\n",
              "    </tr>\n",
              "    <tr>\n",
              "      <th>육아/교육</th>\n",
              "      <td>153</td>\n",
              "      <td>0.108742</td>\n",
              "    </tr>\n",
              "    <tr>\n",
              "      <th>안전/환경</th>\n",
              "      <td>145</td>\n",
              "      <td>0.103056</td>\n",
              "    </tr>\n",
              "    <tr>\n",
              "      <th>정치개혁</th>\n",
              "      <td>137</td>\n",
              "      <td>0.097370</td>\n",
              "    </tr>\n",
              "    <tr>\n",
              "      <th>문화/예술/체육/언론</th>\n",
              "      <td>127</td>\n",
              "      <td>0.090263</td>\n",
              "    </tr>\n",
              "    <tr>\n",
              "      <th>교통/건축/국토</th>\n",
              "      <td>113</td>\n",
              "      <td>0.080313</td>\n",
              "    </tr>\n",
              "    <tr>\n",
              "      <th>일자리</th>\n",
              "      <td>75</td>\n",
              "      <td>0.053305</td>\n",
              "    </tr>\n",
              "    <tr>\n",
              "      <th>행정</th>\n",
              "      <td>71</td>\n",
              "      <td>0.050462</td>\n",
              "    </tr>\n",
              "    <tr>\n",
              "      <th>외교/통일/국방</th>\n",
              "      <td>62</td>\n",
              "      <td>0.044065</td>\n",
              "    </tr>\n",
              "    <tr>\n",
              "      <th>경제민주화</th>\n",
              "      <td>57</td>\n",
              "      <td>0.040512</td>\n",
              "    </tr>\n",
              "    <tr>\n",
              "      <th>반려동물</th>\n",
              "      <td>56</td>\n",
              "      <td>0.039801</td>\n",
              "    </tr>\n",
              "    <tr>\n",
              "      <th>미래</th>\n",
              "      <td>27</td>\n",
              "      <td>0.019190</td>\n",
              "    </tr>\n",
              "    <tr>\n",
              "      <th>성장동력</th>\n",
              "      <td>17</td>\n",
              "      <td>0.012082</td>\n",
              "    </tr>\n",
              "    <tr>\n",
              "      <th>농산어촌</th>\n",
              "      <td>11</td>\n",
              "      <td>0.007818</td>\n",
              "    </tr>\n",
              "    <tr>\n",
              "      <th>저출산/고령화대책</th>\n",
              "      <td>10</td>\n",
              "      <td>0.007107</td>\n",
              "    </tr>\n",
              "  </tbody>\n",
              "</table>\n",
              "</div>"
            ],
            "text/plain": [
              "             청원수      청원비율\n",
              "인권/성평등       180  0.127932\n",
              "보건복지         166  0.117982\n",
              "육아/교육        153  0.108742\n",
              "안전/환경        145  0.103056\n",
              "정치개혁         137  0.097370\n",
              "문화/예술/체육/언론  127  0.090263\n",
              "교통/건축/국토     113  0.080313\n",
              "일자리           75  0.053305\n",
              "행정            71  0.050462\n",
              "외교/통일/국방      62  0.044065\n",
              "경제민주화         57  0.040512\n",
              "반려동물          56  0.039801\n",
              "미래            27  0.019190\n",
              "성장동력          17  0.012082\n",
              "농산어촌          11  0.007818\n",
              "저출산/고령화대책     10  0.007107"
            ]
          },
          "metadata": {
            "tags": []
          },
          "execution_count": 74
        }
      ]
    },
    {
      "metadata": {
        "id": "YrLr7WuLpmYQ",
        "colab_type": "text"
      },
      "cell_type": "markdown",
      "source": [
        "## 테스트 데이터의 카테고리"
      ]
    },
    {
      "metadata": {
        "id": "zOnWAPs2pmYQ",
        "colab_type": "code",
        "colab": {
          "base_uri": "https://localhost:8080/",
          "height": 545
        },
        "outputId": "f20986b3-e618-4a26-f94e-6582b25a6003"
      },
      "cell_type": "code",
      "source": [
        "df_test_category_value = pd.DataFrame(df_test['category'].value_counts())\n",
        "df_test_category_percent = pd.DataFrame(df_test['category'].value_counts(normalize=True))\n",
        "df_test_category = df_test_category_value.merge(df_test_category_percent, left_index=True, right_index=True)\n",
        "df_test_category.columns = ['청원수', '청원비율']\n",
        "df_test_category"
      ],
      "execution_count": 0,
      "outputs": [
        {
          "output_type": "execute_result",
          "data": {
            "text/html": [
              "<div>\n",
              "<style scoped>\n",
              "    .dataframe tbody tr th:only-of-type {\n",
              "        vertical-align: middle;\n",
              "    }\n",
              "\n",
              "    .dataframe tbody tr th {\n",
              "        vertical-align: top;\n",
              "    }\n",
              "\n",
              "    .dataframe thead th {\n",
              "        text-align: right;\n",
              "    }\n",
              "</style>\n",
              "<table border=\"1\" class=\"dataframe\">\n",
              "  <thead>\n",
              "    <tr style=\"text-align: right;\">\n",
              "      <th></th>\n",
              "      <th>청원수</th>\n",
              "      <th>청원비율</th>\n",
              "    </tr>\n",
              "  </thead>\n",
              "  <tbody>\n",
              "    <tr>\n",
              "      <th>기타</th>\n",
              "      <td>157</td>\n",
              "      <td>0.260365</td>\n",
              "    </tr>\n",
              "    <tr>\n",
              "      <th>인권/성평등</th>\n",
              "      <td>87</td>\n",
              "      <td>0.144279</td>\n",
              "    </tr>\n",
              "    <tr>\n",
              "      <th>육아/교육</th>\n",
              "      <td>60</td>\n",
              "      <td>0.099502</td>\n",
              "    </tr>\n",
              "    <tr>\n",
              "      <th>안전/환경</th>\n",
              "      <td>48</td>\n",
              "      <td>0.079602</td>\n",
              "    </tr>\n",
              "    <tr>\n",
              "      <th>정치개혁</th>\n",
              "      <td>46</td>\n",
              "      <td>0.076285</td>\n",
              "    </tr>\n",
              "    <tr>\n",
              "      <th>보건복지</th>\n",
              "      <td>34</td>\n",
              "      <td>0.056385</td>\n",
              "    </tr>\n",
              "    <tr>\n",
              "      <th>외교/통일/국방</th>\n",
              "      <td>29</td>\n",
              "      <td>0.048093</td>\n",
              "    </tr>\n",
              "    <tr>\n",
              "      <th>교통/건축/국토</th>\n",
              "      <td>28</td>\n",
              "      <td>0.046434</td>\n",
              "    </tr>\n",
              "    <tr>\n",
              "      <th>행정</th>\n",
              "      <td>28</td>\n",
              "      <td>0.046434</td>\n",
              "    </tr>\n",
              "    <tr>\n",
              "      <th>반려동물</th>\n",
              "      <td>23</td>\n",
              "      <td>0.038143</td>\n",
              "    </tr>\n",
              "    <tr>\n",
              "      <th>문화/예술/체육/언론</th>\n",
              "      <td>15</td>\n",
              "      <td>0.024876</td>\n",
              "    </tr>\n",
              "    <tr>\n",
              "      <th>경제민주화</th>\n",
              "      <td>15</td>\n",
              "      <td>0.024876</td>\n",
              "    </tr>\n",
              "    <tr>\n",
              "      <th>일자리</th>\n",
              "      <td>14</td>\n",
              "      <td>0.023217</td>\n",
              "    </tr>\n",
              "    <tr>\n",
              "      <th>미래</th>\n",
              "      <td>9</td>\n",
              "      <td>0.014925</td>\n",
              "    </tr>\n",
              "    <tr>\n",
              "      <th>저출산/고령화대책</th>\n",
              "      <td>6</td>\n",
              "      <td>0.009950</td>\n",
              "    </tr>\n",
              "    <tr>\n",
              "      <th>성장동력</th>\n",
              "      <td>4</td>\n",
              "      <td>0.006633</td>\n",
              "    </tr>\n",
              "  </tbody>\n",
              "</table>\n",
              "</div>"
            ],
            "text/plain": [
              "             청원수      청원비율\n",
              "기타           157  0.260365\n",
              "인권/성평등        87  0.144279\n",
              "육아/교육         60  0.099502\n",
              "안전/환경         48  0.079602\n",
              "정치개혁          46  0.076285\n",
              "보건복지          34  0.056385\n",
              "외교/통일/국방      29  0.048093\n",
              "교통/건축/국토      28  0.046434\n",
              "행정            28  0.046434\n",
              "반려동물          23  0.038143\n",
              "문화/예술/체육/언론   15  0.024876\n",
              "경제민주화         15  0.024876\n",
              "일자리           14  0.023217\n",
              "미래             9  0.014925\n",
              "저출산/고령화대책      6  0.009950\n",
              "성장동력           4  0.006633"
            ]
          },
          "metadata": {
            "tags": []
          },
          "execution_count": 75
        }
      ]
    },
    {
      "metadata": {
        "id": "emihU6zKpmYS",
        "colab_type": "code",
        "colab": {
          "base_uri": "https://localhost:8080/",
          "height": 680
        },
        "outputId": "1e40b7e9-f5e4-497a-e5b4-67f0c65d1909"
      },
      "cell_type": "code",
      "source": [
        "df_train_category_value.plot(kind='bar')\n",
        "df_test_category_value.plot(kind='bar')"
      ],
      "execution_count": 0,
      "outputs": [
        {
          "output_type": "execute_result",
          "data": {
            "text/plain": [
              "<matplotlib.axes._subplots.AxesSubplot at 0x7f91b17da8d0>"
            ]
          },
          "metadata": {
            "tags": []
          },
          "execution_count": 76
        },
        {
          "output_type": "display_data",
          "data": {
            "image/png": "[encoded data removed]",
            "text/plain": [
              "<matplotlib.figure.Figure at 0x7f91bae1bcc0>"
            ]
          },
          "metadata": {
            "tags": [],
            "image/png": {
              "width": 373,
              "height": 323
            }
          }
        },
        {
          "output_type": "display_data",
          "data": {
            "image/png": "[encoded data removed]",
            "text/plain": [
              "<matplotlib.figure.Figure at 0x7f91ba125748>"
            ]
          },
          "metadata": {
            "tags": [],
            "image/png": {
              "width": 373,
              "height": 323
            }
          }
        }
      ]
    },
    {
      "metadata": {
        "id": "-yslCmIupmYT",
        "colab_type": "text"
      },
      "cell_type": "markdown",
      "source": [
        "# 단어 벡터화 하기"
      ]
    },
    {
      "metadata": {
        "id": "1OgK-nm-pmYT",
        "colab_type": "code",
        "colab": {
          "base_uri": "https://localhost:8080/",
          "height": 156
        },
        "outputId": "7eab0f99-8cee-4fcb-998a-a1e2a2542252"
      },
      "cell_type": "code",
      "source": [
        "from sklearn.feature_extraction.text import CountVectorizer\n",
        "\n",
        "stops = ['and', 'article', 'html', '수', '현', '있는', '있습니다', '그', '년도', '합니다', '하는', '및', '제', '할', '하고', '더', '대한', '한', '그리고', '월', '저는', '없는', '입니다', '등', '일', '많은', '이런', '것은', '왜','같은', '같습니다', '없습니다', '위해', '한다']\n",
        "vectorizer = CountVectorizer(analyzer = 'word', # 캐릭터 단위로 벡터화 할 수도 있습니다.\n",
        "                             tokenizer = None, # 토크나이저를 따로 지정해 줄 수도 있습니다.\n",
        "                             preprocessor = None, # 전처리 도구\n",
        "                             stop_words = stops, # 불용어 nltk등의 도구를 사용할 수도 있습니다.\n",
        "                             min_df = 2, # 토큰이 나타날 최소 문서 개수로 오타나 자주 나오지 않는 특수한 전문용어 제거에 좋다. \n",
        "                             ngram_range=(1, 3), # BOW의 단위를 1~3개로 지정합니다.\n",
        "                             max_features = 2000 # 만들 피처의 수, 단어의 수가 된다.\n",
        "                            )\n",
        "vectorizer"
      ],
      "execution_count": 0,
      "outputs": [
        {
          "output_type": "execute_result",
          "data": {
            "text/plain": [
              "CountVectorizer(analyzer='word', binary=False, decode_error='strict',\n",
              "        dtype=<class 'numpy.int64'>, encoding='utf-8', input='content',\n",
              "        lowercase=True, max_df=1.0, max_features=2000, min_df=2,\n",
              "        ngram_range=(1, 3), preprocessor=None,\n",
              "        stop_words=['and', 'article', 'html', '수', '현', '있는', '있습니다', '그', '년도', '합니다', '하는', '및', '제', '할', '하고', '더', '대한', '한', '그리고', '월', '저는', '없는', '입니다', '등', '일', '많은', '이런', '것은', '왜', '같은', '같습니다', '없습니다', '위해', '한다'],\n",
              "        strip_accents=None, token_pattern='(?u)\\\\b\\\\w\\\\w+\\\\b',\n",
              "        tokenizer=None, vocabulary=None)"
            ]
          },
          "metadata": {
            "tags": []
          },
          "execution_count": 77
        }
      ]
    },
    {
      "metadata": {
        "id": "MWHyCGJHpmYW",
        "colab_type": "code",
        "colab": {
          "base_uri": "https://localhost:8080/",
          "height": 51
        },
        "outputId": "3566bdca-6208-4e79-e5ca-52d9b1d36baa"
      },
      "cell_type": "code",
      "source": [
        "%%time \n",
        "train_feature_vector = vectorizer.fit_transform(df_train['content_preprocessing2'])\n",
        "train_feature_vector.shape"
      ],
      "execution_count": 0,
      "outputs": [
        {
          "output_type": "stream",
          "text": [
            "CPU times: user 4.74 s, sys: 128 ms, total: 4.87 s\n",
            "Wall time: 4.86 s\n"
          ],
          "name": "stdout"
        }
      ]
    },
    {
      "metadata": {
        "id": "bTzTI2yXpmYb",
        "colab_type": "code",
        "colab": {
          "base_uri": "https://localhost:8080/",
          "height": 51
        },
        "outputId": "495664c5-d37a-4fb8-cff5-d19108037176"
      },
      "cell_type": "code",
      "source": [
        "%%time \n",
        "test_feature_vector = vectorizer.fit_transform(df_test['content_preprocessing2'])\n",
        "test_feature_vector.shape"
      ],
      "execution_count": 0,
      "outputs": [
        {
          "output_type": "stream",
          "text": [
            "CPU times: user 2.28 s, sys: 44.4 ms, total: 2.32 s\n",
            "Wall time: 2.33 s\n"
          ],
          "name": "stdout"
        }
      ]
    },
    {
      "metadata": {
        "id": "RgNCQRIApmYh",
        "colab_type": "code",
        "colab": {
          "base_uri": "https://localhost:8080/",
          "height": 204
        },
        "outputId": "9fc8f8e4-4a5f-4477-f8df-59c13c069329"
      },
      "cell_type": "code",
      "source": [
        "vocab = vectorizer.get_feature_names()\n",
        "print(len(vocab))\n",
        "vocab[:10]"
      ],
      "execution_count": 0,
      "outputs": [
        {
          "output_type": "stream",
          "text": [
            "2000\n"
          ],
          "name": "stdout"
        },
        {
          "output_type": "execute_result",
          "data": {
            "text/plain": [
              "['aid',\n",
              " 'articleview',\n",
              " 'articleview idxno',\n",
              " 'be',\n",
              " 'blog',\n",
              " 'cctv',\n",
              " 'cctv를',\n",
              " 'co',\n",
              " 'co kr',\n",
              " 'co kr news']"
            ]
          },
          "metadata": {
            "tags": []
          },
          "execution_count": 80
        }
      ]
    },
    {
      "metadata": {
        "id": "1TNk3s4XpmYk",
        "colab_type": "code",
        "colab": {
          "base_uri": "https://localhost:8080/",
          "height": 197
        },
        "outputId": "f3b34b51-9387-47fc-844a-67ff489beb77"
      },
      "cell_type": "code",
      "source": [
        "dist = np.sum(train_feature_vector, axis=0)\n",
        "\n",
        "pd.DataFrame(dist, columns=vocab)"
      ],
      "execution_count": 0,
      "outputs": [
        {
          "output_type": "execute_result",
          "data": {
            "text/html": [
              "<div>\n",
              "<style scoped>\n",
              "    .dataframe tbody tr th:only-of-type {\n",
              "        vertical-align: middle;\n",
              "    }\n",
              "\n",
              "    .dataframe tbody tr th {\n",
              "        vertical-align: top;\n",
              "    }\n",
              "\n",
              "    .dataframe thead th {\n",
              "        text-align: right;\n",
              "    }\n",
              "</style>\n",
              "<table border=\"1\" class=\"dataframe\">\n",
              "  <thead>\n",
              "    <tr style=\"text-align: right;\">\n",
              "      <th></th>\n",
              "      <th>aid</th>\n",
              "      <th>articleview</th>\n",
              "      <th>articleview idxno</th>\n",
              "      <th>be</th>\n",
              "      <th>blog</th>\n",
              "      <th>cctv</th>\n",
              "      <th>cctv를</th>\n",
              "      <th>co</th>\n",
              "      <th>co kr</th>\n",
              "      <th>co kr news</th>\n",
              "      <th>...</th>\n",
              "      <th>훨씬</th>\n",
              "      <th>휴게</th>\n",
              "      <th>휴게시간</th>\n",
              "      <th>휴게시간을</th>\n",
              "      <th>희망을</th>\n",
              "      <th>힘든</th>\n",
              "      <th>힘들게</th>\n",
              "      <th>힘들어</th>\n",
              "      <th>힘을</th>\n",
              "      <th>힘이</th>\n",
              "    </tr>\n",
              "  </thead>\n",
              "  <tbody>\n",
              "    <tr>\n",
              "      <th>0</th>\n",
              "      <td>44</td>\n",
              "      <td>46</td>\n",
              "      <td>46</td>\n",
              "      <td>105</td>\n",
              "      <td>99</td>\n",
              "      <td>52</td>\n",
              "      <td>177</td>\n",
              "      <td>40</td>\n",
              "      <td>38</td>\n",
              "      <td>22</td>\n",
              "      <td>...</td>\n",
              "      <td>50</td>\n",
              "      <td>31</td>\n",
              "      <td>80</td>\n",
              "      <td>44</td>\n",
              "      <td>23</td>\n",
              "      <td>23</td>\n",
              "      <td>23</td>\n",
              "      <td>23</td>\n",
              "      <td>53</td>\n",
              "      <td>37</td>\n",
              "    </tr>\n",
              "  </tbody>\n",
              "</table>\n",
              "<p>1 rows × 2000 columns</p>\n",
              "</div>"
            ],
            "text/plain": [
              "   aid  articleview  articleview idxno   be  blog  cctv  cctv를  co  co kr  \\\n",
              "0   44           46                 46  105    99    52    177  40     38   \n",
              "\n",
              "   co kr news ...  훨씬  휴게  휴게시간  휴게시간을  희망을  힘든  힘들게  힘들어  힘을  힘이  \n",
              "0          22 ...  50  31    80     44   23  23   23   23  53  37  \n",
              "\n",
              "[1 rows x 2000 columns]"
            ]
          },
          "metadata": {
            "tags": []
          },
          "execution_count": 81
        }
      ]
    },
    {
      "metadata": {
        "id": "d3vey-JOpmYm",
        "colab_type": "code",
        "colab": {
          "base_uri": "https://localhost:8080/",
          "height": 51
        },
        "outputId": "838272db-bdfd-40fe-a516-f7815c8f59c7"
      },
      "cell_type": "code",
      "source": [
        "from sklearn.feature_extraction.text import TfidfTransformer\n",
        "transformer = TfidfTransformer(smooth_idf=False)\n",
        "transformer"
      ],
      "execution_count": 0,
      "outputs": [
        {
          "output_type": "execute_result",
          "data": {
            "text/plain": [
              "TfidfTransformer(norm='l2', smooth_idf=False, sublinear_tf=False,\n",
              "         use_idf=True)"
            ]
          },
          "metadata": {
            "tags": []
          },
          "execution_count": 82
        }
      ]
    },
    {
      "metadata": {
        "id": "TGjzZazypmYq",
        "colab_type": "code",
        "colab": {
          "base_uri": "https://localhost:8080/",
          "height": 51
        },
        "outputId": "bc566e06-7421-44ef-92bd-4b7f81aad24f"
      },
      "cell_type": "code",
      "source": [
        "%%time \n",
        "train_feature_tfidf = transformer.fit_transform(train_feature_vector)\n",
        "train_feature_tfidf.shape"
      ],
      "execution_count": 0,
      "outputs": [
        {
          "output_type": "stream",
          "text": [
            "CPU times: user 4.03 ms, sys: 1.01 ms, total: 5.04 ms\n",
            "Wall time: 6.29 ms\n"
          ],
          "name": "stdout"
        }
      ]
    },
    {
      "metadata": {
        "id": "tFULQ42UpmYy",
        "colab_type": "code",
        "colab": {
          "base_uri": "https://localhost:8080/",
          "height": 51
        },
        "outputId": "ca8a91dc-d735-4d09-d566-500afe894f05"
      },
      "cell_type": "code",
      "source": [
        "%%time \n",
        "test_feature_tfidf = transformer.fit_transform(test_feature_vector)\n",
        "test_feature_tfidf.shape"
      ],
      "execution_count": 0,
      "outputs": [
        {
          "output_type": "stream",
          "text": [
            "CPU times: user 4.43 ms, sys: 61 µs, total: 4.49 ms\n",
            "Wall time: 4.71 ms\n"
          ],
          "name": "stdout"
        }
      ]
    },
    {
      "metadata": {
        "id": "RGLliQWFpmY1",
        "colab_type": "code",
        "colab": {
          "base_uri": "https://localhost:8080/",
          "height": 34
        },
        "outputId": "fcffeb33-2aa0-4fdf-b83c-99c6a48bd1e5"
      },
      "cell_type": "code",
      "source": [
        "test_feature_tfidf.shape"
      ],
      "execution_count": 0,
      "outputs": [
        {
          "output_type": "execute_result",
          "data": {
            "text/plain": [
              "(603, 2000)"
            ]
          },
          "metadata": {
            "tags": []
          },
          "execution_count": 85
        }
      ]
    },
    {
      "metadata": {
        "id": "u0z0IQ6xpmY3",
        "colab_type": "code",
        "colab": {
          "base_uri": "https://localhost:8080/",
          "height": 527
        },
        "outputId": "4c7844fd-144e-4cc8-e3a6-b2be827c833b"
      },
      "cell_type": "code",
      "source": [
        "from collections import Counter\n",
        "dict(Counter(vocab).most_common(30))"
      ],
      "execution_count": 0,
      "outputs": [
        {
          "output_type": "execute_result",
          "data": {
            "text/plain": [
              "{'aid': 1,\n",
              " 'articleview': 1,\n",
              " 'articleview idxno': 1,\n",
              " 'be': 1,\n",
              " 'blog': 1,\n",
              " 'cctv': 1,\n",
              " 'cctv를': 1,\n",
              " 'co': 1,\n",
              " 'co kr': 1,\n",
              " 'co kr news': 1,\n",
              " 'com': 1,\n",
              " 'com main': 1,\n",
              " 'com main read': 1,\n",
              " 'com news': 1,\n",
              " 'com news articleview': 1,\n",
              " 'daum': 1,\n",
              " 'daum net': 1,\n",
              " 'do': 1,\n",
              " 'http': 1,\n",
              " 'http media': 1,\n",
              " 'http media daum': 1,\n",
              " 'http news': 1,\n",
              " 'http news naver': 1,\n",
              " 'http www': 1,\n",
              " 'https': 1,\n",
              " 'https www': 1,\n",
              " 'id': 1,\n",
              " 'idxno': 1,\n",
              " 'it': 1,\n",
              " 'kbs': 1}"
            ]
          },
          "metadata": {
            "tags": []
          },
          "execution_count": 86
        }
      ]
    },
    {
      "metadata": {
        "id": "rJ2atsT6pmY6",
        "colab_type": "text"
      },
      "cell_type": "markdown",
      "source": [
        "## 예측한 카테고리를 label로 사용하기"
      ]
    },
    {
      "metadata": {
        "id": "xFXTalo4pmY7",
        "colab_type": "code",
        "colab": {}
      },
      "cell_type": "code",
      "source": [
        "# 학습에 사용할 y_label 을 넣어줍니다. 기타를 제거한 카테고리 데이터를 사용합니다.\n",
        "y_label = df_train['category_pred']"
      ],
      "execution_count": 0,
      "outputs": []
    },
    {
      "metadata": {
        "id": "Mxf3HQslpmY_",
        "colab_type": "text"
      },
      "cell_type": "markdown",
      "source": [
        "# 랜덤 포레스트로 학습시키기\n",
        "* 공식문서 : http://scikit-learn.org/stable/modules/generated/sklearn.ensemble.RandomForestClassifier.html"
      ]
    },
    {
      "metadata": {
        "id": "sQeBszqdpmZC",
        "colab_type": "code",
        "colab": {
          "base_uri": "https://localhost:8080/",
          "height": 136
        },
        "outputId": "3ec85673-c011-4324-8f65-e20bf310230b"
      },
      "cell_type": "code",
      "source": [
        "from sklearn.ensemble import RandomForestClassifier\n",
        "\n",
        "# 랜덤포레스트 분류기를 사용\n",
        "forest = RandomForestClassifier(\n",
        "    n_estimators = 100, n_jobs = -1, random_state=2018)\n",
        "forest"
      ],
      "execution_count": 0,
      "outputs": [
        {
          "output_type": "execute_result",
          "data": {
            "text/plain": [
              "RandomForestClassifier(bootstrap=True, class_weight=None, criterion='gini',\n",
              "            max_depth=None, max_features='auto', max_leaf_nodes=None,\n",
              "            min_impurity_decrease=0.0, min_impurity_split=None,\n",
              "            min_samples_leaf=1, min_samples_split=2,\n",
              "            min_weight_fraction_leaf=0.0, n_estimators=100, n_jobs=-1,\n",
              "            oob_score=False, random_state=2018, verbose=0,\n",
              "            warm_start=False)"
            ]
          },
          "metadata": {
            "tags": []
          },
          "execution_count": 89
        }
      ]
    },
    {
      "metadata": {
        "id": "sYJVeuQApmZF",
        "colab_type": "code",
        "colab": {
          "base_uri": "https://localhost:8080/",
          "height": 51
        },
        "outputId": "7b43051c-80a9-4d4b-e286-86e0f17cfaea"
      },
      "cell_type": "code",
      "source": [
        "# 어떤 분야의 청원인지 예측할 것이기 때문에 category를 넣어줍니다.\n",
        "%time forest = forest.fit(train_feature_tfidf, y_label)"
      ],
      "execution_count": 0,
      "outputs": [
        {
          "output_type": "stream",
          "text": [
            "CPU times: user 2.63 s, sys: 22.5 ms, total: 2.65 s\n",
            "Wall time: 1.49 s\n"
          ],
          "name": "stdout"
        }
      ]
    },
    {
      "metadata": {
        "id": "4uUWl_zdpmZI",
        "colab_type": "text"
      },
      "cell_type": "markdown",
      "source": [
        "## XGBoost로 학습시키기"
      ]
    },
    {
      "metadata": {
        "id": "saiEMaoOsym6",
        "colab_type": "code",
        "colab": {
          "base_uri": "https://localhost:8080/",
          "height": 68
        },
        "outputId": "bbe47a45-7fcc-434b-cb20-9584cfec529b"
      },
      "cell_type": "code",
      "source": [
        "!pip install xgboost"
      ],
      "execution_count": 0,
      "outputs": [
        {
          "output_type": "stream",
          "text": [
            "Requirement already satisfied: xgboost in /usr/local/lib/python3.6/dist-packages (0.7.post4)\r\n",
            "Requirement already satisfied: numpy in /usr/local/lib/python3.6/dist-packages (from xgboost) (1.14.5)\r\n",
            "Requirement already satisfied: scipy in /usr/local/lib/python3.6/dist-packages (from xgboost) (1.1.0)\r\n"
          ],
          "name": "stdout"
        }
      ]
    },
    {
      "metadata": {
        "id": "OUvQPFQypmZI",
        "colab_type": "code",
        "colab": {
          "base_uri": "https://localhost:8080/",
          "height": 119
        },
        "outputId": "8a88f8e0-c8a7-4663-9810-7e33c4f98733"
      },
      "cell_type": "code",
      "source": [
        "import xgboost as xgb\n",
        "\n",
        "# XGBoost Parameters http://xgboost.readthedocs.io/en/latest/parameter.html\n",
        "xgb = xgb.XGBClassifier(n_estimators=10,\n",
        "                          max_depth=6,\n",
        "                          learning_rate=1.0,\n",
        "                          max_delta_step=1,\n",
        "                          eta = 1,\n",
        "                          nthread=-1,\n",
        "                          seed=2018)\n",
        "xgb"
      ],
      "execution_count": 0,
      "outputs": [
        {
          "output_type": "execute_result",
          "data": {
            "text/plain": [
              "XGBClassifier(base_score=0.5, booster='gbtree', colsample_bylevel=1,\n",
              "       colsample_bytree=1, eta=1, gamma=0, learning_rate=1.0,\n",
              "       max_delta_step=1, max_depth=6, min_child_weight=1, missing=None,\n",
              "       n_estimators=10, n_jobs=1, nthread=-1, objective='binary:logistic',\n",
              "       random_state=0, reg_alpha=0, reg_lambda=1, scale_pos_weight=1,\n",
              "       seed=2018, silent=True, subsample=1)"
            ]
          },
          "metadata": {
            "tags": []
          },
          "execution_count": 92
        }
      ]
    },
    {
      "metadata": {
        "id": "w5j1hmnppmZK",
        "colab_type": "code",
        "colab": {
          "base_uri": "https://localhost:8080/",
          "height": 153
        },
        "outputId": "46ef3566-aefb-4cc2-9e98-e661528b9842"
      },
      "cell_type": "code",
      "source": [
        "%time xgb.fit(train_feature_tfidf, y_label)"
      ],
      "execution_count": 0,
      "outputs": [
        {
          "output_type": "stream",
          "text": [
            "CPU times: user 4.84 s, sys: 14.8 ms, total: 4.86 s\n",
            "Wall time: 2.46 s\n"
          ],
          "name": "stdout"
        },
        {
          "output_type": "execute_result",
          "data": {
            "text/plain": [
              "XGBClassifier(base_score=0.5, booster='gbtree', colsample_bylevel=1,\n",
              "       colsample_bytree=1, eta=1, gamma=0, learning_rate=1.0,\n",
              "       max_delta_step=1, max_depth=6, min_child_weight=1, missing=None,\n",
              "       n_estimators=10, n_jobs=1, nthread=-1, objective='multi:softprob',\n",
              "       random_state=0, reg_alpha=0, reg_lambda=1, scale_pos_weight=1,\n",
              "       seed=2018, silent=True, subsample=1)"
            ]
          },
          "metadata": {
            "tags": []
          },
          "execution_count": 93
        }
      ]
    },
    {
      "metadata": {
        "id": "k-ijC1JNpmZM",
        "colab_type": "text"
      },
      "cell_type": "markdown",
      "source": [
        "# 학습이 잘 되었는지 평가하기\n",
        "\n",
        "시험공부에 비유해 보면, (feat.애란쌤)\n",
        "1. 기출문제를 모은다\n",
        "2. 공부한다\n",
        "3. 시험본다\n",
        "\n",
        "여기에서 2번 단계를 하는 여러 전략이 있을텐데요, 기출문제를 모두 외워버리면 과연 내가 실제 시험을 잘 치룰 수 있을지 아니면 공부를 더 해야할지 판단하기가 애매합니다. 괜찮은 전략 중 하나는 기출문제 중 일부를 임의로 뽑아내서 공부하고(training set을 이용한 학습), 나머지 기출문제를 풀어보며 내가 얼마나 잘 푸는지 평가를 해보는겁니다(validation set을 통해 학습의 성과를 검증). 잘 된다 싶으면 시험을 볼 준비가 된 것입니다(실전 투입).\n",
        "\n",
        "\n",
        "기출문제를 몽땅 외우면 기출문제 내에서는 100점을 받겠지만(overfitting), 실전에서도 그러한 성적을 가두리라 기대하기 어렵습니다."
      ]
    },
    {
      "metadata": {
        "id": "iGAVYlvOpmZM",
        "colab_type": "text"
      },
      "cell_type": "markdown",
      "source": [
        "## RF 평가"
      ]
    },
    {
      "metadata": {
        "id": "5yO5kq7CpmZM",
        "colab_type": "code",
        "colab": {
          "base_uri": "https://localhost:8080/",
          "height": 68
        },
        "outputId": "93abe491-c659-4935-cdea-e7fc728d966e"
      },
      "cell_type": "code",
      "source": [
        "from sklearn.model_selection import KFold\n",
        "from sklearn.model_selection import cross_val_score\n",
        "k_fold = KFold(n_splits=5, shuffle=True, random_state=0)\n",
        "\n",
        "scoring = 'accuracy'\n",
        "%time score = cross_val_score(forest, train_feature_vector, y_label, cv=k_fold, n_jobs=-1, scoring=scoring)\n",
        "score"
      ],
      "execution_count": 0,
      "outputs": [
        {
          "output_type": "stream",
          "text": [
            "CPU times: user 232 ms, sys: 55 ms, total: 287 ms\n",
            "Wall time: 4.49 s\n"
          ],
          "name": "stdout"
        },
        {
          "output_type": "execute_result",
          "data": {
            "text/plain": [
              "array([0.41843972, 0.44326241, 0.41281139, 0.42348754, 0.46263345])"
            ]
          },
          "metadata": {
            "tags": []
          },
          "execution_count": 94
        }
      ]
    },
    {
      "metadata": {
        "id": "MY2S4-IPpmZP",
        "colab_type": "code",
        "colab": {
          "base_uri": "https://localhost:8080/",
          "height": 34
        },
        "outputId": "23993a16-49ce-46c7-a541-98188d8f7c81"
      },
      "cell_type": "code",
      "source": [
        "round(np.mean(score)*100,2)"
      ],
      "execution_count": 0,
      "outputs": [
        {
          "output_type": "execute_result",
          "data": {
            "text/plain": [
              "43.21"
            ]
          },
          "metadata": {
            "tags": []
          },
          "execution_count": 95
        }
      ]
    },
    {
      "metadata": {
        "id": "b94Lkxx7pmZV",
        "colab_type": "text"
      },
      "cell_type": "markdown",
      "source": [
        "## xgb 평가"
      ]
    },
    {
      "metadata": {
        "id": "r0wrr8NSpmZW",
        "colab_type": "code",
        "colab": {
          "base_uri": "https://localhost:8080/",
          "height": 190
        },
        "outputId": "4776d78c-8d14-4083-ea47-05ae07c9827f"
      },
      "cell_type": "code",
      "source": [
        "%time score_xgb = cross_val_score(xgb, train_feature_tfidf, y_label, scoring=\"accuracy\").mean()\n",
        "print(round(np.mean(score_xgb)*100,2))"
      ],
      "execution_count": 0,
      "outputs": [
        {
          "output_type": "stream",
          "text": [
            "/usr/local/lib/python3.6/dist-packages/sklearn/preprocessing/label.py:151: DeprecationWarning: The truth value of an empty array is ambiguous. Returning False, but in future this will result in an error. Use `array.size > 0` to check that an array is not empty.\n",
            "  if diff:\n",
            "/usr/local/lib/python3.6/dist-packages/sklearn/preprocessing/label.py:151: DeprecationWarning: The truth value of an empty array is ambiguous. Returning False, but in future this will result in an error. Use `array.size > 0` to check that an array is not empty.\n",
            "  if diff:\n"
          ],
          "name": "stderr"
        },
        {
          "output_type": "stream",
          "text": [
            "CPU times: user 8.99 s, sys: 33.5 ms, total: 9.02 s\n",
            "Wall time: 4.56 s\n",
            "32.64\n"
          ],
          "name": "stdout"
        },
        {
          "output_type": "stream",
          "text": [
            "/usr/local/lib/python3.6/dist-packages/sklearn/preprocessing/label.py:151: DeprecationWarning: The truth value of an empty array is ambiguous. Returning False, but in future this will result in an error. Use `array.size > 0` to check that an array is not empty.\n",
            "  if diff:\n"
          ],
          "name": "stderr"
        }
      ]
    },
    {
      "metadata": {
        "id": "3VGloR9apmZa",
        "colab_type": "text"
      },
      "cell_type": "markdown",
      "source": [
        "# 예측\n",
        "## RF"
      ]
    },
    {
      "metadata": {
        "id": "NL0T0cpqpmZa",
        "colab_type": "code",
        "colab": {
          "base_uri": "https://localhost:8080/",
          "height": 34
        },
        "outputId": "18292ba5-5ab7-478c-8332-4c52d69cb128"
      },
      "cell_type": "code",
      "source": [
        "# 테스트 데이터를 넣고 예측합니다.\n",
        "y_pred = forest.predict(test_feature_vector)\n",
        "y_pred[:3]"
      ],
      "execution_count": 0,
      "outputs": [
        {
          "output_type": "execute_result",
          "data": {
            "text/plain": [
              "array(['교통/건축/국토', '반려동물', '경제민주화'], dtype=object)"
            ]
          },
          "metadata": {
            "tags": []
          },
          "execution_count": 99
        }
      ]
    },
    {
      "metadata": {
        "id": "6EiMVDMdpmZd",
        "colab_type": "code",
        "colab": {
          "base_uri": "https://localhost:8080/",
          "height": 34
        },
        "outputId": "f20d9e89-890d-4495-baf6-061c0423c3bb"
      },
      "cell_type": "code",
      "source": [
        "y_pred.shape"
      ],
      "execution_count": 0,
      "outputs": [
        {
          "output_type": "execute_result",
          "data": {
            "text/plain": [
              "(603,)"
            ]
          },
          "metadata": {
            "tags": []
          },
          "execution_count": 100
        }
      ]
    },
    {
      "metadata": {
        "id": "3C0e3MGopmZg",
        "colab_type": "text"
      },
      "cell_type": "markdown",
      "source": [
        "## XGB"
      ]
    },
    {
      "metadata": {
        "id": "qDhg-il2pmZi",
        "colab_type": "code",
        "colab": {
          "base_uri": "https://localhost:8080/",
          "height": 71
        },
        "outputId": "bf1afc7f-f6d8-4996-8bc5-665cda061d21"
      },
      "cell_type": "code",
      "source": [
        "y_pred_xgb = xgb.predict(test_feature_tfidf)"
      ],
      "execution_count": 0,
      "outputs": [
        {
          "output_type": "stream",
          "text": [
            "/usr/local/lib/python3.6/dist-packages/sklearn/preprocessing/label.py:151: DeprecationWarning: The truth value of an empty array is ambiguous. Returning False, but in future this will result in an error. Use `array.size > 0` to check that an array is not empty.\n",
            "  if diff:\n"
          ],
          "name": "stderr"
        }
      ]
    },
    {
      "metadata": {
        "id": "EA0RuVOipmZl",
        "colab_type": "code",
        "colab": {
          "base_uri": "https://localhost:8080/",
          "height": 51
        },
        "outputId": "5eb1d451-a5ff-4cf0-e8ff-eb52281af7b3"
      },
      "cell_type": "code",
      "source": [
        "print(y_pred_xgb.shape)\n",
        "df_test['category_pred_xgb'] = y_pred_xgb\n",
        "y_pred_xgb[:5]"
      ],
      "execution_count": 0,
      "outputs": [
        {
          "output_type": "stream",
          "text": [
            "(603,)\n"
          ],
          "name": "stdout"
        },
        {
          "output_type": "execute_result",
          "data": {
            "text/plain": [
              "array(['안전/환경', '반려동물', '경제민주화', '보건복지', '안전/환경'], dtype=object)"
            ]
          },
          "metadata": {
            "tags": []
          },
          "execution_count": 102
        }
      ]
    },
    {
      "metadata": {
        "id": "_7LDcHVPpmZq",
        "colab_type": "code",
        "colab": {
          "base_uri": "https://localhost:8080/",
          "height": 204
        },
        "outputId": "29ab5b70-0439-4679-c7fd-048682dfb18d"
      },
      "cell_type": "code",
      "source": [
        "# 예측 결과를 저장하기 위해 데이터프레임에 담아 줍니다.\n",
        "output = pd.DataFrame(data={'category_pred':y_pred})\n",
        "output.head()"
      ],
      "execution_count": 0,
      "outputs": [
        {
          "output_type": "execute_result",
          "data": {
            "text/html": [
              "<div>\n",
              "<style scoped>\n",
              "    .dataframe tbody tr th:only-of-type {\n",
              "        vertical-align: middle;\n",
              "    }\n",
              "\n",
              "    .dataframe tbody tr th {\n",
              "        vertical-align: top;\n",
              "    }\n",
              "\n",
              "    .dataframe thead th {\n",
              "        text-align: right;\n",
              "    }\n",
              "</style>\n",
              "<table border=\"1\" class=\"dataframe\">\n",
              "  <thead>\n",
              "    <tr style=\"text-align: right;\">\n",
              "      <th></th>\n",
              "      <th>category_pred</th>\n",
              "    </tr>\n",
              "  </thead>\n",
              "  <tbody>\n",
              "    <tr>\n",
              "      <th>0</th>\n",
              "      <td>교통/건축/국토</td>\n",
              "    </tr>\n",
              "    <tr>\n",
              "      <th>1</th>\n",
              "      <td>반려동물</td>\n",
              "    </tr>\n",
              "    <tr>\n",
              "      <th>2</th>\n",
              "      <td>경제민주화</td>\n",
              "    </tr>\n",
              "    <tr>\n",
              "      <th>3</th>\n",
              "      <td>보건복지</td>\n",
              "    </tr>\n",
              "    <tr>\n",
              "      <th>4</th>\n",
              "      <td>안전/환경</td>\n",
              "    </tr>\n",
              "  </tbody>\n",
              "</table>\n",
              "</div>"
            ],
            "text/plain": [
              "  category_pred\n",
              "0      교통/건축/국토\n",
              "1          반려동물\n",
              "2         경제민주화\n",
              "3          보건복지\n",
              "4         안전/환경"
            ]
          },
          "metadata": {
            "tags": []
          },
          "execution_count": 103
        }
      ]
    },
    {
      "metadata": {
        "id": "lDLlE6AtpmZt",
        "colab_type": "text"
      },
      "cell_type": "markdown",
      "source": [
        "### RF로 예측한 카테고리"
      ]
    },
    {
      "metadata": {
        "id": "9Qxy9ohcpmZu",
        "colab_type": "code",
        "colab": {
          "base_uri": "https://localhost:8080/",
          "height": 238
        },
        "outputId": "adf7acd3-420f-4bb6-8d3c-3592d3899d13"
      },
      "cell_type": "code",
      "source": [
        "# 0과 1이 어떻게 집계 되었는지 확인합니다.\n",
        "# 실제 데이터에는 답변 대상 건이 있는데 없는 것으로 예측되었\n",
        "output['category_pred'].value_counts()"
      ],
      "execution_count": 0,
      "outputs": [
        {
          "output_type": "execute_result",
          "data": {
            "text/plain": [
              "육아/교육          146\n",
              "보건복지           102\n",
              "안전/환경           94\n",
              "인권/성평등          65\n",
              "경제민주화           49\n",
              "반려동물            37\n",
              "정치개혁            33\n",
              "교통/건축/국토        31\n",
              "문화/예술/체육/언론     29\n",
              "외교/통일/국방         9\n",
              "일자리              7\n",
              "행정               1\n",
              "Name: category_pred, dtype: int64"
            ]
          },
          "metadata": {
            "tags": []
          },
          "execution_count": 104
        }
      ]
    },
    {
      "metadata": {
        "id": "rcrjZRcQpmZ2",
        "colab_type": "text"
      },
      "cell_type": "markdown",
      "source": [
        "### XGB로 예측한 카테고리"
      ]
    },
    {
      "metadata": {
        "id": "BpW344-6pmZ2",
        "colab_type": "code",
        "colab": {
          "base_uri": "https://localhost:8080/",
          "height": 255
        },
        "outputId": "13f9b8d1-dacc-4e70-fb2d-1c1b3552e07c"
      },
      "cell_type": "code",
      "source": [
        "df_test['category_pred_xgb'].value_counts()"
      ],
      "execution_count": 0,
      "outputs": [
        {
          "output_type": "execute_result",
          "data": {
            "text/plain": [
              "인권/성평등         130\n",
              "육아/교육           97\n",
              "반려동물            75\n",
              "안전/환경           66\n",
              "보건복지            54\n",
              "문화/예술/체육/언론     53\n",
              "교통/건축/국토        37\n",
              "정치개혁            36\n",
              "행정              16\n",
              "일자리             15\n",
              "경제민주화           14\n",
              "외교/통일/국방         7\n",
              "미래               3\n",
              "Name: category_pred_xgb, dtype: int64"
            ]
          },
          "metadata": {
            "tags": []
          },
          "execution_count": 105
        }
      ]
    },
    {
      "metadata": {
        "id": "qCyd_nMfpmZ9",
        "colab_type": "code",
        "colab": {}
      },
      "cell_type": "code",
      "source": [
        "df_test['category_pred'] = y_pred"
      ],
      "execution_count": 0,
      "outputs": []
    },
    {
      "metadata": {
        "id": "TlCEhHygpmZ-",
        "colab_type": "code",
        "colab": {
          "base_uri": "https://localhost:8080/",
          "height": 689
        },
        "outputId": "e9a5765d-7788-4964-cbcd-53ca3601d575"
      },
      "cell_type": "code",
      "source": [
        "df_test['pred_diff'] = 0\n",
        "df_test['pred_diff'] = (df_test['category'] == df_test['category_pred'] ) == 1\n",
        "df_test['pred_diff'] = df_test['pred_diff'].astype(int)\n",
        "df_test.head(3)"
      ],
      "execution_count": 0,
      "outputs": [
        {
          "output_type": "execute_result",
          "data": {
            "text/html": [
              "<div>\n",
              "<style scoped>\n",
              "    .dataframe tbody tr th:only-of-type {\n",
              "        vertical-align: middle;\n",
              "    }\n",
              "\n",
              "    .dataframe tbody tr th {\n",
              "        vertical-align: top;\n",
              "    }\n",
              "\n",
              "    .dataframe thead th {\n",
              "        text-align: right;\n",
              "    }\n",
              "</style>\n",
              "<table border=\"1\" class=\"dataframe\">\n",
              "  <thead>\n",
              "    <tr style=\"text-align: right;\">\n",
              "      <th></th>\n",
              "      <th>article_id</th>\n",
              "      <th>start</th>\n",
              "      <th>end</th>\n",
              "      <th>answered</th>\n",
              "      <th>votes</th>\n",
              "      <th>category</th>\n",
              "      <th>title</th>\n",
              "      <th>content</th>\n",
              "      <th>category_pred</th>\n",
              "      <th>content_preprocessing</th>\n",
              "      <th>content_preprocessing2</th>\n",
              "      <th>category_pred_xgb</th>\n",
              "      <th>pred_diff</th>\n",
              "    </tr>\n",
              "  </thead>\n",
              "  <tbody>\n",
              "    <tr>\n",
              "      <th>179796</th>\n",
              "      <td>224861</td>\n",
              "      <td>2018-05-05</td>\n",
              "      <td>2018-06-04</td>\n",
              "      <td>0</td>\n",
              "      <td>2339</td>\n",
              "      <td>문화/예술/체육/언론</td>\n",
              "      <td>만민중앙교회 이재록 목사 공정조사 청원</td>\n",
              "      <td>만민중앙교회 당회장 이재록 목사님에 대한 거짓 증언과 거짓 보도에 대한 공정한 조사...</td>\n",
              "      <td>교통/건축/국토</td>\n",
              "      <td>만민중앙교회 당회장 이재록 목사님에 대한 거짓 증언과 거짓 보도에 대한 공정한 조사...</td>\n",
              "      <td>만민중앙교회 당회장 이재록 목사님에 거짓 증언과 거짓 보도에 공정한 조사를 청원합니...</td>\n",
              "      <td>안전/환경</td>\n",
              "      <td>0</td>\n",
              "    </tr>\n",
              "    <tr>\n",
              "      <th>179842</th>\n",
              "      <td>224921</td>\n",
              "      <td>2018-05-05</td>\n",
              "      <td>2018-06-04</td>\n",
              "      <td>0</td>\n",
              "      <td>4824</td>\n",
              "      <td>인권/성평등</td>\n",
              "      <td>신안염전노예사건의 전면 재수사와,  당시 솜방망이 판결을 내린 판사들에 대한 처벌을...</td>\n",
              "      <td>5월5일 그것이 알고싶다에 나온 신안 염전 노예사건 방송은 충격 또 충격입니다\\n신...</td>\n",
              "      <td>반려동물</td>\n",
              "      <td>월 일 그것이 알고싶다에 나온 신안 염전 노예사건 방송은 충격 또 충격입니다 신안...</td>\n",
              "      <td>그것이 알고싶다에 나온 신안 염전 노예사건 방송은 충격 또 충격입니다 신안 염전에...</td>\n",
              "      <td>반려동물</td>\n",
              "      <td>0</td>\n",
              "    </tr>\n",
              "    <tr>\n",
              "      <th>180244</th>\n",
              "      <td>225457</td>\n",
              "      <td>2018-05-06</td>\n",
              "      <td>2018-06-05</td>\n",
              "      <td>0</td>\n",
              "      <td>1737</td>\n",
              "      <td>인권/성평등</td>\n",
              "      <td>강제적으로 제출한 취하장으로 인해 가해자를 제대로 처벌하지 못하는 점 개선시키고 싶...</td>\n",
              "      <td>안녕하세요. 제가 올린 청원글이 분량이 길고 부족한 점이 많더라도 끝까지 정독하여 ...</td>\n",
              "      <td>경제민주화</td>\n",
              "      <td>안녕하세요  제가 올린 청원글이 분량이 길고 부족한 점이 많더라도 끝까지 정독하여 ...</td>\n",
              "      <td>안녕하세요  제가 올린 청원글이 분량이 길고 부족한 점이 많더라도 끝까지 정독하여 ...</td>\n",
              "      <td>경제민주화</td>\n",
              "      <td>0</td>\n",
              "    </tr>\n",
              "  </tbody>\n",
              "</table>\n",
              "</div>"
            ],
            "text/plain": [
              "        article_id      start        end  answered  votes     category  \\\n",
              "179796      224861 2018-05-05 2018-06-04         0   2339  문화/예술/체육/언론   \n",
              "179842      224921 2018-05-05 2018-06-04         0   4824       인권/성평등   \n",
              "180244      225457 2018-05-06 2018-06-05         0   1737       인권/성평등   \n",
              "\n",
              "                                                    title  \\\n",
              "179796                              만민중앙교회 이재록 목사 공정조사 청원   \n",
              "179842  신안염전노예사건의 전면 재수사와,  당시 솜방망이 판결을 내린 판사들에 대한 처벌을...   \n",
              "180244  강제적으로 제출한 취하장으로 인해 가해자를 제대로 처벌하지 못하는 점 개선시키고 싶...   \n",
              "\n",
              "                                                  content category_pred  \\\n",
              "179796  만민중앙교회 당회장 이재록 목사님에 대한 거짓 증언과 거짓 보도에 대한 공정한 조사...      교통/건축/국토   \n",
              "179842  5월5일 그것이 알고싶다에 나온 신안 염전 노예사건 방송은 충격 또 충격입니다\\n신...          반려동물   \n",
              "180244  안녕하세요. 제가 올린 청원글이 분량이 길고 부족한 점이 많더라도 끝까지 정독하여 ...         경제민주화   \n",
              "\n",
              "                                    content_preprocessing  \\\n",
              "179796  만민중앙교회 당회장 이재록 목사님에 대한 거짓 증언과 거짓 보도에 대한 공정한 조사...   \n",
              "179842   월 일 그것이 알고싶다에 나온 신안 염전 노예사건 방송은 충격 또 충격입니다 신안...   \n",
              "180244  안녕하세요  제가 올린 청원글이 분량이 길고 부족한 점이 많더라도 끝까지 정독하여 ...   \n",
              "\n",
              "                                   content_preprocessing2 category_pred_xgb  \\\n",
              "179796  만민중앙교회 당회장 이재록 목사님에 거짓 증언과 거짓 보도에 공정한 조사를 청원합니...             안전/환경   \n",
              "179842   그것이 알고싶다에 나온 신안 염전 노예사건 방송은 충격 또 충격입니다 신안 염전에...              반려동물   \n",
              "180244  안녕하세요  제가 올린 청원글이 분량이 길고 부족한 점이 많더라도 끝까지 정독하여 ...             경제민주화   \n",
              "\n",
              "        pred_diff  \n",
              "179796          0  \n",
              "179842          0  \n",
              "180244          0  "
            ]
          },
          "metadata": {
            "tags": []
          },
          "execution_count": 107
        }
      ]
    },
    {
      "metadata": {
        "id": "yb6xYCc5pmaB",
        "colab_type": "code",
        "colab": {
          "base_uri": "https://localhost:8080/",
          "height": 689
        },
        "outputId": "c9f9d608-33f2-433c-ef8f-e80a5227a39c"
      },
      "cell_type": "code",
      "source": [
        "df_test['pred_diff_xgb'] = 0\n",
        "df_test['pred_diff_xgb'] = (df_test['category'] == df_test['category_pred_xgb'] ) == 1\n",
        "df_test['pred_diff_xgb'] = df_test['pred_diff_xgb'].astype(int)\n",
        "df_test.head(3)"
      ],
      "execution_count": 0,
      "outputs": [
        {
          "output_type": "execute_result",
          "data": {
            "text/html": [
              "<div>\n",
              "<style scoped>\n",
              "    .dataframe tbody tr th:only-of-type {\n",
              "        vertical-align: middle;\n",
              "    }\n",
              "\n",
              "    .dataframe tbody tr th {\n",
              "        vertical-align: top;\n",
              "    }\n",
              "\n",
              "    .dataframe thead th {\n",
              "        text-align: right;\n",
              "    }\n",
              "</style>\n",
              "<table border=\"1\" class=\"dataframe\">\n",
              "  <thead>\n",
              "    <tr style=\"text-align: right;\">\n",
              "      <th></th>\n",
              "      <th>article_id</th>\n",
              "      <th>start</th>\n",
              "      <th>end</th>\n",
              "      <th>answered</th>\n",
              "      <th>votes</th>\n",
              "      <th>category</th>\n",
              "      <th>title</th>\n",
              "      <th>content</th>\n",
              "      <th>category_pred</th>\n",
              "      <th>content_preprocessing</th>\n",
              "      <th>content_preprocessing2</th>\n",
              "      <th>category_pred_xgb</th>\n",
              "      <th>pred_diff</th>\n",
              "      <th>pred_diff_xgb</th>\n",
              "    </tr>\n",
              "  </thead>\n",
              "  <tbody>\n",
              "    <tr>\n",
              "      <th>179796</th>\n",
              "      <td>224861</td>\n",
              "      <td>2018-05-05</td>\n",
              "      <td>2018-06-04</td>\n",
              "      <td>0</td>\n",
              "      <td>2339</td>\n",
              "      <td>문화/예술/체육/언론</td>\n",
              "      <td>만민중앙교회 이재록 목사 공정조사 청원</td>\n",
              "      <td>만민중앙교회 당회장 이재록 목사님에 대한 거짓 증언과 거짓 보도에 대한 공정한 조사...</td>\n",
              "      <td>교통/건축/국토</td>\n",
              "      <td>만민중앙교회 당회장 이재록 목사님에 대한 거짓 증언과 거짓 보도에 대한 공정한 조사...</td>\n",
              "      <td>만민중앙교회 당회장 이재록 목사님에 거짓 증언과 거짓 보도에 공정한 조사를 청원합니...</td>\n",
              "      <td>안전/환경</td>\n",
              "      <td>0</td>\n",
              "      <td>0</td>\n",
              "    </tr>\n",
              "    <tr>\n",
              "      <th>179842</th>\n",
              "      <td>224921</td>\n",
              "      <td>2018-05-05</td>\n",
              "      <td>2018-06-04</td>\n",
              "      <td>0</td>\n",
              "      <td>4824</td>\n",
              "      <td>인권/성평등</td>\n",
              "      <td>신안염전노예사건의 전면 재수사와,  당시 솜방망이 판결을 내린 판사들에 대한 처벌을...</td>\n",
              "      <td>5월5일 그것이 알고싶다에 나온 신안 염전 노예사건 방송은 충격 또 충격입니다\\n신...</td>\n",
              "      <td>반려동물</td>\n",
              "      <td>월 일 그것이 알고싶다에 나온 신안 염전 노예사건 방송은 충격 또 충격입니다 신안...</td>\n",
              "      <td>그것이 알고싶다에 나온 신안 염전 노예사건 방송은 충격 또 충격입니다 신안 염전에...</td>\n",
              "      <td>반려동물</td>\n",
              "      <td>0</td>\n",
              "      <td>0</td>\n",
              "    </tr>\n",
              "    <tr>\n",
              "      <th>180244</th>\n",
              "      <td>225457</td>\n",
              "      <td>2018-05-06</td>\n",
              "      <td>2018-06-05</td>\n",
              "      <td>0</td>\n",
              "      <td>1737</td>\n",
              "      <td>인권/성평등</td>\n",
              "      <td>강제적으로 제출한 취하장으로 인해 가해자를 제대로 처벌하지 못하는 점 개선시키고 싶...</td>\n",
              "      <td>안녕하세요. 제가 올린 청원글이 분량이 길고 부족한 점이 많더라도 끝까지 정독하여 ...</td>\n",
              "      <td>경제민주화</td>\n",
              "      <td>안녕하세요  제가 올린 청원글이 분량이 길고 부족한 점이 많더라도 끝까지 정독하여 ...</td>\n",
              "      <td>안녕하세요  제가 올린 청원글이 분량이 길고 부족한 점이 많더라도 끝까지 정독하여 ...</td>\n",
              "      <td>경제민주화</td>\n",
              "      <td>0</td>\n",
              "      <td>0</td>\n",
              "    </tr>\n",
              "  </tbody>\n",
              "</table>\n",
              "</div>"
            ],
            "text/plain": [
              "        article_id      start        end  answered  votes     category  \\\n",
              "179796      224861 2018-05-05 2018-06-04         0   2339  문화/예술/체육/언론   \n",
              "179842      224921 2018-05-05 2018-06-04         0   4824       인권/성평등   \n",
              "180244      225457 2018-05-06 2018-06-05         0   1737       인권/성평등   \n",
              "\n",
              "                                                    title  \\\n",
              "179796                              만민중앙교회 이재록 목사 공정조사 청원   \n",
              "179842  신안염전노예사건의 전면 재수사와,  당시 솜방망이 판결을 내린 판사들에 대한 처벌을...   \n",
              "180244  강제적으로 제출한 취하장으로 인해 가해자를 제대로 처벌하지 못하는 점 개선시키고 싶...   \n",
              "\n",
              "                                                  content category_pred  \\\n",
              "179796  만민중앙교회 당회장 이재록 목사님에 대한 거짓 증언과 거짓 보도에 대한 공정한 조사...      교통/건축/국토   \n",
              "179842  5월5일 그것이 알고싶다에 나온 신안 염전 노예사건 방송은 충격 또 충격입니다\\n신...          반려동물   \n",
              "180244  안녕하세요. 제가 올린 청원글이 분량이 길고 부족한 점이 많더라도 끝까지 정독하여 ...         경제민주화   \n",
              "\n",
              "                                    content_preprocessing  \\\n",
              "179796  만민중앙교회 당회장 이재록 목사님에 대한 거짓 증언과 거짓 보도에 대한 공정한 조사...   \n",
              "179842   월 일 그것이 알고싶다에 나온 신안 염전 노예사건 방송은 충격 또 충격입니다 신안...   \n",
              "180244  안녕하세요  제가 올린 청원글이 분량이 길고 부족한 점이 많더라도 끝까지 정독하여 ...   \n",
              "\n",
              "                                   content_preprocessing2 category_pred_xgb  \\\n",
              "179796  만민중앙교회 당회장 이재록 목사님에 거짓 증언과 거짓 보도에 공정한 조사를 청원합니...             안전/환경   \n",
              "179842   그것이 알고싶다에 나온 신안 염전 노예사건 방송은 충격 또 충격입니다 신안 염전에...              반려동물   \n",
              "180244  안녕하세요  제가 올린 청원글이 분량이 길고 부족한 점이 많더라도 끝까지 정독하여 ...             경제민주화   \n",
              "\n",
              "        pred_diff  pred_diff_xgb  \n",
              "179796          0              0  \n",
              "179842          0              0  \n",
              "180244          0              0  "
            ]
          },
          "metadata": {
            "tags": []
          },
          "execution_count": 108
        }
      ]
    },
    {
      "metadata": {
        "id": "ux08QMJ7pmaH",
        "colab_type": "code",
        "colab": {
          "base_uri": "https://localhost:8080/",
          "height": 68
        },
        "outputId": "af4ee2d5-0b19-4f2c-abaa-dbf00b010136"
      },
      "cell_type": "code",
      "source": [
        "# RF로 맞게 예측한 청원은 1, 틀린 예측은 0으로 표기되었습니다.\n",
        "pred_diff = df_test['pred_diff'].value_counts()\n",
        "pred_diff"
      ],
      "execution_count": 0,
      "outputs": [
        {
          "output_type": "execute_result",
          "data": {
            "text/plain": [
              "0    554\n",
              "1     49\n",
              "Name: pred_diff, dtype: int64"
            ]
          },
          "metadata": {
            "tags": []
          },
          "execution_count": 109
        }
      ]
    },
    {
      "metadata": {
        "id": "Lp8lfy6FpmaJ",
        "colab_type": "code",
        "colab": {
          "base_uri": "https://localhost:8080/",
          "height": 68
        },
        "outputId": "7a1070b2-b84b-477b-fafb-20155f462769"
      },
      "cell_type": "code",
      "source": [
        "# XGB로 맞게 예측한 청원은 1, 틀린 예측은 0으로 표기되었습니다.\n",
        "pred_diff_xgb = df_test['pred_diff_xgb'].value_counts()\n",
        "pred_diff_xgb"
      ],
      "execution_count": 0,
      "outputs": [
        {
          "output_type": "execute_result",
          "data": {
            "text/plain": [
              "0    559\n",
              "1     44\n",
              "Name: pred_diff_xgb, dtype: int64"
            ]
          },
          "metadata": {
            "tags": []
          },
          "execution_count": 110
        }
      ]
    },
    {
      "metadata": {
        "id": "Qmy5fG4jpmaK",
        "colab_type": "code",
        "colab": {
          "base_uri": "https://localhost:8080/",
          "height": 34
        },
        "outputId": "370f6223-43c3-441c-b8af-9a0831d8e00f"
      },
      "cell_type": "code",
      "source": [
        "print('RF 전체 {}건의 데이터 중 {}건 예측'.format(y_pred.shape[0], pred_diff[1]))"
      ],
      "execution_count": 0,
      "outputs": [
        {
          "output_type": "stream",
          "text": [
            "RF 전체 603건의 데이터 중 49건 예측\n"
          ],
          "name": "stdout"
        }
      ]
    },
    {
      "metadata": {
        "id": "GLM3gZ8_pmaM",
        "colab_type": "code",
        "colab": {
          "base_uri": "https://localhost:8080/",
          "height": 34
        },
        "outputId": "00b79332-bc12-4ff0-9067-54242f14ae5d"
      },
      "cell_type": "code",
      "source": [
        "print('XGB 전체 {}건의 데이터 중 {}건 예측'.format(y_pred_xgb.shape[0], pred_diff_xgb[1]))"
      ],
      "execution_count": 0,
      "outputs": [
        {
          "output_type": "stream",
          "text": [
            "XGB 전체 603건의 데이터 중 44건 예측\n"
          ],
          "name": "stdout"
        }
      ]
    },
    {
      "metadata": {
        "id": "QCvjflB5pmaO",
        "colab_type": "code",
        "colab": {
          "base_uri": "https://localhost:8080/",
          "height": 34
        },
        "outputId": "eab98254-63b7-472f-fb2b-7d3c45680987"
      },
      "cell_type": "code",
      "source": [
        "acc = ( pred_diff[1] / y_pred.shape[0] )*100 \n",
        "print('예측 비율 {}'.format(acc))"
      ],
      "execution_count": 0,
      "outputs": [
        {
          "output_type": "stream",
          "text": [
            "예측 비율 8.12603648424544\n"
          ],
          "name": "stdout"
        }
      ]
    },
    {
      "metadata": {
        "id": "cJKVknT6pmaU",
        "colab_type": "code",
        "colab": {
          "base_uri": "https://localhost:8080/",
          "height": 34
        },
        "outputId": "69f75ff9-dd99-45f3-e71a-97478420daa7"
      },
      "cell_type": "code",
      "source": [
        "acc = ( pred_diff_xgb[1] / y_pred_xgb.shape[0] )*100 \n",
        "print('예측 비율 {}'.format(acc))"
      ],
      "execution_count": 0,
      "outputs": [
        {
          "output_type": "stream",
          "text": [
            "예측 비율 7.2968490878938645\n"
          ],
          "name": "stdout"
        }
      ]
    },
    {
      "metadata": {
        "id": "MjCOpuY0pmaZ",
        "colab_type": "code",
        "colab": {
          "base_uri": "https://localhost:8080/",
          "height": 1023
        },
        "outputId": "a772617b-0875-4c86-ccc6-e173d7f2b9cf"
      },
      "cell_type": "code",
      "source": [
        "# 제대로 예측한 카테고리 데이터를 봅니다.\n",
        "predict_correct = df_test.loc[df_test['pred_diff'] == 1]\n",
        "predict_correct.head()"
      ],
      "execution_count": 0,
      "outputs": [
        {
          "output_type": "execute_result",
          "data": {
            "text/html": [
              "<div>\n",
              "<style scoped>\n",
              "    .dataframe tbody tr th:only-of-type {\n",
              "        vertical-align: middle;\n",
              "    }\n",
              "\n",
              "    .dataframe tbody tr th {\n",
              "        vertical-align: top;\n",
              "    }\n",
              "\n",
              "    .dataframe thead th {\n",
              "        text-align: right;\n",
              "    }\n",
              "</style>\n",
              "<table border=\"1\" class=\"dataframe\">\n",
              "  <thead>\n",
              "    <tr style=\"text-align: right;\">\n",
              "      <th></th>\n",
              "      <th>article_id</th>\n",
              "      <th>start</th>\n",
              "      <th>end</th>\n",
              "      <th>answered</th>\n",
              "      <th>votes</th>\n",
              "      <th>category</th>\n",
              "      <th>title</th>\n",
              "      <th>content</th>\n",
              "      <th>category_pred</th>\n",
              "      <th>content_preprocessing</th>\n",
              "      <th>content_preprocessing2</th>\n",
              "      <th>category_pred_xgb</th>\n",
              "      <th>pred_diff</th>\n",
              "      <th>pred_diff_xgb</th>\n",
              "    </tr>\n",
              "  </thead>\n",
              "  <tbody>\n",
              "    <tr>\n",
              "      <th>181601</th>\n",
              "      <td>227378</td>\n",
              "      <td>2018-05-08</td>\n",
              "      <td>2018-06-07</td>\n",
              "      <td>0</td>\n",
              "      <td>1561</td>\n",
              "      <td>육아/교육</td>\n",
              "      <td>경기도 광주시 오포읍 신현초.능평초 설립해주세요.</td>\n",
              "      <td>경기도 광주시 오포읍에 초등학교라고는\\n70년 전 분교로 개교한 광명초 하나뿐이며\\...</td>\n",
              "      <td>육아/교육</td>\n",
              "      <td>경기도 광주시 오포읍에 초등학교라고는   년 전 분교로 개교한 광명초 하나뿐이며 현...</td>\n",
              "      <td>경기도 광주시 오포읍에 초등학교라고는   년 전 분교로 개교한 광명초 하나뿐이며 현...</td>\n",
              "      <td>반려동물</td>\n",
              "      <td>1</td>\n",
              "      <td>0</td>\n",
              "    </tr>\n",
              "    <tr>\n",
              "      <th>182631</th>\n",
              "      <td>228841</td>\n",
              "      <td>2018-05-09</td>\n",
              "      <td>2018-06-08</td>\n",
              "      <td>0</td>\n",
              "      <td>5289</td>\n",
              "      <td>보건복지</td>\n",
              "      <td>의술로 상처 받고, 법으로 남은 희망마저 무참히 밟혀버렸습니다-의료사고 언제까지 피...</td>\n",
              "      <td>이 이야기는 9년 전 시작된 제 동생의 이야기입니다.\\n2010년 6월 10일 오후...</td>\n",
              "      <td>보건복지</td>\n",
              "      <td>이 이야기는  년 전 시작된 제 동생의 이야기입니다      년  월   일 오후 ...</td>\n",
              "      <td>이 이야기는  년 전 시작된 동생의 이야기입니다      년    오후  시   분...</td>\n",
              "      <td>인권/성평등</td>\n",
              "      <td>1</td>\n",
              "      <td>0</td>\n",
              "    </tr>\n",
              "    <tr>\n",
              "      <th>183347</th>\n",
              "      <td>229935</td>\n",
              "      <td>2018-05-10</td>\n",
              "      <td>2018-06-09</td>\n",
              "      <td>0</td>\n",
              "      <td>3024</td>\n",
              "      <td>육아/교육</td>\n",
              "      <td>학생들의 안전과 학습을 침해하는 영양교사, 보건교사 제도를 폐지해주세요.</td>\n",
              "      <td>저는 2개 대학을 졸업했습니다. 그래서 보건교사 자격증과 초등교사 자격증이 모두 있...</td>\n",
              "      <td>육아/교육</td>\n",
              "      <td>저는  개 대학을 졸업했습니다  그래서 보건교사 자격증과 초등교사 자격증이 모두 있...</td>\n",
              "      <td>개 대학을 졸업했습니다  그래서 보건교사 자격증과 초등교사 자격증이 모두 현직 교...</td>\n",
              "      <td>육아/교육</td>\n",
              "      <td>1</td>\n",
              "      <td>1</td>\n",
              "    </tr>\n",
              "    <tr>\n",
              "      <th>183929</th>\n",
              "      <td>230732</td>\n",
              "      <td>2018-05-12</td>\n",
              "      <td>2018-06-11</td>\n",
              "      <td>0</td>\n",
              "      <td>6221</td>\n",
              "      <td>보건복지</td>\n",
              "      <td>소방청은 구급대원에게 관심이 없습니다.</td>\n",
              "      <td>구급대를 소방청에서 보건복지부 산하로 들어가거나 소방조직 내에 독립적으로 분리되었으...</td>\n",
              "      <td>보건복지</td>\n",
              "      <td>구급대를 소방청에서 보건복지부 산하로 들어가거나 소방조직 내에 독립적으로 분리되었으...</td>\n",
              "      <td>구급대를 소방청에서 보건복지부 산하로 들어가거나 소방조직 내에 독립적으로 분리되었으...</td>\n",
              "      <td>육아/교육</td>\n",
              "      <td>1</td>\n",
              "      <td>0</td>\n",
              "    </tr>\n",
              "    <tr>\n",
              "      <th>184906</th>\n",
              "      <td>232229</td>\n",
              "      <td>2018-05-14</td>\n",
              "      <td>2018-06-13</td>\n",
              "      <td>0</td>\n",
              "      <td>1072</td>\n",
              "      <td>육아/교육</td>\n",
              "      <td>스승이 없는 스승의 날은 차라리 폐지 또는 휴일지정 하여 주십시오.</td>\n",
              "      <td>17년차 고등학교 교사입니다.\\n내일이면 스승의 날입니다.\\n하지만, 교육 현장에 ...</td>\n",
              "      <td>육아/교육</td>\n",
              "      <td>년차 고등학교 교사입니다  내일이면 스승의 날입니다  하지만  교육 현장에 스승...</td>\n",
              "      <td>년차 고등학교 교사입니다  내일이면 스승의 날입니다  하지만  교육 현장에 스승...</td>\n",
              "      <td>외교/통일/국방</td>\n",
              "      <td>1</td>\n",
              "      <td>0</td>\n",
              "    </tr>\n",
              "  </tbody>\n",
              "</table>\n",
              "</div>"
            ],
            "text/plain": [
              "        article_id      start        end  answered  votes category  \\\n",
              "181601      227378 2018-05-08 2018-06-07         0   1561    육아/교육   \n",
              "182631      228841 2018-05-09 2018-06-08         0   5289     보건복지   \n",
              "183347      229935 2018-05-10 2018-06-09         0   3024    육아/교육   \n",
              "183929      230732 2018-05-12 2018-06-11         0   6221     보건복지   \n",
              "184906      232229 2018-05-14 2018-06-13         0   1072    육아/교육   \n",
              "\n",
              "                                                    title  \\\n",
              "181601                        경기도 광주시 오포읍 신현초.능평초 설립해주세요.   \n",
              "182631  의술로 상처 받고, 법으로 남은 희망마저 무참히 밟혀버렸습니다-의료사고 언제까지 피...   \n",
              "183347           학생들의 안전과 학습을 침해하는 영양교사, 보건교사 제도를 폐지해주세요.   \n",
              "183929                              소방청은 구급대원에게 관심이 없습니다.   \n",
              "184906              스승이 없는 스승의 날은 차라리 폐지 또는 휴일지정 하여 주십시오.   \n",
              "\n",
              "                                                  content category_pred  \\\n",
              "181601  경기도 광주시 오포읍에 초등학교라고는\\n70년 전 분교로 개교한 광명초 하나뿐이며\\...         육아/교육   \n",
              "182631  이 이야기는 9년 전 시작된 제 동생의 이야기입니다.\\n2010년 6월 10일 오후...          보건복지   \n",
              "183347  저는 2개 대학을 졸업했습니다. 그래서 보건교사 자격증과 초등교사 자격증이 모두 있...         육아/교육   \n",
              "183929  구급대를 소방청에서 보건복지부 산하로 들어가거나 소방조직 내에 독립적으로 분리되었으...          보건복지   \n",
              "184906  17년차 고등학교 교사입니다.\\n내일이면 스승의 날입니다.\\n하지만, 교육 현장에 ...         육아/교육   \n",
              "\n",
              "                                    content_preprocessing  \\\n",
              "181601  경기도 광주시 오포읍에 초등학교라고는   년 전 분교로 개교한 광명초 하나뿐이며 현...   \n",
              "182631  이 이야기는  년 전 시작된 제 동생의 이야기입니다      년  월   일 오후 ...   \n",
              "183347  저는  개 대학을 졸업했습니다  그래서 보건교사 자격증과 초등교사 자격증이 모두 있...   \n",
              "183929  구급대를 소방청에서 보건복지부 산하로 들어가거나 소방조직 내에 독립적으로 분리되었으...   \n",
              "184906    년차 고등학교 교사입니다  내일이면 스승의 날입니다  하지만  교육 현장에 스승...   \n",
              "\n",
              "                                   content_preprocessing2 category_pred_xgb  \\\n",
              "181601  경기도 광주시 오포읍에 초등학교라고는   년 전 분교로 개교한 광명초 하나뿐이며 현...              반려동물   \n",
              "182631  이 이야기는  년 전 시작된 동생의 이야기입니다      년    오후  시   분...            인권/성평등   \n",
              "183347   개 대학을 졸업했습니다  그래서 보건교사 자격증과 초등교사 자격증이 모두 현직 교...             육아/교육   \n",
              "183929  구급대를 소방청에서 보건복지부 산하로 들어가거나 소방조직 내에 독립적으로 분리되었으...             육아/교육   \n",
              "184906    년차 고등학교 교사입니다  내일이면 스승의 날입니다  하지만  교육 현장에 스승...          외교/통일/국방   \n",
              "\n",
              "        pred_diff  pred_diff_xgb  \n",
              "181601          1              0  \n",
              "182631          1              0  \n",
              "183347          1              1  \n",
              "183929          1              0  \n",
              "184906          1              0  "
            ]
          },
          "metadata": {
            "tags": []
          },
          "execution_count": 115
        }
      ]
    },
    {
      "metadata": {
        "id": "IzVu35SXpmaa",
        "colab_type": "code",
        "colab": {
          "base_uri": "https://localhost:8080/",
          "height": 1074
        },
        "outputId": "d4452140-c389-4f02-99ed-61699cecd936"
      },
      "cell_type": "code",
      "source": [
        "predict_incorrect = df_test.loc[df_test['pred_diff_xgb'] == 0].copy()\n",
        "predict_incorrect.head()"
      ],
      "execution_count": 0,
      "outputs": [
        {
          "output_type": "execute_result",
          "data": {
            "text/html": [
              "<div>\n",
              "<style scoped>\n",
              "    .dataframe tbody tr th:only-of-type {\n",
              "        vertical-align: middle;\n",
              "    }\n",
              "\n",
              "    .dataframe tbody tr th {\n",
              "        vertical-align: top;\n",
              "    }\n",
              "\n",
              "    .dataframe thead th {\n",
              "        text-align: right;\n",
              "    }\n",
              "</style>\n",
              "<table border=\"1\" class=\"dataframe\">\n",
              "  <thead>\n",
              "    <tr style=\"text-align: right;\">\n",
              "      <th></th>\n",
              "      <th>article_id</th>\n",
              "      <th>start</th>\n",
              "      <th>end</th>\n",
              "      <th>answered</th>\n",
              "      <th>votes</th>\n",
              "      <th>category</th>\n",
              "      <th>title</th>\n",
              "      <th>content</th>\n",
              "      <th>category_pred</th>\n",
              "      <th>content_preprocessing</th>\n",
              "      <th>content_preprocessing2</th>\n",
              "      <th>category_pred_xgb</th>\n",
              "      <th>pred_diff</th>\n",
              "      <th>pred_diff_xgb</th>\n",
              "    </tr>\n",
              "  </thead>\n",
              "  <tbody>\n",
              "    <tr>\n",
              "      <th>179796</th>\n",
              "      <td>224861</td>\n",
              "      <td>2018-05-05</td>\n",
              "      <td>2018-06-04</td>\n",
              "      <td>0</td>\n",
              "      <td>2339</td>\n",
              "      <td>문화/예술/체육/언론</td>\n",
              "      <td>만민중앙교회 이재록 목사 공정조사 청원</td>\n",
              "      <td>만민중앙교회 당회장 이재록 목사님에 대한 거짓 증언과 거짓 보도에 대한 공정한 조사...</td>\n",
              "      <td>교통/건축/국토</td>\n",
              "      <td>만민중앙교회 당회장 이재록 목사님에 대한 거짓 증언과 거짓 보도에 대한 공정한 조사...</td>\n",
              "      <td>만민중앙교회 당회장 이재록 목사님에 거짓 증언과 거짓 보도에 공정한 조사를 청원합니...</td>\n",
              "      <td>안전/환경</td>\n",
              "      <td>0</td>\n",
              "      <td>0</td>\n",
              "    </tr>\n",
              "    <tr>\n",
              "      <th>179842</th>\n",
              "      <td>224921</td>\n",
              "      <td>2018-05-05</td>\n",
              "      <td>2018-06-04</td>\n",
              "      <td>0</td>\n",
              "      <td>4824</td>\n",
              "      <td>인권/성평등</td>\n",
              "      <td>신안염전노예사건의 전면 재수사와,  당시 솜방망이 판결을 내린 판사들에 대한 처벌을...</td>\n",
              "      <td>5월5일 그것이 알고싶다에 나온 신안 염전 노예사건 방송은 충격 또 충격입니다\\n신...</td>\n",
              "      <td>반려동물</td>\n",
              "      <td>월 일 그것이 알고싶다에 나온 신안 염전 노예사건 방송은 충격 또 충격입니다 신안...</td>\n",
              "      <td>그것이 알고싶다에 나온 신안 염전 노예사건 방송은 충격 또 충격입니다 신안 염전에...</td>\n",
              "      <td>반려동물</td>\n",
              "      <td>0</td>\n",
              "      <td>0</td>\n",
              "    </tr>\n",
              "    <tr>\n",
              "      <th>180244</th>\n",
              "      <td>225457</td>\n",
              "      <td>2018-05-06</td>\n",
              "      <td>2018-06-05</td>\n",
              "      <td>0</td>\n",
              "      <td>1737</td>\n",
              "      <td>인권/성평등</td>\n",
              "      <td>강제적으로 제출한 취하장으로 인해 가해자를 제대로 처벌하지 못하는 점 개선시키고 싶...</td>\n",
              "      <td>안녕하세요. 제가 올린 청원글이 분량이 길고 부족한 점이 많더라도 끝까지 정독하여 ...</td>\n",
              "      <td>경제민주화</td>\n",
              "      <td>안녕하세요  제가 올린 청원글이 분량이 길고 부족한 점이 많더라도 끝까지 정독하여 ...</td>\n",
              "      <td>안녕하세요  제가 올린 청원글이 분량이 길고 부족한 점이 많더라도 끝까지 정독하여 ...</td>\n",
              "      <td>경제민주화</td>\n",
              "      <td>0</td>\n",
              "      <td>0</td>\n",
              "    </tr>\n",
              "    <tr>\n",
              "      <th>180246</th>\n",
              "      <td>225462</td>\n",
              "      <td>2018-05-06</td>\n",
              "      <td>2018-06-05</td>\n",
              "      <td>0</td>\n",
              "      <td>1025</td>\n",
              "      <td>정치개혁</td>\n",
              "      <td>뇌물수뢰 의혹이 있는 부패한 정치인 최대호 더불어민주당 안양시장 후보의 자격 박탈을...</td>\n",
              "      <td>최대호 더불어민주당 안양시장 후보는 안양시장 재직(2010년 7월~2014년 6월)...</td>\n",
              "      <td>보건복지</td>\n",
              "      <td>최대호 더불어민주당 안양시장 후보는 안양시장 재직     년  월     년  월 ...</td>\n",
              "      <td>최대호 더불어민주당 안양시장 후보는 안양시장 재직     년      년   당시 ...</td>\n",
              "      <td>보건복지</td>\n",
              "      <td>0</td>\n",
              "      <td>0</td>\n",
              "    </tr>\n",
              "    <tr>\n",
              "      <th>180330</th>\n",
              "      <td>225641</td>\n",
              "      <td>2018-05-06</td>\n",
              "      <td>2018-06-05</td>\n",
              "      <td>0</td>\n",
              "      <td>4565</td>\n",
              "      <td>정치개혁</td>\n",
              "      <td>국회해산 및 재구성</td>\n",
              "      <td>4월 한 달을 꼬박~!!!\\n단 한 번의 회의도,\\n단 한 건의 법안도 처리하지 않...</td>\n",
              "      <td>안전/환경</td>\n",
              "      <td>월 한 달을 꼬박     단 한 번의 회의도  단 한 건의 법안도 처리하지 않은 ...</td>\n",
              "      <td>달을 꼬박     단 번의 회의도  단 건의 법안도 처리하지 않은 국회는 누구를 ...</td>\n",
              "      <td>안전/환경</td>\n",
              "      <td>0</td>\n",
              "      <td>0</td>\n",
              "    </tr>\n",
              "  </tbody>\n",
              "</table>\n",
              "</div>"
            ],
            "text/plain": [
              "        article_id      start        end  answered  votes     category  \\\n",
              "179796      224861 2018-05-05 2018-06-04         0   2339  문화/예술/체육/언론   \n",
              "179842      224921 2018-05-05 2018-06-04         0   4824       인권/성평등   \n",
              "180244      225457 2018-05-06 2018-06-05         0   1737       인권/성평등   \n",
              "180246      225462 2018-05-06 2018-06-05         0   1025         정치개혁   \n",
              "180330      225641 2018-05-06 2018-06-05         0   4565         정치개혁   \n",
              "\n",
              "                                                    title  \\\n",
              "179796                              만민중앙교회 이재록 목사 공정조사 청원   \n",
              "179842  신안염전노예사건의 전면 재수사와,  당시 솜방망이 판결을 내린 판사들에 대한 처벌을...   \n",
              "180244  강제적으로 제출한 취하장으로 인해 가해자를 제대로 처벌하지 못하는 점 개선시키고 싶...   \n",
              "180246  뇌물수뢰 의혹이 있는 부패한 정치인 최대호 더불어민주당 안양시장 후보의 자격 박탈을...   \n",
              "180330                                         국회해산 및 재구성   \n",
              "\n",
              "                                                  content category_pred  \\\n",
              "179796  만민중앙교회 당회장 이재록 목사님에 대한 거짓 증언과 거짓 보도에 대한 공정한 조사...      교통/건축/국토   \n",
              "179842  5월5일 그것이 알고싶다에 나온 신안 염전 노예사건 방송은 충격 또 충격입니다\\n신...          반려동물   \n",
              "180244  안녕하세요. 제가 올린 청원글이 분량이 길고 부족한 점이 많더라도 끝까지 정독하여 ...         경제민주화   \n",
              "180246  최대호 더불어민주당 안양시장 후보는 안양시장 재직(2010년 7월~2014년 6월)...          보건복지   \n",
              "180330  4월 한 달을 꼬박~!!!\\n단 한 번의 회의도,\\n단 한 건의 법안도 처리하지 않...         안전/환경   \n",
              "\n",
              "                                    content_preprocessing  \\\n",
              "179796  만민중앙교회 당회장 이재록 목사님에 대한 거짓 증언과 거짓 보도에 대한 공정한 조사...   \n",
              "179842   월 일 그것이 알고싶다에 나온 신안 염전 노예사건 방송은 충격 또 충격입니다 신안...   \n",
              "180244  안녕하세요  제가 올린 청원글이 분량이 길고 부족한 점이 많더라도 끝까지 정독하여 ...   \n",
              "180246  최대호 더불어민주당 안양시장 후보는 안양시장 재직     년  월     년  월 ...   \n",
              "180330   월 한 달을 꼬박     단 한 번의 회의도  단 한 건의 법안도 처리하지 않은 ...   \n",
              "\n",
              "                                   content_preprocessing2 category_pred_xgb  \\\n",
              "179796  만민중앙교회 당회장 이재록 목사님에 거짓 증언과 거짓 보도에 공정한 조사를 청원합니...             안전/환경   \n",
              "179842   그것이 알고싶다에 나온 신안 염전 노예사건 방송은 충격 또 충격입니다 신안 염전에...              반려동물   \n",
              "180244  안녕하세요  제가 올린 청원글이 분량이 길고 부족한 점이 많더라도 끝까지 정독하여 ...             경제민주화   \n",
              "180246  최대호 더불어민주당 안양시장 후보는 안양시장 재직     년      년   당시 ...              보건복지   \n",
              "180330   달을 꼬박     단 번의 회의도  단 건의 법안도 처리하지 않은 국회는 누구를 ...             안전/환경   \n",
              "\n",
              "        pred_diff  pred_diff_xgb  \n",
              "179796          0              0  \n",
              "179842          0              0  \n",
              "180244          0              0  \n",
              "180246          0              0  \n",
              "180330          0              0  "
            ]
          },
          "metadata": {
            "tags": []
          },
          "execution_count": 116
        }
      ]
    },
    {
      "metadata": {
        "id": "SlQIvK6cpmad",
        "colab_type": "code",
        "colab": {
          "base_uri": "https://localhost:8080/",
          "height": 306
        },
        "outputId": "fe4b0031-8c99-4326-cd15-ba834e8e02d3"
      },
      "cell_type": "code",
      "source": [
        "predict_incorrect_value = predict_incorrect['category'].value_counts()\n",
        "predict_incorrect_value"
      ],
      "execution_count": 0,
      "outputs": [
        {
          "output_type": "execute_result",
          "data": {
            "text/plain": [
              "기타             157\n",
              "인권/성평등          70\n",
              "육아/교육           52\n",
              "정치개혁            45\n",
              "안전/환경           41\n",
              "보건복지            32\n",
              "외교/통일/국방        28\n",
              "행정              27\n",
              "교통/건축/국토        26\n",
              "반려동물            20\n",
              "문화/예술/체육/언론     15\n",
              "경제민주화           14\n",
              "일자리             13\n",
              "미래               9\n",
              "저출산/고령화대책        6\n",
              "성장동력             4\n",
              "Name: category, dtype: int64"
            ]
          },
          "metadata": {
            "tags": []
          },
          "execution_count": 117
        }
      ]
    },
    {
      "metadata": {
        "id": "kEAbqPWjpmaq",
        "colab_type": "code",
        "colab": {
          "base_uri": "https://localhost:8080/",
          "height": 357
        },
        "outputId": "8033dd75-88b4-4bde-debe-323b423fff80"
      },
      "cell_type": "code",
      "source": [
        "# 잘못 예측한 카테고리 중 인권/성평등 카테고리가 가장 많습니다.\n",
        "predict_incorrect_value.plot(kind='bar')"
      ],
      "execution_count": 0,
      "outputs": [
        {
          "output_type": "execute_result",
          "data": {
            "text/plain": [
              "<matplotlib.axes._subplots.AxesSubplot at 0x7f91b2c8b4e0>"
            ]
          },
          "metadata": {
            "tags": []
          },
          "execution_count": 118
        },
        {
          "output_type": "display_data",
          "data": {
            "image/png": "[encoded data removed]",
            "text/plain": [
              "<matplotlib.figure.Figure at 0x7f91b5164c18>"
            ]
          },
          "metadata": {
            "tags": [],
            "image/png": {
              "width": 373,
              "height": 323
            }
          }
        }
      ]
    },
    {
      "metadata": {
        "id": "Bfmkoiaypmat",
        "colab_type": "text"
      },
      "cell_type": "markdown",
      "source": [
        "# 왜 예측의 정확도가 낮을까요?\n",
        "* 청원을 입력하는 사람마다 카테고리 분류 기준이 정확하지 않은 것 같습니다.\n",
        "* 기타로 예측한 분류도 특정 카테고리로 분류해도 될 것으로 보여집니다."
      ]
    },
    {
      "metadata": {
        "id": "s1ajWz8ypmat",
        "colab_type": "code",
        "colab": {
          "base_uri": "https://localhost:8080/",
          "height": 529
        },
        "outputId": "b9e8c966-3a4a-435a-ce09-9e6b339fe301"
      },
      "cell_type": "code",
      "source": [
        "predict_incorrect[['category', 'category_pred', 'title', 'content']].head(10)"
      ],
      "execution_count": 0,
      "outputs": [
        {
          "output_type": "execute_result",
          "data": {
            "text/html": [
              "<div>\n",
              "<style scoped>\n",
              "    .dataframe tbody tr th:only-of-type {\n",
              "        vertical-align: middle;\n",
              "    }\n",
              "\n",
              "    .dataframe tbody tr th {\n",
              "        vertical-align: top;\n",
              "    }\n",
              "\n",
              "    .dataframe thead th {\n",
              "        text-align: right;\n",
              "    }\n",
              "</style>\n",
              "<table border=\"1\" class=\"dataframe\">\n",
              "  <thead>\n",
              "    <tr style=\"text-align: right;\">\n",
              "      <th></th>\n",
              "      <th>category</th>\n",
              "      <th>category_pred</th>\n",
              "      <th>title</th>\n",
              "      <th>content</th>\n",
              "    </tr>\n",
              "  </thead>\n",
              "  <tbody>\n",
              "    <tr>\n",
              "      <th>179796</th>\n",
              "      <td>문화/예술/체육/언론</td>\n",
              "      <td>교통/건축/국토</td>\n",
              "      <td>만민중앙교회 이재록 목사 공정조사 청원</td>\n",
              "      <td>만민중앙교회 당회장 이재록 목사님에 대한 거짓 증언과 거짓 보도에 대한 공정한 조사...</td>\n",
              "    </tr>\n",
              "    <tr>\n",
              "      <th>179842</th>\n",
              "      <td>인권/성평등</td>\n",
              "      <td>반려동물</td>\n",
              "      <td>신안염전노예사건의 전면 재수사와,  당시 솜방망이 판결을 내린 판사들에 대한 처벌을...</td>\n",
              "      <td>5월5일 그것이 알고싶다에 나온 신안 염전 노예사건 방송은 충격 또 충격입니다\\n신...</td>\n",
              "    </tr>\n",
              "    <tr>\n",
              "      <th>180244</th>\n",
              "      <td>인권/성평등</td>\n",
              "      <td>경제민주화</td>\n",
              "      <td>강제적으로 제출한 취하장으로 인해 가해자를 제대로 처벌하지 못하는 점 개선시키고 싶...</td>\n",
              "      <td>안녕하세요. 제가 올린 청원글이 분량이 길고 부족한 점이 많더라도 끝까지 정독하여 ...</td>\n",
              "    </tr>\n",
              "    <tr>\n",
              "      <th>180246</th>\n",
              "      <td>정치개혁</td>\n",
              "      <td>보건복지</td>\n",
              "      <td>뇌물수뢰 의혹이 있는 부패한 정치인 최대호 더불어민주당 안양시장 후보의 자격 박탈을...</td>\n",
              "      <td>최대호 더불어민주당 안양시장 후보는 안양시장 재직(2010년 7월~2014년 6월)...</td>\n",
              "    </tr>\n",
              "    <tr>\n",
              "      <th>180330</th>\n",
              "      <td>정치개혁</td>\n",
              "      <td>안전/환경</td>\n",
              "      <td>국회해산 및 재구성</td>\n",
              "      <td>4월 한 달을 꼬박~!!!\\n단 한 번의 회의도,\\n단 한 건의 법안도 처리하지 않...</td>\n",
              "    </tr>\n",
              "    <tr>\n",
              "      <th>180333</th>\n",
              "      <td>육아/교육</td>\n",
              "      <td>인권/성평등</td>\n",
              "      <td>프랑스처럼  청소년 스마트폰 금지령을  법으로  제정헤주세요,,</td>\n",
              "      <td>우리의 청소년을   핸드폰의  노예가 되지않게 해주세요..\\n올 가을부터  프랑스에...</td>\n",
              "    </tr>\n",
              "    <tr>\n",
              "      <th>180420</th>\n",
              "      <td>반려동물</td>\n",
              "      <td>안전/환경</td>\n",
              "      <td>반려동물 병원비를 현실적이고 일정하게 정부에서 책정해주세요.반려인들이 힘듭니다.</td>\n",
              "      <td>반려동물이 아파 동물병원에서 진료후 진료비 청구내역에 기절 할뻔 하였습니다.\\n병원...</td>\n",
              "    </tr>\n",
              "    <tr>\n",
              "      <th>180544</th>\n",
              "      <td>교통/건축/국토</td>\n",
              "      <td>경제민주화</td>\n",
              "      <td>분양대행업에관한 건설면허</td>\n",
              "      <td>분양대행을 하기위해서는 건설면허를 해야한다는데 분양대행이랑 건설면허는 아무 상관도 ...</td>\n",
              "    </tr>\n",
              "    <tr>\n",
              "      <th>180707</th>\n",
              "      <td>안전/환경</td>\n",
              "      <td>육아/교육</td>\n",
              "      <td>5월 8일 어버이날 아이를 떠나 보내야 했습니다. 특별사면 재검토 청원합니다.</td>\n",
              "      <td>특별사면에 대한 재검토 요청합니다!\\n아울러 교통사고처리 특례법에 대한 개정 요청드...</td>\n",
              "    </tr>\n",
              "    <tr>\n",
              "      <th>180745</th>\n",
              "      <td>정치개혁</td>\n",
              "      <td>육아/교육</td>\n",
              "      <td>대구시장 권영진의 선거법 무시 및 무능한 선관위를 철저히 조사해 징계해 주십시오</td>\n",
              "      <td>대구시장 권영진은 대구에서 자신의 직위를 이용하여 대구 선관위를 좌지우지 할 수 있...</td>\n",
              "    </tr>\n",
              "  </tbody>\n",
              "</table>\n",
              "</div>"
            ],
            "text/plain": [
              "           category category_pred  \\\n",
              "179796  문화/예술/체육/언론      교통/건축/국토   \n",
              "179842       인권/성평등          반려동물   \n",
              "180244       인권/성평등         경제민주화   \n",
              "180246         정치개혁          보건복지   \n",
              "180330         정치개혁         안전/환경   \n",
              "180333        육아/교육        인권/성평등   \n",
              "180420         반려동물         안전/환경   \n",
              "180544     교통/건축/국토         경제민주화   \n",
              "180707        안전/환경         육아/교육   \n",
              "180745         정치개혁         육아/교육   \n",
              "\n",
              "                                                    title  \\\n",
              "179796                              만민중앙교회 이재록 목사 공정조사 청원   \n",
              "179842  신안염전노예사건의 전면 재수사와,  당시 솜방망이 판결을 내린 판사들에 대한 처벌을...   \n",
              "180244  강제적으로 제출한 취하장으로 인해 가해자를 제대로 처벌하지 못하는 점 개선시키고 싶...   \n",
              "180246  뇌물수뢰 의혹이 있는 부패한 정치인 최대호 더불어민주당 안양시장 후보의 자격 박탈을...   \n",
              "180330                                         국회해산 및 재구성   \n",
              "180333                프랑스처럼  청소년 스마트폰 금지령을  법으로  제정헤주세요,,   \n",
              "180420       반려동물 병원비를 현실적이고 일정하게 정부에서 책정해주세요.반려인들이 힘듭니다.   \n",
              "180544                                      분양대행업에관한 건설면허   \n",
              "180707        5월 8일 어버이날 아이를 떠나 보내야 했습니다. 특별사면 재검토 청원합니다.   \n",
              "180745       대구시장 권영진의 선거법 무시 및 무능한 선관위를 철저히 조사해 징계해 주십시오   \n",
              "\n",
              "                                                  content  \n",
              "179796  만민중앙교회 당회장 이재록 목사님에 대한 거짓 증언과 거짓 보도에 대한 공정한 조사...  \n",
              "179842  5월5일 그것이 알고싶다에 나온 신안 염전 노예사건 방송은 충격 또 충격입니다\\n신...  \n",
              "180244  안녕하세요. 제가 올린 청원글이 분량이 길고 부족한 점이 많더라도 끝까지 정독하여 ...  \n",
              "180246  최대호 더불어민주당 안양시장 후보는 안양시장 재직(2010년 7월~2014년 6월)...  \n",
              "180330  4월 한 달을 꼬박~!!!\\n단 한 번의 회의도,\\n단 한 건의 법안도 처리하지 않...  \n",
              "180333  우리의 청소년을   핸드폰의  노예가 되지않게 해주세요..\\n올 가을부터  프랑스에...  \n",
              "180420  반려동물이 아파 동물병원에서 진료후 진료비 청구내역에 기절 할뻔 하였습니다.\\n병원...  \n",
              "180544  분양대행을 하기위해서는 건설면허를 해야한다는데 분양대행이랑 건설면허는 아무 상관도 ...  \n",
              "180707  특별사면에 대한 재검토 요청합니다!\\n아울러 교통사고처리 특례법에 대한 개정 요청드...  \n",
              "180745  대구시장 권영진은 대구에서 자신의 직위를 이용하여 대구 선관위를 좌지우지 할 수 있...  "
            ]
          },
          "metadata": {
            "tags": []
          },
          "execution_count": 119
        }
      ]
    },
    {
      "metadata": {
        "id": "v_0d51x9pmaw",
        "colab_type": "text"
      },
      "cell_type": "markdown",
      "source": [
        "## 원래 데이터 중 기타로 분류되었으나 분류기가 다르게 예측한 청원을 봅니다."
      ]
    },
    {
      "metadata": {
        "id": "cV2fzQWypmax",
        "colab_type": "code",
        "colab": {
          "base_uri": "https://localhost:8080/",
          "height": 529
        },
        "outputId": "5f379243-fc0f-4387-fadd-bbd053d75b39"
      },
      "cell_type": "code",
      "source": [
        "predict_incorrect_etc = predict_incorrect.loc[predict_incorrect['category'] == '기타'].copy()\n",
        "predict_incorrect_etc[['category', 'category_pred', 'title', 'content']].head(10)"
      ],
      "execution_count": 0,
      "outputs": [
        {
          "output_type": "execute_result",
          "data": {
            "text/html": [
              "<div>\n",
              "<style scoped>\n",
              "    .dataframe tbody tr th:only-of-type {\n",
              "        vertical-align: middle;\n",
              "    }\n",
              "\n",
              "    .dataframe tbody tr th {\n",
              "        vertical-align: top;\n",
              "    }\n",
              "\n",
              "    .dataframe thead th {\n",
              "        text-align: right;\n",
              "    }\n",
              "</style>\n",
              "<table border=\"1\" class=\"dataframe\">\n",
              "  <thead>\n",
              "    <tr style=\"text-align: right;\">\n",
              "      <th></th>\n",
              "      <th>category</th>\n",
              "      <th>category_pred</th>\n",
              "      <th>title</th>\n",
              "      <th>content</th>\n",
              "    </tr>\n",
              "  </thead>\n",
              "  <tbody>\n",
              "    <tr>\n",
              "      <th>345</th>\n",
              "      <td>기타</td>\n",
              "      <td>반려동물</td>\n",
              "      <td>문재인 대통령 기념 시계도 판매하라.</td>\n",
              "      <td>문재인 대통령 싸인이 들어간 기념 시계를 판매용으로 전환하여 주세요. SNS상의 국...</td>\n",
              "    </tr>\n",
              "    <tr>\n",
              "      <th>487</th>\n",
              "      <td>기타</td>\n",
              "      <td>정치개혁</td>\n",
              "      <td>2017년 10월 원천세 신고기한 및 9월분 전자세금계산서 발행기한일을 10월 13...</td>\n",
              "      <td>2017년 추석연휴 및 10월 2일 임시공휴일 지정이 확정됨에 따라 10월 초에 법...</td>\n",
              "    </tr>\n",
              "    <tr>\n",
              "      <th>12747</th>\n",
              "      <td>기타</td>\n",
              "      <td>정치개혁</td>\n",
              "      <td>억울한죽음으로 돌아가신 고 이길연집배원의 순직을요구합니다</td>\n",
              "      <td>9월5일 서광주우체국에 근속중이신 고 이길연집배원 저희아버지가 자택에서 홀로목숨을끈...</td>\n",
              "    </tr>\n",
              "    <tr>\n",
              "      <th>15456</th>\n",
              "      <td>기타</td>\n",
              "      <td>인권/성평등</td>\n",
              "      <td>화훼도매시장 출입에 대한 출입증 발급을 청원합니다</td>\n",
              "      <td>화훼쪽에 종사하고 있는 사람입니다\\n김영란법이 터지고 나서 뉴스를 보면 양재화훼시장...</td>\n",
              "    </tr>\n",
              "    <tr>\n",
              "      <th>17150</th>\n",
              "      <td>기타</td>\n",
              "      <td>안전/환경</td>\n",
              "      <td>TNS홀딩스 강태욱 대표 사기 횡령 사건 해결을 부탁드립니다.</td>\n",
              "      <td>안녕하세요\\n영등포구에 거주하는 30살 직장인입니다.\\n2014년부터 알고지낸 재무...</td>\n",
              "    </tr>\n",
              "    <tr>\n",
              "      <th>19072</th>\n",
              "      <td>기타</td>\n",
              "      <td>안전/환경</td>\n",
              "      <td>'일간베스트'사이트를 폐지해주세요</td>\n",
              "      <td>국민들을 불편하게하고, 주변에 민폐를 끼치기로 유명한 일베는 사회적이슈로도 자주 떠...</td>\n",
              "    </tr>\n",
              "    <tr>\n",
              "      <th>22162</th>\n",
              "      <td>기타</td>\n",
              "      <td>보건복지</td>\n",
              "      <td>경찰들의 성교육 이수 및 가중처벌</td>\n",
              "      <td>최근 경찰의 성폭행 성추행 성희롱등 그 주체가 범죄를 다루고 있는 경찰이된 사건들이...</td>\n",
              "    </tr>\n",
              "    <tr>\n",
              "      <th>22375</th>\n",
              "      <td>기타</td>\n",
              "      <td>경제민주화</td>\n",
              "      <td>튜닝카 법 개정</td>\n",
              "      <td>차량튜닝에대한 법 개정이 필요할것같습니다. 요즘 튜닝사업이 확대되는 시대 입니다. ...</td>\n",
              "    </tr>\n",
              "    <tr>\n",
              "      <th>22551</th>\n",
              "      <td>기타</td>\n",
              "      <td>육아/교육</td>\n",
              "      <td>을지대학교병원지부 노동조합 파업사태 해결 촉구</td>\n",
              "      <td>문재인 대통령께\\n안녕하세요 대통령님, 저는 대전 을지대학교병원에 근무하는 병원노동...</td>\n",
              "    </tr>\n",
              "    <tr>\n",
              "      <th>23292</th>\n",
              "      <td>기타</td>\n",
              "      <td>반려동물</td>\n",
              "      <td>우리나라 법은 도대체 누구를 위한 법입니까 법 개선과 피해자를 위한 제도마련이 필요...</td>\n",
              "      <td>안녕하세요 .\\n오늘도 국민들을 위해 나라에 힘써주시느라 너무나 고생이 많으십니다....</td>\n",
              "    </tr>\n",
              "  </tbody>\n",
              "</table>\n",
              "</div>"
            ],
            "text/plain": [
              "      category category_pred  \\\n",
              "345         기타          반려동물   \n",
              "487         기타          정치개혁   \n",
              "12747       기타          정치개혁   \n",
              "15456       기타        인권/성평등   \n",
              "17150       기타         안전/환경   \n",
              "19072       기타         안전/환경   \n",
              "22162       기타          보건복지   \n",
              "22375       기타         경제민주화   \n",
              "22551       기타         육아/교육   \n",
              "23292       기타          반려동물   \n",
              "\n",
              "                                                   title  \\\n",
              "345                                 문재인 대통령 기념 시계도 판매하라.   \n",
              "487    2017년 10월 원천세 신고기한 및 9월분 전자세금계산서 발행기한일을 10월 13...   \n",
              "12747                    억울한죽음으로 돌아가신 고 이길연집배원의 순직을요구합니다   \n",
              "15456                        화훼도매시장 출입에 대한 출입증 발급을 청원합니다   \n",
              "17150                 TNS홀딩스 강태욱 대표 사기 횡령 사건 해결을 부탁드립니다.   \n",
              "19072                                 '일간베스트'사이트를 폐지해주세요   \n",
              "22162                                 경찰들의 성교육 이수 및 가중처벌   \n",
              "22375                                           튜닝카 법 개정   \n",
              "22551                          을지대학교병원지부 노동조합 파업사태 해결 촉구   \n",
              "23292  우리나라 법은 도대체 누구를 위한 법입니까 법 개선과 피해자를 위한 제도마련이 필요...   \n",
              "\n",
              "                                                 content  \n",
              "345    문재인 대통령 싸인이 들어간 기념 시계를 판매용으로 전환하여 주세요. SNS상의 국...  \n",
              "487    2017년 추석연휴 및 10월 2일 임시공휴일 지정이 확정됨에 따라 10월 초에 법...  \n",
              "12747  9월5일 서광주우체국에 근속중이신 고 이길연집배원 저희아버지가 자택에서 홀로목숨을끈...  \n",
              "15456  화훼쪽에 종사하고 있는 사람입니다\\n김영란법이 터지고 나서 뉴스를 보면 양재화훼시장...  \n",
              "17150  안녕하세요\\n영등포구에 거주하는 30살 직장인입니다.\\n2014년부터 알고지낸 재무...  \n",
              "19072  국민들을 불편하게하고, 주변에 민폐를 끼치기로 유명한 일베는 사회적이슈로도 자주 떠...  \n",
              "22162  최근 경찰의 성폭행 성추행 성희롱등 그 주체가 범죄를 다루고 있는 경찰이된 사건들이...  \n",
              "22375  차량튜닝에대한 법 개정이 필요할것같습니다. 요즘 튜닝사업이 확대되는 시대 입니다. ...  \n",
              "22551  문재인 대통령께\\n안녕하세요 대통령님, 저는 대전 을지대학교병원에 근무하는 병원노동...  \n",
              "23292  안녕하세요 .\\n오늘도 국민들을 위해 나라에 힘써주시느라 너무나 고생이 많으십니다....  "
            ]
          },
          "metadata": {
            "tags": []
          },
          "execution_count": 120
        }
      ]
    },
    {
      "metadata": {
        "id": "o9CnFJ4opmaz",
        "colab_type": "code",
        "colab": {
          "base_uri": "https://localhost:8080/",
          "height": 34
        },
        "outputId": "08f75e2b-ba9a-4e56-be6f-76f31ba70316"
      },
      "cell_type": "code",
      "source": [
        "acc = ( pred_diff[1] / y_pred.shape[0] )*100 \n",
        "print('예측 비율 {}'.format(acc))"
      ],
      "execution_count": 0,
      "outputs": [
        {
          "output_type": "stream",
          "text": [
            "예측 비율 8.12603648424544\n"
          ],
          "name": "stdout"
        }
      ]
    },
    {
      "metadata": {
        "id": "U_cZh_2spma5",
        "colab_type": "code",
        "colab": {
          "base_uri": "https://localhost:8080/",
          "height": 34
        },
        "outputId": "5bb0e86b-089d-4a93-8c38-64f3efa13fce"
      },
      "cell_type": "code",
      "source": [
        "acc = ( pred_diff_xgb[1] / y_pred_xgb.shape[0] )*100 \n",
        "print('예측 비율 {}'.format(acc))"
      ],
      "execution_count": 0,
      "outputs": [
        {
          "output_type": "stream",
          "text": [
            "예측 비율 7.2968490878938645\n"
          ],
          "name": "stdout"
        }
      ]
    },
    {
      "metadata": {
        "id": "cMtPemA6pma6",
        "colab_type": "code",
        "colab": {}
      },
      "cell_type": "code",
      "source": [
        ""
      ],
      "execution_count": 0,
      "outputs": []
    }
  ]
}
